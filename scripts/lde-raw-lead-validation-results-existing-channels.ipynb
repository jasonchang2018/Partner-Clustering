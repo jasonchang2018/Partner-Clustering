{
 "cells": [
  {
   "cell_type": "code",
   "execution_count": 2,
   "metadata": {
    "ExecuteTime": {
     "end_time": "2020-03-24T17:46:26.474387Z",
     "start_time": "2020-03-24T17:46:23.889Z"
    }
   },
   "outputs": [
    {
     "data": {
      "text/html": [
       "<dl class=dl-horizontal>\n",
       "\t<dt>RPostgreSQL</dt>\n",
       "\t\t<dd>TRUE</dd>\n",
       "\t<dt>RPostgres</dt>\n",
       "\t\t<dd>TRUE</dd>\n",
       "\t<dt>RJDBC</dt>\n",
       "\t\t<dd>TRUE</dd>\n",
       "\t<dt>httr</dt>\n",
       "\t\t<dd>TRUE</dd>\n",
       "\t<dt>jsonlite</dt>\n",
       "\t\t<dd>TRUE</dd>\n",
       "\t<dt>googlesheets</dt>\n",
       "\t\t<dd>TRUE</dd>\n",
       "\t<dt>tidyverse</dt>\n",
       "\t\t<dd>TRUE</dd>\n",
       "\t<dt>tidyr</dt>\n",
       "\t\t<dd>TRUE</dd>\n",
       "\t<dt>dplyr</dt>\n",
       "\t\t<dd>TRUE</dd>\n",
       "\t<dt>lubridate</dt>\n",
       "\t\t<dd>TRUE</dd>\n",
       "\t<dt>stringr</dt>\n",
       "\t\t<dd>TRUE</dd>\n",
       "\t<dt>ggplot2</dt>\n",
       "\t\t<dd>TRUE</dd>\n",
       "\t<dt>ggpubr</dt>\n",
       "\t\t<dd>TRUE</dd>\n",
       "\t<dt>cowplot</dt>\n",
       "\t\t<dd>TRUE</dd>\n",
       "\t<dt>rJava</dt>\n",
       "\t\t<dd>TRUE</dd>\n",
       "\t<dt>mailR</dt>\n",
       "\t\t<dd>TRUE</dd>\n",
       "\t<dt>devtools</dt>\n",
       "\t\t<dd>TRUE</dd>\n",
       "\t<dt>roxygen2</dt>\n",
       "\t\t<dd>TRUE</dd>\n",
       "</dl>\n"
      ],
      "text/latex": [
       "\\begin{description*}\n",
       "\\item[RPostgreSQL] TRUE\n",
       "\\item[RPostgres] TRUE\n",
       "\\item[RJDBC] TRUE\n",
       "\\item[httr] TRUE\n",
       "\\item[jsonlite] TRUE\n",
       "\\item[googlesheets] TRUE\n",
       "\\item[tidyverse] TRUE\n",
       "\\item[tidyr] TRUE\n",
       "\\item[dplyr] TRUE\n",
       "\\item[lubridate] TRUE\n",
       "\\item[stringr] TRUE\n",
       "\\item[ggplot2] TRUE\n",
       "\\item[ggpubr] TRUE\n",
       "\\item[cowplot] TRUE\n",
       "\\item[rJava] TRUE\n",
       "\\item[mailR] TRUE\n",
       "\\item[devtools] TRUE\n",
       "\\item[roxygen2] TRUE\n",
       "\\end{description*}\n"
      ],
      "text/markdown": [
       "RPostgreSQL\n",
       ":   TRUERPostgres\n",
       ":   TRUERJDBC\n",
       ":   TRUEhttr\n",
       ":   TRUEjsonlite\n",
       ":   TRUEgooglesheets\n",
       ":   TRUEtidyverse\n",
       ":   TRUEtidyr\n",
       ":   TRUEdplyr\n",
       ":   TRUElubridate\n",
       ":   TRUEstringr\n",
       ":   TRUEggplot2\n",
       ":   TRUEggpubr\n",
       ":   TRUEcowplot\n",
       ":   TRUErJava\n",
       ":   TRUEmailR\n",
       ":   TRUEdevtools\n",
       ":   TRUEroxygen2\n",
       ":   TRUE\n",
       "\n"
      ],
      "text/plain": [
       " RPostgreSQL    RPostgres        RJDBC         httr     jsonlite googlesheets \n",
       "        TRUE         TRUE         TRUE         TRUE         TRUE         TRUE \n",
       "   tidyverse        tidyr        dplyr    lubridate      stringr      ggplot2 \n",
       "        TRUE         TRUE         TRUE         TRUE         TRUE         TRUE \n",
       "      ggpubr      cowplot        rJava        mailR     devtools     roxygen2 \n",
       "        TRUE         TRUE         TRUE         TRUE         TRUE         TRUE "
      ]
     },
     "metadata": {},
     "output_type": "display_data"
    }
   ],
   "source": [
    "library(opploansanalytics)\n",
    "load.packages()"
   ]
  },
  {
   "cell_type": "code",
   "execution_count": 3,
   "metadata": {
    "ExecuteTime": {
     "end_time": "2020-03-24T17:46:26.499325Z",
     "start_time": "2020-03-24T17:46:24.244Z"
    },
    "code_folding": []
   },
   "outputs": [],
   "source": [
    "getLeads = function (admethod) {\n",
    "    \n",
    "    queryReporting(paste0(\n",
    "\"\n",
    "select\n",
    "    lde.lead_id\n",
    "    , lde.lead_time\n",
    "    , lde.raw_lead ->> 'campaign_id' as campaign_id\n",
    "    , lde.accepted\n",
    "    , p_ap.denygrp\n",
    "from\n",
    "    lde4.leads as lde\n",
    "    inner join\n",
    "        cloudlending.advertising_method as c_adm\n",
    "        on lde.partnerid = c_adm.external_id\n",
    "        and c_adm.name = '\" ,admethod, \"'\n",
    "    left join\n",
    "        cloudlending.applications as c_app\n",
    "        on lde.lead_id = c_app.lde4_lead_id\n",
    "    left join\n",
    "        public.all_allapps as p_ap\n",
    "        on c_app.name = p_ap.loanid\n",
    "where\n",
    "    lde.lead_time >= '2020-01-01'::date       \n",
    "\"\n",
    "    )) %>% \n",
    "    mutate(\n",
    "        lead.day = lead_time %>% as.Date(),\n",
    "        app = !is.na(denygrp),\n",
    "        qualified = !is.na(denygrp) & !denygrp %in% c('1BusRle', '2Bureau'),\n",
    "        funded = !is.na(denygrp) & denygrp == '9Apprve'\n",
    "    )\n",
    "    \n",
    "}"
   ]
  },
  {
   "cell_type": "code",
   "execution_count": 4,
   "metadata": {
    "ExecuteTime": {
     "end_time": "2020-03-24T17:46:26.528266Z",
     "start_time": "2020-03-24T17:46:24.612Z"
    },
    "code_folding": [
     0
    ]
   },
   "outputs": [],
   "source": [
    "plotLeadMetrics = function (admethod.df, admethod.name, metric.quo, coord.ratio = 200) {\n",
    "    \n",
    "    theme_set(theme_bw())\n",
    "    admethod.df %>% \n",
    "        group_by(\n",
    "            lead.day\n",
    "        ) %>% \n",
    "        summarize(\n",
    "            accept.rate = sum(accepted)/n(),\n",
    "            app.rate = sum(app)/sum(accepted),\n",
    "            qualified.rate = sum(qualified)/sum(app),\n",
    "            funding.rate = sum(funded)/sum(qualified),\n",
    "            accept.to.fund = sum(funded)/sum(accepted)\n",
    "        ) %>% \n",
    "        ggplot(\n",
    "            mapping = aes(\n",
    "                x = lead.day,\n",
    "                y = !!metric.quo\n",
    "            )\n",
    "        ) +\n",
    "        geom_point(\n",
    "            color = case_when(\n",
    "                quo_name(metric.quo) == 'funding.rate' ~ '#F8766D',\n",
    "                quo_name(metric.quo) == 'qualified.rate' ~ '#00B81F',\n",
    "                quo_name(metric.quo) == 'app.rate' ~ '#BB9D00',\n",
    "                quo_name(metric.quo) == 'accept.rate' ~ '#00A5FF',\n",
    "                quo_name(metric.quo) == 'accept.to.fund' ~ '#AC88FF',\n",
    "            )\n",
    "        ) +\n",
    "        geom_line(\n",
    "            color = case_when(\n",
    "                quo_name(metric.quo) == 'funding.rate' ~ '#F8766D',\n",
    "                quo_name(metric.quo) == 'qualified.rate' ~ '#00B81F',\n",
    "                quo_name(metric.quo) == 'app.rate' ~ '#BB9D00',\n",
    "                quo_name(metric.quo) == 'accept.rate' ~ '#00A5FF',\n",
    "                quo_name(metric.quo) == 'accept.to.fund' ~ '#AC88FF',\n",
    "            )\n",
    "        ) +\n",
    "        scale_y_continuous(\n",
    "            labels = scales::percent\n",
    "        ) +\n",
    "        labs(\n",
    "            title = paste(\n",
    "                admethod.name,\n",
    "                '-',\n",
    "                quo_name(metric.quo) %>% \n",
    "                    str_replace_all(\n",
    "                        pattern = \"\\\\.\",\n",
    "                        replacement = \" \"\n",
    "                    ) %>% \n",
    "                    str_to_title(\n",
    "                    )\n",
    "            )\n",
    "#         ) +\n",
    "#         coord_fixed(\n",
    "#             coord.ratio\n",
    "        )\n",
    "    \n",
    "}"
   ]
  },
  {
   "cell_type": "code",
   "execution_count": 5,
   "metadata": {
    "ExecuteTime": {
     "end_time": "2020-03-24T17:46:26.552201Z",
     "start_time": "2020-03-24T17:46:24.990Z"
    },
    "code_folding": [
     0
    ]
   },
   "outputs": [],
   "source": [
    "getAllPlots = function (admethod.name) {\n",
    "    \n",
    "    metrics = c(\n",
    "        'funding.rate',\n",
    "        'qualified.rate',\n",
    "        'app.rate',\n",
    "        'accept.rate',\n",
    "        'accept.to.fund'\n",
    "    )\n",
    "    \n",
    "    assign(\n",
    "        x = admethod.name,\n",
    "        value = getLeads(admethod.name),\n",
    "        envir = .GlobalEnv\n",
    "    )\n",
    "    \n",
    "    \n",
    "    list(\n",
    "        funding.rate = get(admethod.name) %>%\n",
    "            plotLeadMetrics(\n",
    "                admethod.name = admethod.name,\n",
    "                metric.quo = quo(funding.rate)\n",
    "            ),\n",
    "        \n",
    "        qualified.rate = get(admethod.name) %>%\n",
    "            plotLeadMetrics(\n",
    "                admethod.name = admethod.name,\n",
    "                metric.quo = quo(qualified.rate)\n",
    "            ),\n",
    "        \n",
    "        app.rate = get(admethod.name) %>%\n",
    "            plotLeadMetrics(\n",
    "                admethod.name = admethod.name,\n",
    "                metric.quo = quo(app.rate)\n",
    "            ),\n",
    "        \n",
    "        accept.rate = get(admethod.name) %>%\n",
    "            plotLeadMetrics(\n",
    "                admethod.name = admethod.name,\n",
    "                metric.quo = quo(accept.rate)\n",
    "            ),\n",
    "        \n",
    "        accept.to.fund = get(admethod.name) %>%\n",
    "            plotLeadMetrics(\n",
    "                admethod.name = admethod.name,\n",
    "                metric.quo = quo(accept.to.fund)\n",
    "            )\n",
    "        \n",
    "    )\n",
    "    \n",
    "}"
   ]
  },
  {
   "cell_type": "markdown",
   "metadata": {},
   "source": [
    "# End Metrics"
   ]
  },
  {
   "cell_type": "code",
   "execution_count": 6,
   "metadata": {
    "ExecuteTime": {
     "end_time": "2020-03-24T17:47:52.656839Z",
     "start_time": "2020-03-24T17:46:25.898Z"
    }
   },
   "outputs": [],
   "source": [
    "lenderedge = getAllPlots('LenderEdge 4')\n",
    "# monevo = getAllPlots('Monevo')\n",
    "# evenfinancial = getAllPlots('Even Financial 4')\n",
    "# leadgroup = getAllPlots('LeadGroup')\n",
    "# leaptheory = getAllPlots('LeapTheory 4')\n",
    "# leadzoom = getAllPlots('LeadZoom 4')\n",
    "# barrelhead = getAllPlots('Barrelhead 4')\n",
    "# personalloans = getAllPlots('PersonalLoans.com 4')"
   ]
  },
  {
   "cell_type": "code",
   "execution_count": 7,
   "metadata": {
    "ExecuteTime": {
     "end_time": "2020-03-24T17:47:53.876952Z",
     "start_time": "2020-03-24T17:46:26.191Z"
    },
    "scrolled": false
   },
   "outputs": [
    {
     "data": {
      "image/png": "[encoded data removed]",
      "text/plain": [
       "plot without title"
      ]
     },
     "metadata": {},
     "output_type": "display_data"
    },
    {
     "data": {
      "image/png": "[encoded data removed]",
      "text/plain": [
       "plot without title"
      ]
     },
     "metadata": {},
     "output_type": "display_data"
    },
    {
     "data": {
      "image/png": "[encoded data removed]",
      "text/plain": [
       "plot without title"
      ]
     },
     "metadata": {},
     "output_type": "display_data"
    },
    {
     "data": {
      "text/plain": [
       "$funding.rate\n",
       "\n",
       "$qualified.rate\n",
       "\n",
       "$app.rate\n",
       "\n",
       "$accept.rate\n",
       "\n",
       "$accept.to.fund\n"
      ]
     },
     "metadata": {},
     "output_type": "display_data"
    },
    {
     "data": {
      "image/png": "[encoded data removed]",
      "text/plain": [
       "plot without title"
      ]
     },
     "metadata": {},
     "output_type": "display_data"
    },
    {
     "data": {
      "image/png": "[encoded data removed]",
      "text/plain": [
       "plot without title"
      ]
     },
     "metadata": {},
     "output_type": "display_data"
    }
   ],
   "source": [
    "lenderedge\n",
    "# monevo\n",
    "# evenfinancial\n",
    "# leadgroup\n",
    "# leaptheory\n",
    "# leadzoom\n",
    "# barrelhead\n",
    "# personalloans"
   ]
  },
  {
   "cell_type": "markdown",
   "metadata": {},
   "source": [
    "# Payload Validations"
   ]
  },
  {
   "cell_type": "markdown",
   "metadata": {},
   "source": [
    "### Get Payloads"
   ]
  },
  {
   "cell_type": "code",
   "execution_count": null,
   "metadata": {
    "code_folding": [
     0
    ]
   },
   "outputs": [],
   "source": [
    "getPayloads = function (timestart = '2020-02-28', timeend = '2020-03-02', admethod, limit = NA) {\n",
    "    \n",
    "    queryReporting(paste0(\n",
    "    \"\n",
    "    select\n",
    "        *\n",
    "    from\n",
    "        lde4.leads as lde\n",
    "        inner join\n",
    "            cloudlending.advertising_method as c_adm\n",
    "            on lde.partnerid = c_adm.external_id\n",
    "            and c_adm.name = '\", admethod, \"'\n",
    "    where\n",
    "        lde.lead_time >= '\", timestart, \"'::date\n",
    "        and lde.lead_time < '\", timeend, \"'::date\n",
    "    \", ifelse(is.na(limit), \"\", paste0(\"limit \", limit)), \"\n",
    "    \"\n",
    "    ))\n",
    "    \n",
    "}"
   ]
  },
  {
   "cell_type": "code",
   "execution_count": null,
   "metadata": {},
   "outputs": [],
   "source": [
    "lenderedge.payloads = getPayloads(timestart = '2020-02-15', timeend = '2020-02-20', admethod = 'LenderEdge 4')\n",
    "# evenfinancial.payloads = getPayloads(timestart = '2020-03-17', timeend = '2020-03-18', admethod = 'Even Financial 4')\n",
    "# monevo.payloads = getPayloads(admethod = 'Monevo')\n",
    "# leadgroup.payloads = getPayloads(timestart = '2020-03-17', timeend = '2020-03-18', admethod = 'LeadGroup')\n",
    "# leaptheory.payloads = getPayloads(admethod = 'LeapTheory 4')\n",
    "# leadzoom.payloads = getPayloads(admethod = 'LeadZoom 4')\n",
    "# barrelhead.payloads = getPayloads(admethod = 'Barrelhead 4')\n",
    "# personalloans.payloads = getPayloads(admethod = 'PersonalLoans.com 4')"
   ]
  },
  {
   "cell_type": "markdown",
   "metadata": {},
   "source": [
    "### Confirm Changes\n",
    "- LenderEdge <b>did not</b> actually change how they handle null values.\n",
    "- LeadZoom <b>did</b> change how they pass quoted booleans. \n",
    "- PersonalLoans.com <b>did</b> change how they handle null values. \n",
    "- Barrelhead <b>did</b> change how they pass quoted integers. "
   ]
  },
  {
   "cell_type": "code",
   "execution_count": null,
   "metadata": {
    "code_folding": [
     0
    ]
   },
   "outputs": [],
   "source": [
    "# lenderedge.payloads %>%\n",
    "#     mutate(\n",
    "#         check = raw_lead %>% \n",
    "#             map(\n",
    "#                 .f = ~ .x %>% \n",
    "#                     str_match_all(\n",
    "#                         \"\\\\\\\"payrollType\\\\\\\":\\\\s?(.*?)[,\\\\}]\"\n",
    "# #                         \"\\\\\\\"payrollFrequency\\\\\\\":\\\\s?(.*?)[,\\\\}]\"\n",
    "# #                         \"\\\\\\\"lastPayrollDate\\\\\\\":\\\\s?(.*?)[,\\\\}]\"\n",
    "# #                         \"\\\\\\\"mobilePhone\\\\\\\":\\\\s?(.*?)[,\\\\}]\"\n",
    "#                     ) %>% .[[1]] %>% .[,2]\n",
    "#             ) %>% as.character()\n",
    "#     ) %>% \n",
    "#     group_by(\n",
    "#         check\n",
    "# #         nchar(check)\n",
    "#     ) %>% \n",
    "#     summarize(\n",
    "#         n = n()\n",
    "#     )"
   ]
  },
  {
   "cell_type": "code",
   "execution_count": null,
   "metadata": {
    "code_folding": [
     0
    ],
    "scrolled": false
   },
   "outputs": [],
   "source": [
    "# evenfinancial.payloads %>%\n",
    "#     mutate(\n",
    "#         check = raw_lead %>% \n",
    "#             map(\n",
    "#                 .f = ~ .x %>% \n",
    "#                     str_match_all(\n",
    "#                         \"\\\\\\\"payrollType\\\\\\\":\\\\s?(.*?)[,\\\\}]\"\n",
    "# #                         \"\\\\\\\"payrollFrequency\\\\\\\":\\\\s?(.*?)[,\\\\}]\"\n",
    "# #                         \"\\\\\\\"mobilephone\\\\\\\":\\\\s?(.*?)[,\\\\}]\"\n",
    "#                     ) %>% .[[1]] %>% .[,2]\n",
    "#             ) %>% as.character()\n",
    "#     ) %>% \n",
    "#     group_by(\n",
    "#         check\n",
    "# #         nchar(check)\n",
    "#     ) %>% \n",
    "#     summarize(\n",
    "#         n = n()\n",
    "#     )"
   ]
  },
  {
   "cell_type": "code",
   "execution_count": null,
   "metadata": {
    "code_folding": [
     0
    ],
    "scrolled": false
   },
   "outputs": [],
   "source": [
    "# monevo.payloads %>%\n",
    "#     mutate(\n",
    "#         check = raw_lead %>% \n",
    "#             map(\n",
    "#                 .f = ~ .x %>% \n",
    "#                     str_match_all(\n",
    "# #                         \"\\\\\\\"homephone\\\\\\\":\\\\s?(.*?)[,\\\\}]\"\n",
    "#                         \"\\\\\\\"payrollFrequency\\\\\\\":\\\\s?(.*?)[,\\\\}]\"\n",
    "# #                         \"\\\\\\\"requestedLoanAmount\\\\\\\":\\\\s?(.*?)[,\\\\}]\"\n",
    "#                     ) %>% .[[1]] %>% .[,2]\n",
    "#             ) %>% as.character()\n",
    "#     ) %>% \n",
    "#     group_by(\n",
    "#         check\n",
    "# #         nchar(check)\n",
    "#     ) %>% \n",
    "#     summarize(\n",
    "#         n = n()\n",
    "#     )"
   ]
  },
  {
   "cell_type": "code",
   "execution_count": null,
   "metadata": {
    "code_folding": [
     0
    ],
    "scrolled": false
   },
   "outputs": [],
   "source": [
    "# leadgroup.payloads %>%\n",
    "#     mutate(\n",
    "#         check = raw_lead %>% \n",
    "#             map(\n",
    "#                 .f = ~ .x %>% \n",
    "#                     str_match_all(\n",
    "#                         \"\\\\\\\"isProduction\\\\\\\":\\\\s?(.*?)[,\\\\}]\"\n",
    "# #                         \"\\\\\\\"incomeType\\\\\\\":\\\\s?(.*?)[,\\\\}]\"\n",
    "# #                         \"\\\\\\\"employerName\\\\\\\":\\\\s?(.*?)[,\\\\}]\"\n",
    "#                     ) %>% .[[1]] %>% .[,2]\n",
    "#             ) %>% as.character()\n",
    "#     ) %>% \n",
    "#     group_by(\n",
    "#         check\n",
    "# #         nchar(check)\n",
    "#     ) %>% \n",
    "#     summarize(\n",
    "#         n = n()\n",
    "#     )"
   ]
  },
  {
   "cell_type": "code",
   "execution_count": null,
   "metadata": {
    "code_folding": [
     0
    ],
    "scrolled": false
   },
   "outputs": [],
   "source": [
    "# leaptheory.payloads %>%\n",
    "#     mutate(\n",
    "#         check = raw_lead %>% \n",
    "#             map(\n",
    "#                 .f = ~ .x %>% \n",
    "#                     str_match_all(\n",
    "# #                         \"\\\\\\\"accountType\\\\\\\":\\\\s?(.*?)[,\\\\}]\"\n",
    "#                         \"\\\\\\\"accountLength\\\\\\\":\\\\s?(.*?)[,\\\\}]\"\n",
    "#                     ) %>% .[[1]] %>% .[,2]\n",
    "#             ) %>% as.character()\n",
    "#     ) %>% \n",
    "#     group_by(\n",
    "#         check\n",
    "# #         nchar(check)\n",
    "#     ) %>% \n",
    "#     summarize(\n",
    "#         n = n()\n",
    "#     )"
   ]
  },
  {
   "cell_type": "code",
   "execution_count": null,
   "metadata": {
    "code_folding": [
     0
    ],
    "scrolled": false
   },
   "outputs": [],
   "source": [
    "# leadzoom.payloads %>%\n",
    "#     mutate(\n",
    "#         check = raw_lead %>% \n",
    "#             map(\n",
    "#                 .f = ~ .x %>% \n",
    "#                     str_match_all(\n",
    "#                         \"\\\\\\\"isProduction\\\\\\\":\\\\s?(.*?)[,\\\\}]\"\n",
    "#                     ) %>% .[[1]] %>% .[,2]\n",
    "#             ) %>% as.character()\n",
    "#     ) %>% \n",
    "#     group_by(\n",
    "#         check\n",
    "# #         nchar(check)\n",
    "#     ) %>% \n",
    "#     summarize(\n",
    "#         n = n()\n",
    "#     )"
   ]
  },
  {
   "cell_type": "code",
   "execution_count": null,
   "metadata": {
    "code_folding": [
     0
    ],
    "scrolled": false
   },
   "outputs": [],
   "source": [
    "# barrelhead.payloads %>%\n",
    "#     mutate(\n",
    "#         check = raw_lead %>% \n",
    "#             map(\n",
    "#                 .f = ~ .x %>% \n",
    "#                     str_match_all(\n",
    "#                         \"\\\\\\\"payrollFrequency\\\\\\\":\\\\s?(.*?)[,\\\\}]\"\n",
    "# #                         \"\\\\\\\"grossMonthlyIncome\\\\\\\":\\\\s?(.*?)[,\\\\}]\"\n",
    "# #                         \"\\\\\\\"requestedLoanAmount\\\\\\\":\\\\s?(.*?)[,\\\\}]\"\n",
    "#                     ) %>% .[[1]] %>% .[,2]\n",
    "#             ) %>% as.character()\n",
    "#     ) %>% \n",
    "#     group_by(\n",
    "#         check\n",
    "# #         nchar(check)\n",
    "#     ) %>% \n",
    "#     summarize(\n",
    "#         n = n()\n",
    "#     )"
   ]
  },
  {
   "cell_type": "code",
   "execution_count": null,
   "metadata": {
    "code_folding": [
     0
    ],
    "scrolled": false
   },
   "outputs": [],
   "source": [
    "# personalloans.payloads %>%\n",
    "#     mutate(\n",
    "#         check = raw_lead %>% \n",
    "#             map(\n",
    "#                 .f = ~ .x %>% \n",
    "#                     str_match_all(\n",
    "#                         \"\\\\\\\"bankName\\\\\\\":\\\\s?(.*?)[,\\\\}]\"\n",
    "# #                         \"\\\\\\\"accountType\\\\\\\":\\\\s?(.*?)[,\\\\}]\"\n",
    "# #                         \"\\\\\\\"accountLength\\\\\\\":\\\\s?(.*?)[,\\\\}]\"\n",
    "# #                         \"\\\\\\\"accountNumber\\\\\\\":\\\\s?(.*?)[,\\\\}]\"\n",
    "# #                         \"\\\\\\\"abaRoutingNumber\\\\\\\":\\\\s?(.*?)[,\\\\}]\"\n",
    "# #                         \"\\\\\\\"lastPayrollDate\\\\\\\":\\\\s?(.*?)[,\\\\}]\"\n",
    "#                     ) %>% .[[1]] %>% .[,2]\n",
    "#             ) %>% as.character()\n",
    "#     ) %>% \n",
    "#     group_by(\n",
    "# #         check\n",
    "#         nchar(check)\n",
    "#     ) %>% \n",
    "#     summarize(\n",
    "#         n = n()\n",
    "#     )"
   ]
  },
  {
   "cell_type": "markdown",
   "metadata": {},
   "source": [
    "### Validating Parsing"
   ]
  },
  {
   "cell_type": "code",
   "execution_count": null,
   "metadata": {},
   "outputs": [],
   "source": []
  },
  {
   "cell_type": "code",
   "execution_count": null,
   "metadata": {},
   "outputs": [],
   "source": []
  },
  {
   "cell_type": "code",
   "execution_count": null,
   "metadata": {},
   "outputs": [],
   "source": []
  },
  {
   "cell_type": "markdown",
   "metadata": {},
   "source": [
    "# Reg Validations"
   ]
  },
  {
   "cell_type": "code",
   "execution_count": null,
   "metadata": {
    "code_folding": [
     0
    ]
   },
   "outputs": [],
   "source": [
    "getRegInputsAll = function (start.date = '2020-02-01', end.date = '2020-03-01', partner_id = NA, limit = NA) {\n",
    "        \n",
    "    raw.query = querySnowflake(paste0(\n",
    "        \"\n",
    "        select\n",
    "            reg.event_id\n",
    "            , reg.session_id\n",
    "            , reg.user_id\n",
    "            , users_.\\\"identity\\\" as contact\n",
    "            , reg.\\\"time\\\"\n",
    "            , reg.email\n",
    "            , reg.partner_id\n",
    "            , reg.neededinputs\n",
    "        from\n",
    "            heap_prod.heap._viewed_lead_registration_ as reg\n",
    "            inner join\n",
    "                ods_prod.cloudlending.advertising_method__c as c_am\n",
    "                on reg.partner_id = c_am.external_id__c\n",
    "                \", ifelse(is.na(partner_id), \"\", paste0(\"and c_am.external_id__c = \", partner_id)), \"\n",
    "            left join\n",
    "                heap_prod.heap.users as users_\n",
    "                on reg.user_id = users_.user_id\n",
    "        where\n",
    "            reg.\\\"time\\\" >= '\", start.date, \"'::date\n",
    "            and reg.\\\"time\\\" < '\", end.date, \"'::date\n",
    "        \", ifelse(is.na(limit), \"\", paste0(\"limit \", limit))\n",
    "    ))\n",
    "    colnames(raw.query) %<>% str_to_lower()\n",
    "    \n",
    "    \n",
    "    raw.query %>%\n",
    "        mutate(\n",
    "            fields = neededinputs %>%\n",
    "                map(\n",
    "                    .f = function (x) {\n",
    "                        x %>%\n",
    "                            str_match_all(\n",
    "                                pattern = regex('registration\\\\[(.*?)\\\\]')\n",
    "                            ) %>%\n",
    "                            .[[1]] %>% .[ ,2]\n",
    "                    }\n",
    "                )\n",
    "        )\n",
    "    \n",
    "    \n",
    "}"
   ]
  },
  {
   "cell_type": "code",
   "execution_count": null,
   "metadata": {},
   "outputs": [],
   "source": [
    "# lenderedge.reg = getRegInputsAll(partner_id = 349)"
   ]
  },
  {
   "cell_type": "code",
   "execution_count": null,
   "metadata": {},
   "outputs": [],
   "source": [
    "lenderedge.payloads %>% \n",
    "    filter(\n",
    "        accepted\n",
    "    ) %>% \n",
    "    left_join(\n",
    "        lenderedge.reg,\n",
    "        by = 'email'\n",
    "    ) %>% \n",
    "    group_by(\n",
    "        lead.day = lead_time %>% as.Date()\n",
    "    ) %>% \n",
    "    summarize(\n",
    "        count.total = n(),\n",
    "        count.view.reg = sum(!is.na(event_id)),\n",
    "        perc.view.reg = count.view.reg/count.total\n",
    "    ) %>% \n",
    "    ungroup() %>% \n",
    "    ggplot(\n",
    "        mapping = aes(\n",
    "            x = lead.day,\n",
    "            y = perc.view.reg\n",
    "        )\n",
    "    ) +\n",
    "    geom_point(aes(color = '#CF78FF')) +\n",
    "    geom_line(aes(color = '#CF78FF')) +\n",
    "    scale_y_continuous(\n",
    "        labels = scales::percent\n",
    "    ) +\n",
    "    labs(\n",
    "        title = 'LenderEdge 4: Viewed Reg/Accepted Lead',\n",
    "        y = 'Conversion',\n",
    "        x = 'Day'\n",
    "    ) +\n",
    "    coord_fixed(\n",
    "        10\n",
    "    )"
   ]
  }
 ],
 "metadata": {
  "kernelspec": {
   "display_name": "R",
   "language": "R",
   "name": "ir"
  },
  "language_info": {
   "codemirror_mode": "r",
   "file_extension": ".r",
   "mimetype": "text/x-r-source",
   "name": "R",
   "pygments_lexer": "r",
   "version": "3.5.2"
  }
 },
 "nbformat": 4,
 "nbformat_minor": 2
}
