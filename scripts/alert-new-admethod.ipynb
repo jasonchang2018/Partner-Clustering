{
 "cells": [
  {
   "cell_type": "code",
   "execution_count": null,
   "metadata": {},
   "outputs": [],
   "source": [
    "library(opploansanalytics)\n",
    "load.packages()"
   ]
  },
  {
   "cell_type": "code",
   "execution_count": null,
   "metadata": {
    "code_folding": [
     0
    ]
   },
   "outputs": [],
   "source": [
    "getData = function () {\n",
    "\n",
    "    df = queryReporting(\n",
    "    \"\n",
    "    select\n",
    "        c_adm.name as admethod\n",
    "        , count(*) as qualified_count\n",
    "        , max(c_adm.createddate) as admethod_createddate\n",
    "        , case when c_adm_15.id notnull then 'New Admethod 15' else 'Old Admethod' end as admethod_recent\n",
    "    from\n",
    "        cloudlending.applications as c_app\n",
    "        inner join\n",
    "            public.all_allapps as p_ap\n",
    "            on c_app.name = p_ap.loanid\n",
    "            and left(p_ap.denygrp, 1) > '2'\n",
    "            and p_ap.refi = 'N'\n",
    "        inner join\n",
    "            cloudlending.advertising_method as c_adm\n",
    "            on c_app.advertising_method = c_adm.id\n",
    "        left join\n",
    "            (\n",
    "                select\n",
    "                    id\n",
    "                from\n",
    "                    cloudlending.advertising_method\n",
    "                order by\n",
    "                    createddate desc\n",
    "                limit 15\n",
    "            ) as c_adm_15\n",
    "            on c_app.advertising_method = c_adm_15.id\n",
    "    where\n",
    "        c_app.createddate >= now()::date - '10 days'::interval\n",
    "    group by\n",
    "        1,4\n",
    "    order by\n",
    "        2 desc\n",
    "    \"\n",
    "    )\n",
    "    \n",
    "    df %>%\n",
    "    transmute(\n",
    "        admethod,\n",
    "        qualified_count,\n",
    "        qualified_perc = qualified_count/sum(df$qualified_count),\n",
    "        admethod_createddate,\n",
    "        admethod_recent\n",
    "    ) %>% \n",
    "    slice(\n",
    "        1:25\n",
    "    )\n",
    "    \n",
    "}"
   ]
  },
  {
   "cell_type": "code",
   "execution_count": null,
   "metadata": {
    "code_folding": [
     0
    ]
   },
   "outputs": [],
   "source": [
    "getTrigger = function (df) {\n",
    "    \n",
    "    df %>%\n",
    "        filter(\n",
    "            admethod_recent == 'New Admethod 15'\n",
    "        ) %>% \n",
    "        nrow() > 0\n",
    "    \n",
    "}"
   ]
  },
  {
   "cell_type": "code",
   "execution_count": null,
   "metadata": {
    "code_folding": [
     0
    ]
   },
   "outputs": [],
   "source": [
    "sendEmail = function () {\n",
    "\n",
    "    sender = 'jchang@opploans.com'\n",
    "    recipients = c('jchang@opploans.com')\n",
    "    send.mail(\n",
    "        from = sender,\n",
    "        to = recipients,\n",
    "        subject = 'New Admethod Alert',\n",
    "        body = \"New Admethods Detected\",\n",
    "        attach.files = \"..\\\\docs\\\\admethod-alert.csv\",\n",
    "        html = TRUE,\n",
    "        inline = TRUE,\n",
    "        smtp = list(\n",
    "            host.name = 'smtp.gmail.com', \n",
    "            port = 465, \n",
    "            user.name = 'jchang@opploans.com',            \n",
    "            passwd = Sys.getenv('R_GMAIL_2FAUTH'), \n",
    "            ssl = TRUE\n",
    "        ),\n",
    "        authenticate = TRUE,\n",
    "        send = TRUE\n",
    "    )\n",
    "    \n",
    "}"
   ]
  },
  {
   "cell_type": "code",
   "execution_count": null,
   "metadata": {
    "code_folding": [
     0
    ]
   },
   "outputs": [],
   "source": [
    "executeAlert = function () {\n",
    "    \n",
    "    df = getData()\n",
    "    \n",
    "    if ( getTrigger(df) ) {\n",
    "        \n",
    "        df %>% write.csv(\"..\\\\docs\\\\admethod-alert.csv\")\n",
    "        sendEmail()\n",
    "    }\n",
    "    \n",
    "}"
   ]
  },
  {
   "cell_type": "code",
   "execution_count": null,
   "metadata": {},
   "outputs": [],
   "source": [
    "executeAlert()"
   ]
  },
  {
   "cell_type": "code",
   "execution_count": null,
   "metadata": {},
   "outputs": [],
   "source": []
  }
 ],
 "metadata": {
  "kernelspec": {
   "display_name": "R",
   "language": "R",
   "name": "ir"
  },
  "language_info": {
   "codemirror_mode": "r",
   "file_extension": ".r",
   "mimetype": "text/x-r-source",
   "name": "R",
   "pygments_lexer": "r",
   "version": "3.5.2"
  }
 },
 "nbformat": 4,
 "nbformat_minor": 2
}
