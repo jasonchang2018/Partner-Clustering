{
 "cells": [
  {
   "cell_type": "code",
   "execution_count": null,
   "metadata": {},
   "outputs": [],
   "source": [
    "library(opploansanalytics)\n",
    "load.packages()"
   ]
  },
  {
   "cell_type": "code",
   "execution_count": null,
   "metadata": {
    "code_folding": [
     0
    ]
   },
   "outputs": [],
   "source": [
    "getLeadID = function (timestart = Sys.Date() - 1, timeend = Sys.Date(), admethod = NA, limit = NA, write.csv = FALSE, write.db = FALSE) {\n",
    "\n",
    "    df = queryReporting(paste0(\n",
    "\"\n",
    "select\n",
    "    c_app.name as loanid\n",
    "    , case  when position('::' in raw_lead ->> 'campaign_id') > 0\n",
    "            then substring(raw_lead ->> 'campaign_id' from '(.*)::')\n",
    "            else coalesce(\n",
    "                raw_lead ->> 'campaign_id',\n",
    "                raw_lead ->> 'campaignId',\n",
    "                raw_lead ->> 'click_id',\n",
    "                'None'\n",
    "            )\n",
    "            end as sub_id\n",
    "from\n",
    "    cloudlending.applications as c_app\n",
    "    inner join\n",
    "        cloudlending.advertising_method as c_adm\n",
    "        on c_app.advertising_method = c_adm.id\n",
    "        \", ifelse(is.na(admethod), '', paste0(\"and c_adm.name = '\", admethod, \"'\")), \"\n",
    "    inner join\n",
    "        lde4.leads as lde\n",
    "        on c_app.lde4_lead_id = lde.lead_id\n",
    "where\n",
    "    c_app.createddate >= '\", timestart, \"'\n",
    "    and c_app.createddate < '\", timeend, \"'\n",
    "\", ifelse(is.na(limit), '', paste0('limit ', limit)), \"\n",
    "\"\n",
    "    )) %>% \n",
    "    mutate(\n",
    "        sub_id = ifelse(\n",
    "            sub_id %>% str_detect('::'),\n",
    "            sub_id %>% str_match_all('(.*?)::') %>%\n",
    "                .[[1]] %>% .[,2] %>% as.character(),\n",
    "            sub_id\n",
    "        )\n",
    "    )\n",
    "    \n",
    "    \n",
    "    if (write.csv) {\n",
    "        df %>% write.csv(paste0(\"..\\\\data\\\\subid-\", timestart, \".csv\"))\n",
    "    }\n",
    "    \n",
    "    if (write.db) {\n",
    "        df %>% convertDFToInsertString() %>% insertToTable('jchang.partner_subids')\n",
    "    }\n",
    "    \n",
    "    return(df)\n",
    "    \n",
    "}"
   ]
  },
  {
   "cell_type": "code",
   "execution_count": null,
   "metadata": {
    "code_folding": [
     0
    ]
   },
   "outputs": [],
   "source": [
    "createSubIdTable = function () {\n",
    "\n",
    "#     dropTable('jchang.partner_subids')\n",
    "    \n",
    "    table.specs.df = data.frame(\n",
    "        colname = c(\n",
    "            'loanid',\n",
    "            'sub_id'\n",
    "        ),\n",
    "        type = c(\n",
    "            'varchar(20000)',\n",
    "            'varchar(20000)'\n",
    "        ),\n",
    "        stringsAsFactors = FALSE\n",
    "    )\n",
    "    \n",
    "    createTable(\n",
    "        table.specs.df,\n",
    "        'jchang.partner_subids'\n",
    "    )\n",
    "}"
   ]
  },
  {
   "cell_type": "code",
   "execution_count": null,
   "metadata": {},
   "outputs": [],
   "source": [
    "csvs = c(\n",
    "    '2019-01-01',\n",
    "    '2019-02-01',\n",
    "    '2019-03-01',\n",
    "    '2019-04-01',\n",
    "    '2019-05-01',\n",
    "    '2019-06-01',\n",
    "    '2019-07-01',\n",
    "    '2019-08-01',\n",
    "    '2019-09-01',\n",
    "    '2019-10-01',\n",
    "    '2019-11-01',\n",
    "    '2019-12-01',\n",
    "    '2020-01-01',\n",
    "    '2020-02-01'\n",
    ")\n",
    "\n",
    "all = do.call(\n",
    "    rbind,\n",
    "    lapply(\n",
    "        paste0(\"..\\\\data\\\\subid-\", csvs, \".csv\"),\n",
    "        read_csv\n",
    "    )\n",
    ")"
   ]
  },
  {
   "cell_type": "code",
   "execution_count": null,
   "metadata": {
    "scrolled": true
   },
   "outputs": [],
   "source": [
    "min = 1\n",
    "max = nrow(all)\n",
    "i = min\n",
    "counter = min\n",
    "\n",
    "pb.rows = txtProgressBar(\n",
    "    min = min,\n",
    "    max = max,\n",
    "    style = 3\n",
    ")\n",
    "\n",
    "while (i <= max) {\n",
    "    \n",
    "    all %>% \n",
    "        select(\n",
    "            -X1\n",
    "        ) %>% \n",
    "        slice(\n",
    "            i:(i + 20000 - 1)\n",
    "        ) %>% \n",
    "        convertDFToInsertString() %>% \n",
    "        insertToTable(\n",
    "            'jchang.partner_subids'\n",
    "        )\n",
    "    \n",
    "    i = i + 20000\n",
    "    \n",
    "    pb.rows %>% setTxtProgressBar(i)\n",
    "    \n",
    "}"
   ]
  }
 ],
 "metadata": {
  "kernelspec": {
   "display_name": "R",
   "language": "R",
   "name": "ir"
  },
  "language_info": {
   "codemirror_mode": "r",
   "file_extension": ".r",
   "mimetype": "text/x-r-source",
   "name": "R",
   "pygments_lexer": "r",
   "version": "3.5.2"
  }
 },
 "nbformat": 4,
 "nbformat_minor": 2
}
