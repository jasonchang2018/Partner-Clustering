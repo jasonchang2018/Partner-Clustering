{
 "cells": [
  {
   "cell_type": "markdown",
   "metadata": {},
   "source": [
    "# Import Packages"
   ]
  },
  {
   "cell_type": "code",
   "execution_count": 5,
   "metadata": {
    "ExecuteTime": {
     "end_time": "2020-02-19T16:48:27.047343Z",
     "start_time": "2020-02-19T16:48:26.007Z"
    },
    "scrolled": false
   },
   "outputs": [
    {
     "data": {
      "text/html": [
       "<dl class=dl-horizontal>\n",
       "\t<dt>RPostgreSQL</dt>\n",
       "\t\t<dd>TRUE</dd>\n",
       "\t<dt>RPostgres</dt>\n",
       "\t\t<dd>TRUE</dd>\n",
       "\t<dt>RJDBC</dt>\n",
       "\t\t<dd>TRUE</dd>\n",
       "\t<dt>httr</dt>\n",
       "\t\t<dd>TRUE</dd>\n",
       "\t<dt>jsonlite</dt>\n",
       "\t\t<dd>TRUE</dd>\n",
       "\t<dt>googlesheets</dt>\n",
       "\t\t<dd>TRUE</dd>\n",
       "\t<dt>tidyverse</dt>\n",
       "\t\t<dd>TRUE</dd>\n",
       "\t<dt>tidyr</dt>\n",
       "\t\t<dd>TRUE</dd>\n",
       "\t<dt>dplyr</dt>\n",
       "\t\t<dd>TRUE</dd>\n",
       "\t<dt>lubridate</dt>\n",
       "\t\t<dd>TRUE</dd>\n",
       "\t<dt>stringr</dt>\n",
       "\t\t<dd>TRUE</dd>\n",
       "\t<dt>ggplot2</dt>\n",
       "\t\t<dd>TRUE</dd>\n",
       "\t<dt>ggpubr</dt>\n",
       "\t\t<dd>TRUE</dd>\n",
       "\t<dt>cowplot</dt>\n",
       "\t\t<dd>TRUE</dd>\n",
       "\t<dt>rJava</dt>\n",
       "\t\t<dd>TRUE</dd>\n",
       "\t<dt>mailR</dt>\n",
       "\t\t<dd>TRUE</dd>\n",
       "\t<dt>devtools</dt>\n",
       "\t\t<dd>TRUE</dd>\n",
       "\t<dt>roxygen2</dt>\n",
       "\t\t<dd>TRUE</dd>\n",
       "</dl>\n"
      ],
      "text/latex": [
       "\\begin{description*}\n",
       "\\item[RPostgreSQL] TRUE\n",
       "\\item[RPostgres] TRUE\n",
       "\\item[RJDBC] TRUE\n",
       "\\item[httr] TRUE\n",
       "\\item[jsonlite] TRUE\n",
       "\\item[googlesheets] TRUE\n",
       "\\item[tidyverse] TRUE\n",
       "\\item[tidyr] TRUE\n",
       "\\item[dplyr] TRUE\n",
       "\\item[lubridate] TRUE\n",
       "\\item[stringr] TRUE\n",
       "\\item[ggplot2] TRUE\n",
       "\\item[ggpubr] TRUE\n",
       "\\item[cowplot] TRUE\n",
       "\\item[rJava] TRUE\n",
       "\\item[mailR] TRUE\n",
       "\\item[devtools] TRUE\n",
       "\\item[roxygen2] TRUE\n",
       "\\end{description*}\n"
      ],
      "text/markdown": [
       "RPostgreSQL\n",
       ":   TRUERPostgres\n",
       ":   TRUERJDBC\n",
       ":   TRUEhttr\n",
       ":   TRUEjsonlite\n",
       ":   TRUEgooglesheets\n",
       ":   TRUEtidyverse\n",
       ":   TRUEtidyr\n",
       ":   TRUEdplyr\n",
       ":   TRUElubridate\n",
       ":   TRUEstringr\n",
       ":   TRUEggplot2\n",
       ":   TRUEggpubr\n",
       ":   TRUEcowplot\n",
       ":   TRUErJava\n",
       ":   TRUEmailR\n",
       ":   TRUEdevtools\n",
       ":   TRUEroxygen2\n",
       ":   TRUE\n",
       "\n"
      ],
      "text/plain": [
       " RPostgreSQL    RPostgres        RJDBC         httr     jsonlite googlesheets \n",
       "        TRUE         TRUE         TRUE         TRUE         TRUE         TRUE \n",
       "   tidyverse        tidyr        dplyr    lubridate      stringr      ggplot2 \n",
       "        TRUE         TRUE         TRUE         TRUE         TRUE         TRUE \n",
       "      ggpubr      cowplot        rJava        mailR     devtools     roxygen2 \n",
       "        TRUE         TRUE         TRUE         TRUE         TRUE         TRUE "
      ]
     },
     "metadata": {},
     "output_type": "display_data"
    }
   ],
   "source": [
    "library(opploansanalytics)\n",
    "load.packages()\n",
    "library(googlesheets4)"
   ]
  },
  {
   "cell_type": "code",
   "execution_count": 6,
   "metadata": {
    "ExecuteTime": {
     "end_time": "2020-02-19T16:48:28.285896Z",
     "start_time": "2020-02-19T16:48:28.256Z"
    }
   },
   "outputs": [],
   "source": [
    "source('lde-raw-lead-validation.r')"
   ]
  },
  {
   "cell_type": "code",
   "execution_count": 7,
   "metadata": {
    "ExecuteTime": {
     "end_time": "2020-02-19T16:48:32.565514Z",
     "start_time": "2020-02-19T16:48:30.826Z"
    }
   },
   "outputs": [
    {
     "data": {
      "text/html": [
       "<table>\n",
       "<caption>A data.frame: 20 × 2</caption>\n",
       "<thead>\n",
       "\t<tr><th scope=col>admethod</th><th scope=col>volume</th></tr>\n",
       "\t<tr><th scope=col>&lt;chr&gt;</th><th scope=col>&lt;int64&gt;</th></tr>\n",
       "</thead>\n",
       "<tbody>\n",
       "\t<tr><td>LendingTree 4         </td><td>8337</td></tr>\n",
       "\t<tr><td>CreditKarma4          </td><td>8181</td></tr>\n",
       "\t<tr><td>Received Offer in Mail</td><td>8082</td></tr>\n",
       "\t<tr><td>LenderEdge 4          </td><td>7938</td></tr>\n",
       "\t<tr><td>Even Financial 4      </td><td>4639</td></tr>\n",
       "\t<tr><td>Google                </td><td>4595</td></tr>\n",
       "\t<tr><td>Monevo                </td><td>2943</td></tr>\n",
       "\t<tr><td>GoogleBrand           </td><td>2914</td></tr>\n",
       "\t<tr><td>DigiohE               </td><td>2476</td></tr>\n",
       "\t<tr><td>LeadGroup             </td><td>2419</td></tr>\n",
       "\t<tr><td>Fluent                </td><td>2138</td></tr>\n",
       "\t<tr><td>Email-Expired         </td><td>1843</td></tr>\n",
       "\t<tr><td>Quin Street 4         </td><td>1577</td></tr>\n",
       "\t<tr><td>Credit Sesame         </td><td>1408</td></tr>\n",
       "\t<tr><td>Referral From Customer</td><td>1384</td></tr>\n",
       "\t<tr><td>Avant                 </td><td> 853</td></tr>\n",
       "\t<tr><td>Facebook              </td><td> 834</td></tr>\n",
       "\t<tr><td>LeapTheory 4          </td><td> 785</td></tr>\n",
       "\t<tr><td>PersonalLoans.com 4   </td><td> 729</td></tr>\n",
       "\t<tr><td>Auto-Referral         </td><td> 593</td></tr>\n",
       "</tbody>\n",
       "</table>\n"
      ],
      "text/latex": [
       "A data.frame: 20 × 2\n",
       "\\begin{tabular}{r|ll}\n",
       " admethod & volume\\\\\n",
       " <chr> & <int64>\\\\\n",
       "\\hline\n",
       "\t LendingTree 4          & 8337\\\\\n",
       "\t CreditKarma4           & 8181\\\\\n",
       "\t Received Offer in Mail & 8082\\\\\n",
       "\t LenderEdge 4           & 7938\\\\\n",
       "\t Even Financial 4       & 4639\\\\\n",
       "\t Google                 & 4595\\\\\n",
       "\t Monevo                 & 2943\\\\\n",
       "\t GoogleBrand            & 2914\\\\\n",
       "\t DigiohE                & 2476\\\\\n",
       "\t LeadGroup              & 2419\\\\\n",
       "\t Fluent                 & 2138\\\\\n",
       "\t Email-Expired          & 1843\\\\\n",
       "\t Quin Street 4          & 1577\\\\\n",
       "\t Credit Sesame          & 1408\\\\\n",
       "\t Referral From Customer & 1384\\\\\n",
       "\t Avant                  &  853\\\\\n",
       "\t Facebook               &  834\\\\\n",
       "\t LeapTheory 4           &  785\\\\\n",
       "\t PersonalLoans.com 4    &  729\\\\\n",
       "\t Auto-Referral          &  593\\\\\n",
       "\\end{tabular}\n"
      ],
      "text/markdown": [
       "\n",
       "A data.frame: 20 × 2\n",
       "\n",
       "| admethod &lt;chr&gt; | volume &lt;int64&gt; |\n",
       "|---|---|\n",
       "| LendingTree 4          | 8337 |\n",
       "| CreditKarma4           | 8181 |\n",
       "| Received Offer in Mail | 8082 |\n",
       "| LenderEdge 4           | 7938 |\n",
       "| Even Financial 4       | 4639 |\n",
       "| Google                 | 4595 |\n",
       "| Monevo                 | 2943 |\n",
       "| GoogleBrand            | 2914 |\n",
       "| DigiohE                | 2476 |\n",
       "| LeadGroup              | 2419 |\n",
       "| Fluent                 | 2138 |\n",
       "| Email-Expired          | 1843 |\n",
       "| Quin Street 4          | 1577 |\n",
       "| Credit Sesame          | 1408 |\n",
       "| Referral From Customer | 1384 |\n",
       "| Avant                  |  853 |\n",
       "| Facebook               |  834 |\n",
       "| LeapTheory 4           |  785 |\n",
       "| PersonalLoans.com 4    |  729 |\n",
       "| Auto-Referral          |  593 |\n",
       "\n"
      ],
      "text/plain": [
       "   admethod               volume\n",
       "1  LendingTree 4          8337  \n",
       "2  CreditKarma4           8181  \n",
       "3  Received Offer in Mail 8082  \n",
       "4  LenderEdge 4           7938  \n",
       "5  Even Financial 4       4639  \n",
       "6  Google                 4595  \n",
       "7  Monevo                 2943  \n",
       "8  GoogleBrand            2914  \n",
       "9  DigiohE                2476  \n",
       "10 LeadGroup              2419  \n",
       "11 Fluent                 2138  \n",
       "12 Email-Expired          1843  \n",
       "13 Quin Street 4          1577  \n",
       "14 Credit Sesame          1408  \n",
       "15 Referral From Customer 1384  \n",
       "16 Avant                   853  \n",
       "17 Facebook                834  \n",
       "18 LeapTheory 4            785  \n",
       "19 PersonalLoans.com 4     729  \n",
       "20 Auto-Referral           593  "
      ]
     },
     "metadata": {},
     "output_type": "display_data"
    }
   ],
   "source": [
    "admethod = getAdmethodList()\n",
    "admethod %>% slice(1:20)"
   ]
  },
  {
   "cell_type": "markdown",
   "metadata": {},
   "source": [
    "# googlesheets4"
   ]
  },
  {
   "cell_type": "code",
   "execution_count": 8,
   "metadata": {
    "ExecuteTime": {
     "end_time": "2020-02-19T16:48:37.304876Z",
     "start_time": "2020-02-19T16:48:37.105Z"
    }
   },
   "outputs": [
    {
     "name": "stdout",
     "output_type": "stream",
     "text": [
      "Using an auto-discovered, cached token.\n",
      "To suppress this message, modify your code or options to clearly consent to the use of a cached token.\n",
      "See gargle's \"Non-interactive auth\" vignette for more details:\n",
      "https://gargle.r-lib.org/articles/non-interactive-auth.html\n",
      "The googlesheets4 package is using a cached token for jchang@opploans.com.\n"
     ]
    }
   ],
   "source": [
    "sheets_auth()"
   ]
  },
  {
   "cell_type": "code",
   "execution_count": 9,
   "metadata": {
    "ExecuteTime": {
     "end_time": "2020-02-19T16:48:39.442259Z",
     "start_time": "2020-02-19T16:48:39.421Z"
    },
    "code_folding": [
     0
    ]
   },
   "outputs": [],
   "source": [
    "getPayloadDiagnostics = function (df, ss.url) {\n",
    "\n",
    "    effective.sample.size =\n",
    "        do.call(\n",
    "            what = rbind,\n",
    "            args = lenderedge.payload %>% .$validate.values %>% keep(.p = function (x) {ncol(x) > 1})\n",
    "        ) %>% \n",
    "        mutate(\n",
    "            value.codes = value.codes %>% map(~ min(.x)) %>% unlist()\n",
    "        ) %>% nrow()\n",
    "    \n",
    "    \n",
    "    ##  FORMAT  ##\n",
    "    do.call(\n",
    "        what = rbind,\n",
    "        args = lenderedge.payload %>% .$validate.values %>% keep(.p = function (x) {ncol(x) > 1})\n",
    "    ) %>% \n",
    "        mutate(\n",
    "            value.codes = value.codes %>% map(~ min(.x)) %>% unlist()\n",
    "        ) %>%\n",
    "        group_by(\n",
    "            key,\n",
    "            value.expected.format = value.codes == 200,\n",
    "            value.codes\n",
    "        ) %>% \n",
    "        summarize(\n",
    "            n = n(),\n",
    "            p = n() / effective.sample.size\n",
    "        ) %>% \n",
    "        ungroup() %>% \n",
    "        arrange(\n",
    "            key,\n",
    "            value.codes\n",
    "        ) %T>%\n",
    "        sheets_write(\n",
    "            ss = ss.url,\n",
    "            sheet = 'Value Data Types'\n",
    "        )\n",
    "    \n",
    "    \n",
    "    ##  MISSING KEYS  ##\n",
    "    lenderedge.payload$keys.missing %>%\n",
    "        unlist() %>%\n",
    "        as.data.frame(\n",
    "            stringsAsFactors = FALSE\n",
    "        ) %>% \n",
    "        select(\n",
    "            key = \".\"\n",
    "        ) %>%\n",
    "        group_by(\n",
    "            key\n",
    "        ) %>% \n",
    "        summarize(\n",
    "            n = n(),\n",
    "            p = n() / effective.sample.size\n",
    "        ) %>% \n",
    "        ungroup() %>% \n",
    "        arrange(\n",
    "            key\n",
    "        ) %T>%\n",
    "        sheets_write(\n",
    "            ss = ss.url,\n",
    "            sheet = 'Expected Keys Missing'\n",
    "        )\n",
    "    \n",
    "    \n",
    "    ##  EXTRA KEYS  ##\n",
    "    lenderedge.payload$keys.extra %>%\n",
    "        unlist() %>%\n",
    "        as.data.frame(\n",
    "            stringsAsFactors = FALSE\n",
    "        ) %>% \n",
    "        select(\n",
    "            key = \".\"\n",
    "        ) %>%\n",
    "        group_by(\n",
    "            key\n",
    "        ) %>% \n",
    "        summarize(\n",
    "            n = n(),\n",
    "            p = n() / effective.sample.size\n",
    "        ) %>% \n",
    "        ungroup() %>% \n",
    "        arrange(\n",
    "            key\n",
    "        ) %T>%\n",
    "        sheets_write(\n",
    "            ss = ss.url,\n",
    "            sheet = 'Unexpected Keys Present'\n",
    "        )\n",
    "    \n",
    "    cat('Diagnostics Complete.')\n",
    "    \n",
    "}"
   ]
  },
  {
   "cell_type": "markdown",
   "metadata": {},
   "source": [
    "### LenderEdge 4"
   ]
  },
  {
   "cell_type": "code",
   "execution_count": null,
   "metadata": {
    "code_folding": [
     0
    ]
   },
   "outputs": [],
   "source": [
    "###  Other Analyses  ###\n",
    "\n",
    "# lenderedge.reg = 'LenderEdge 4' %>% getRegInputs()\n",
    "\n",
    "# payloadErrorRegCount(lenderedge.payload, lenderedge.reg)\n",
    "# payloadErrorFields(lenderedge.payload, lenderedge.reg)\n",
    "\n",
    "# payloadErrorSummary(lenderedge.payload)\n",
    "# regFieldsSummary(lenderedge.payload, lenderedge.reg)"
   ]
  },
  {
   "cell_type": "code",
   "execution_count": null,
   "metadata": {},
   "outputs": [],
   "source": [
    "# Add Missing / Extra Objects"
   ]
  },
  {
   "cell_type": "code",
   "execution_count": 10,
   "metadata": {
    "ExecuteTime": {
     "end_time": "2020-02-19T16:49:49.700946Z",
     "start_time": "2020-02-19T16:48:43.258Z"
    }
   },
   "outputs": [
    {
     "name": "stderr",
     "output_type": "stream",
     "text": [
      "Auto-refreshing stale OAuth token.\n",
      "Writing to \"LenderEdge 4\"\n",
      "Writing to sheet \"Value Data Types\"\n",
      "Writing to \"LenderEdge 4\"\n",
      "Writing to sheet \"Expected Keys Missing\"\n",
      "Writing to \"LenderEdge 4\"\n",
      "Writing to sheet \"Unexpected Keys Present\"\n"
     ]
    },
    {
     "name": "stdout",
     "output_type": "stream",
     "text": [
      "Diagnostics Complete."
     ]
    }
   ],
   "source": [
    "lenderedge.payload = 'LenderEdge 4' %>% finalEvaluation(sample.size = 1000)\n",
    "\n",
    "lenderedge.payload %>%\n",
    "    getPayloadDiagnostics(\n",
    "        'https://docs.google.com/spreadsheets/d/19ExrGhv1xnjFKhHa-G5ndpcOKWB6LVfwijVXqebeLCU/edit#gid=0'\n",
    "    )"
   ]
  },
  {
   "cell_type": "markdown",
   "metadata": {},
   "source": [
    "### Monevo"
   ]
  },
  {
   "cell_type": "code",
   "execution_count": null,
   "metadata": {},
   "outputs": [],
   "source": [
    "monevo.payload = 'Monevo' %>% finalEvaluation(sample.size = 1000)\n",
    "monevo.reg = 'Monevo' %>% getRegInputs()"
   ]
  },
  {
   "cell_type": "code",
   "execution_count": null,
   "metadata": {},
   "outputs": [],
   "source": [
    "# payloadErrorRegCount(monevo.payload, monevo.reg)\n",
    "# payloadErrorFields(monevo.payload, monevo.reg)"
   ]
  },
  {
   "cell_type": "code",
   "execution_count": null,
   "metadata": {},
   "outputs": [],
   "source": [
    "payloadErrorSummary(monevo.payload)"
   ]
  },
  {
   "cell_type": "code",
   "execution_count": null,
   "metadata": {},
   "outputs": [],
   "source": [
    "regFieldsSummary(monevo.payload, monevo.reg)"
   ]
  },
  {
   "cell_type": "markdown",
   "metadata": {},
   "source": [
    "### Even Financial 4"
   ]
  },
  {
   "cell_type": "code",
   "execution_count": null,
   "metadata": {},
   "outputs": [],
   "source": [
    "###  Even Financial 4\n",
    "even.payload = 'Even Financial 4' %>% finalEvaluation(sample.size = 1000)\n",
    "even.reg = 'Even Financial 4' %>% getRegInputs()"
   ]
  },
  {
   "cell_type": "code",
   "execution_count": null,
   "metadata": {},
   "outputs": [],
   "source": [
    "# payloadErrorRegCount(even.payload, even.reg)\n",
    "# payloadErrorFields(even.payload, even.reg)"
   ]
  },
  {
   "cell_type": "code",
   "execution_count": null,
   "metadata": {},
   "outputs": [],
   "source": [
    "payloadErrorSummary(even.payload)"
   ]
  },
  {
   "cell_type": "code",
   "execution_count": null,
   "metadata": {},
   "outputs": [],
   "source": [
    "regFieldsSummary(even.payload, even.reg)"
   ]
  },
  {
   "cell_type": "code",
   "execution_count": null,
   "metadata": {},
   "outputs": [],
   "source": [
    "even.payload %>% slice(4) %>% .$validate.values"
   ]
  },
  {
   "cell_type": "markdown",
   "metadata": {},
   "source": [
    "### LeadGroup"
   ]
  },
  {
   "cell_type": "code",
   "execution_count": null,
   "metadata": {},
   "outputs": [],
   "source": [
    "###  LeadGroup\n",
    "leadgroup.payload = 'LeadGroup' %>% finalEvaluation(sample.size = 1000)\n",
    "leadgroup.reg = 'LeadGroup' %>% getRegInputs()"
   ]
  },
  {
   "cell_type": "code",
   "execution_count": null,
   "metadata": {},
   "outputs": [],
   "source": [
    "leadgroup.payload %>%\n",
    "    filter(\n",
    "        validate.values %>% map(nrow) > 1\n",
    "    ) %>% slice(98) %>% .$raw_lead %>% prettify()\n",
    "#     filter(\n",
    "# #     mutate(\n",
    "# #         has.300 = \n",
    "#         validate.values %>% \n",
    "#             map(\n",
    "#                 .f = function (x) {\n",
    "#                     x %>%\n",
    "#                         filter(\n",
    "#                             value.codes %>% map(max) %>% > 200 &\n",
    "#                             value.codes %>% map(max) < 900\n",
    "#                         )\n",
    "#                 }\n",
    "#             ) %>% as.data.frame() %>% nrow() > 0\n",
    "#     ) %>% \n",
    "#     slice(1)"
   ]
  },
  {
   "cell_type": "code",
   "execution_count": null,
   "metadata": {},
   "outputs": [],
   "source": [
    "# payloadErrorRegCount(leadgroup.payload, leadgroup.reg)\n",
    "# payloadErrorFields(leadgroup.payload, leadgroup.reg)"
   ]
  },
  {
   "cell_type": "code",
   "execution_count": null,
   "metadata": {},
   "outputs": [],
   "source": [
    "payloadErrorSummary(leadgroup.payload)"
   ]
  },
  {
   "cell_type": "code",
   "execution_count": null,
   "metadata": {},
   "outputs": [],
   "source": [
    "regFieldsSummary(leadgroup.payload, leadgroup.reg)"
   ]
  },
  {
   "cell_type": "markdown",
   "metadata": {},
   "source": [
    "### Quin Street 4"
   ]
  },
  {
   "cell_type": "code",
   "execution_count": null,
   "metadata": {},
   "outputs": [],
   "source": [
    "quinstreet.payload = 'Quin Street 4' %>% finalEvaluation(sample.size = 1000)\n",
    "quinstreet.reg = 'Quin Street 4' %>% getRegInputs()"
   ]
  },
  {
   "cell_type": "code",
   "execution_count": null,
   "metadata": {},
   "outputs": [],
   "source": [
    "# payloadErrorRegCount(quinstreet.payload, quinstreet.reg)\n",
    "# payloadErrorFields(quinstreet.payload, quinstreet.reg)"
   ]
  },
  {
   "cell_type": "code",
   "execution_count": null,
   "metadata": {},
   "outputs": [],
   "source": [
    "quinstreet.payload %>% filter(!is.na(name)) %>% slice(1)"
   ]
  },
  {
   "cell_type": "code",
   "execution_count": null,
   "metadata": {},
   "outputs": [],
   "source": [
    "payloadErrorSummary(quinstreet.payload)"
   ]
  },
  {
   "cell_type": "code",
   "execution_count": null,
   "metadata": {},
   "outputs": [],
   "source": [
    "regFieldsSummary(quinstreet.payload, quinstreet.reg)"
   ]
  },
  {
   "cell_type": "markdown",
   "metadata": {},
   "source": [
    "### Avant"
   ]
  },
  {
   "cell_type": "code",
   "execution_count": null,
   "metadata": {},
   "outputs": [],
   "source": [
    "avant.payload = 'Avant' %>% finalEvaluation(sample.size = 1000)\n",
    "avant.reg = 'Avant' %>% getRegInputs()"
   ]
  },
  {
   "cell_type": "code",
   "execution_count": null,
   "metadata": {},
   "outputs": [],
   "source": [
    "# payloadErrorRegCount(avant.payload, avant.reg)\n",
    "# payloadErrorFields(avant.payload, avant.reg)"
   ]
  },
  {
   "cell_type": "code",
   "execution_count": null,
   "metadata": {},
   "outputs": [],
   "source": [
    "payloadErrorSummary(avant.payload)"
   ]
  },
  {
   "cell_type": "code",
   "execution_count": null,
   "metadata": {},
   "outputs": [],
   "source": [
    "regFieldsSummary(avant.payload, avant.reg)"
   ]
  },
  {
   "cell_type": "markdown",
   "metadata": {},
   "source": [
    "### LeapTheory 4"
   ]
  },
  {
   "cell_type": "code",
   "execution_count": null,
   "metadata": {},
   "outputs": [],
   "source": [
    "leaptheory.payload = 'LeapTheory 4' %>% finalEvaluation(sample.size = 1000)\n",
    "leaptheory.reg = 'LeapTheory 4' %>% getRegInputs()"
   ]
  },
  {
   "cell_type": "code",
   "execution_count": null,
   "metadata": {},
   "outputs": [],
   "source": [
    "# payloadErrorRegCount(leaptheory.payload, leaptheory.reg)\n",
    "# payloadErrorFields(leaptheory.payload, leaptheory.reg)"
   ]
  },
  {
   "cell_type": "code",
   "execution_count": null,
   "metadata": {},
   "outputs": [],
   "source": [
    "payloadErrorSummary(leaptheory.payload)"
   ]
  },
  {
   "cell_type": "code",
   "execution_count": null,
   "metadata": {},
   "outputs": [],
   "source": [
    "regFieldsSummary(leaptheory.payload, leaptheory.reg)"
   ]
  },
  {
   "cell_type": "markdown",
   "metadata": {},
   "source": [
    "### PersonalLoans.com 4"
   ]
  },
  {
   "cell_type": "code",
   "execution_count": null,
   "metadata": {},
   "outputs": [],
   "source": [
    "personalloans.payload = 'PersonalLoans.com 4' %>% finalEvaluation(sample.size = 1000)\n",
    "personalloans.reg = 'PersonalLoans.com 4' %>% getRegInputs()"
   ]
  },
  {
   "cell_type": "code",
   "execution_count": null,
   "metadata": {},
   "outputs": [],
   "source": [
    "# payloadErrorRegCount(personalloans.payload, personalloans.reg)\n",
    "# payloadErrorFields(personalloans.payload, personalloans.reg)"
   ]
  },
  {
   "cell_type": "code",
   "execution_count": null,
   "metadata": {},
   "outputs": [],
   "source": [
    "payloadErrorSummary(personalloans.payload)"
   ]
  },
  {
   "cell_type": "code",
   "execution_count": null,
   "metadata": {},
   "outputs": [],
   "source": [
    "regFieldsSummary(personalloans.payload, personalloans.reg)"
   ]
  },
  {
   "cell_type": "code",
   "execution_count": null,
   "metadata": {},
   "outputs": [],
   "source": []
  }
 ],
 "metadata": {
  "kernelspec": {
   "display_name": "R",
   "language": "R",
   "name": "ir"
  },
  "language_info": {
   "codemirror_mode": "r",
   "file_extension": ".r",
   "mimetype": "text/x-r-source",
   "name": "R",
   "pygments_lexer": "r",
   "version": "3.5.2"
  }
 },
 "nbformat": 4,
 "nbformat_minor": 2
}
