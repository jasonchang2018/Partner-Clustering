{
 "cells": [
  {
   "cell_type": "markdown",
   "metadata": {},
   "source": [
    "# Import Packages"
   ]
  },
  {
   "cell_type": "code",
   "execution_count": null,
   "metadata": {},
   "outputs": [],
   "source": [
    "library(opploansanalytics)\n",
    "load.packages()"
   ]
  },
  {
   "cell_type": "code",
   "execution_count": null,
   "metadata": {},
   "outputs": [],
   "source": [
    "source('lde-raw-lead-formatting.r')"
   ]
  },
  {
   "cell_type": "code",
   "execution_count": null,
   "metadata": {},
   "outputs": [],
   "source": [
    "admethod = getAdmethodList()\n",
    "admethod %>% slice(21:40)"
   ]
  },
  {
   "cell_type": "markdown",
   "metadata": {},
   "source": [
    "### LenderEdge 4"
   ]
  },
  {
   "cell_type": "code",
   "execution_count": null,
   "metadata": {},
   "outputs": [],
   "source": [
    "lenderedge.payload = 'LenderEdge 4' %>% finalEvaluation(sample.size = 1000)\n",
    "lenderedge.reg = 'LenderEdge 4' %>% getRegInputs()"
   ]
  },
  {
   "cell_type": "code",
   "execution_count": null,
   "metadata": {
    "scrolled": false
   },
   "outputs": [],
   "source": [
    "lenderedge.payload %>%\n",
    "    slice(4) %>% \n",
    "    .$validate.values"
   ]
  },
  {
   "cell_type": "code",
   "execution_count": null,
   "metadata": {},
   "outputs": [],
   "source": [
    "# payloadErrorRegCount(lenderedge.payload, lenderedge.reg)\n",
    "# payloadErrorFields(lenderedge.payload, lenderedge.reg)"
   ]
  },
  {
   "cell_type": "code",
   "execution_count": null,
   "metadata": {},
   "outputs": [],
   "source": [
    "payloadErrorSummary(lenderedge.payload)"
   ]
  },
  {
   "cell_type": "code",
   "execution_count": null,
   "metadata": {},
   "outputs": [],
   "source": [
    "regFieldsSummary(lenderedge.payload, lenderedge.reg)"
   ]
  },
  {
   "cell_type": "markdown",
   "metadata": {},
   "source": [
    "### Monevo"
   ]
  },
  {
   "cell_type": "code",
   "execution_count": null,
   "metadata": {},
   "outputs": [],
   "source": [
    "monevo.payload = 'Monevo' %>% finalEvaluation(sample.size = 1000)\n",
    "monevo.reg = 'Monevo' %>% getRegInputs()"
   ]
  },
  {
   "cell_type": "code",
   "execution_count": null,
   "metadata": {},
   "outputs": [],
   "source": [
    "# payloadErrorRegCount(monevo.payload, monevo.reg)\n",
    "# payloadErrorFields(monevo.payload, monevo.reg)"
   ]
  },
  {
   "cell_type": "code",
   "execution_count": null,
   "metadata": {},
   "outputs": [],
   "source": [
    "payloadErrorSummary(monevo.payload)"
   ]
  },
  {
   "cell_type": "code",
   "execution_count": null,
   "metadata": {},
   "outputs": [],
   "source": [
    "regFieldsSummary(monevo.payload, monevo.reg)"
   ]
  },
  {
   "cell_type": "markdown",
   "metadata": {},
   "source": [
    "### Even Financial 4"
   ]
  },
  {
   "cell_type": "code",
   "execution_count": null,
   "metadata": {},
   "outputs": [],
   "source": [
    "###  Even Financial 4\n",
    "even.payload = 'Even Financial 4' %>% finalEvaluation(sample.size = 1000)\n",
    "even.reg = 'Even Financial 4' %>% getRegInputs()"
   ]
  },
  {
   "cell_type": "code",
   "execution_count": null,
   "metadata": {},
   "outputs": [],
   "source": [
    "# payloadErrorRegCount(even.payload, even.reg)\n",
    "# payloadErrorFields(even.payload, even.reg)"
   ]
  },
  {
   "cell_type": "code",
   "execution_count": null,
   "metadata": {},
   "outputs": [],
   "source": [
    "payloadErrorSummary(even.payload)"
   ]
  },
  {
   "cell_type": "code",
   "execution_count": null,
   "metadata": {},
   "outputs": [],
   "source": [
    "regFieldsSummary(even.payload, even.reg)"
   ]
  },
  {
   "cell_type": "markdown",
   "metadata": {},
   "source": [
    "### LeadGroup"
   ]
  },
  {
   "cell_type": "code",
   "execution_count": null,
   "metadata": {},
   "outputs": [],
   "source": [
    "###  LeadGroup\n",
    "leadgroup.payload = 'LeadGroup' %>% finalEvaluation(sample.size = 1000)\n",
    "leadgroup.reg = 'LeadGroup' %>% getRegInputs()"
   ]
  },
  {
   "cell_type": "code",
   "execution_count": null,
   "metadata": {},
   "outputs": [],
   "source": [
    "leadgroup.payload %>%\n",
    "    filter(\n",
    "        validate.values %>% map(nrow) > 1\n",
    "    ) %>% slice(98) %>% .$raw_lead %>% prettify()\n",
    "#     filter(\n",
    "# #     mutate(\n",
    "# #         has.300 = \n",
    "#         validate.values %>% \n",
    "#             map(\n",
    "#                 .f = function (x) {\n",
    "#                     x %>%\n",
    "#                         filter(\n",
    "#                             value.codes %>% map(max) %>% > 200 &\n",
    "#                             value.codes %>% map(max) < 900\n",
    "#                         )\n",
    "#                 }\n",
    "#             ) %>% as.data.frame() %>% nrow() > 0\n",
    "#     ) %>% \n",
    "#     slice(1)"
   ]
  },
  {
   "cell_type": "code",
   "execution_count": null,
   "metadata": {},
   "outputs": [],
   "source": [
    "# payloadErrorRegCount(leadgroup.payload, leadgroup.reg)\n",
    "# payloadErrorFields(leadgroup.payload, leadgroup.reg)"
   ]
  },
  {
   "cell_type": "code",
   "execution_count": null,
   "metadata": {},
   "outputs": [],
   "source": [
    "payloadErrorSummary(leadgroup.payload)"
   ]
  },
  {
   "cell_type": "code",
   "execution_count": null,
   "metadata": {},
   "outputs": [],
   "source": [
    "regFieldsSummary(leadgroup.payload, leadgroup.reg)"
   ]
  },
  {
   "cell_type": "markdown",
   "metadata": {},
   "source": [
    "### Quin Street 4"
   ]
  },
  {
   "cell_type": "code",
   "execution_count": null,
   "metadata": {},
   "outputs": [],
   "source": [
    "quinstreet.payload = 'Quin Street 4' %>% finalEvaluation(sample.size = 1000)\n",
    "quinstreet.reg = 'Quin Street 4' %>% getRegInputs()"
   ]
  },
  {
   "cell_type": "code",
   "execution_count": null,
   "metadata": {},
   "outputs": [],
   "source": [
    "# payloadErrorRegCount(quinstreet.payload, quinstreet.reg)\n",
    "# payloadErrorFields(quinstreet.payload, quinstreet.reg)"
   ]
  },
  {
   "cell_type": "code",
   "execution_count": null,
   "metadata": {},
   "outputs": [],
   "source": [
    "quinstreet.payload %>% filter(!is.na(name)) %>% slice(1)"
   ]
  },
  {
   "cell_type": "code",
   "execution_count": null,
   "metadata": {},
   "outputs": [],
   "source": [
    "payloadErrorSummary(quinstreet.payload)"
   ]
  },
  {
   "cell_type": "code",
   "execution_count": null,
   "metadata": {},
   "outputs": [],
   "source": [
    "regFieldsSummary(quinstreet.payload, quinstreet.reg)"
   ]
  },
  {
   "cell_type": "markdown",
   "metadata": {},
   "source": [
    "### Avant"
   ]
  },
  {
   "cell_type": "code",
   "execution_count": null,
   "metadata": {},
   "outputs": [],
   "source": [
    "avant.payload = 'Avant' %>% finalEvaluation(sample.size = 1000)\n",
    "avant.reg = 'Avant' %>% getRegInputs()"
   ]
  },
  {
   "cell_type": "code",
   "execution_count": null,
   "metadata": {},
   "outputs": [],
   "source": [
    "# payloadErrorRegCount(avant.payload, avant.reg)\n",
    "# payloadErrorFields(avant.payload, avant.reg)"
   ]
  },
  {
   "cell_type": "code",
   "execution_count": null,
   "metadata": {},
   "outputs": [],
   "source": [
    "payloadErrorSummary(avant.payload)"
   ]
  },
  {
   "cell_type": "code",
   "execution_count": null,
   "metadata": {},
   "outputs": [],
   "source": [
    "regFieldsSummary(avant.payload, avant.reg)"
   ]
  },
  {
   "cell_type": "markdown",
   "metadata": {},
   "source": [
    "### LeapTheory 4"
   ]
  },
  {
   "cell_type": "code",
   "execution_count": null,
   "metadata": {},
   "outputs": [],
   "source": [
    "leaptheory.payload = 'LeapTheory 4' %>% finalEvaluation(sample.size = 1000)\n",
    "leaptheory.reg = 'LeapTheory 4' %>% getRegInputs()"
   ]
  },
  {
   "cell_type": "code",
   "execution_count": null,
   "metadata": {},
   "outputs": [],
   "source": [
    "# payloadErrorRegCount(leaptheory.payload, leaptheory.reg)\n",
    "# payloadErrorFields(leaptheory.payload, leaptheory.reg)"
   ]
  },
  {
   "cell_type": "code",
   "execution_count": null,
   "metadata": {},
   "outputs": [],
   "source": [
    "payloadErrorSummary(leaptheory.payload)"
   ]
  },
  {
   "cell_type": "code",
   "execution_count": null,
   "metadata": {},
   "outputs": [],
   "source": [
    "regFieldsSummary(leaptheory.payload, leaptheory.reg)"
   ]
  },
  {
   "cell_type": "markdown",
   "metadata": {},
   "source": [
    "### PersonalLoans.com 4"
   ]
  },
  {
   "cell_type": "code",
   "execution_count": null,
   "metadata": {},
   "outputs": [],
   "source": [
    "personalloans.payload = 'PersonalLoans.com 4' %>% finalEvaluation(sample.size = 1000)\n",
    "personalloans.reg = 'PersonalLoans.com 4' %>% getRegInputs()"
   ]
  },
  {
   "cell_type": "code",
   "execution_count": null,
   "metadata": {},
   "outputs": [],
   "source": [
    "# payloadErrorRegCount(personalloans.payload, personalloans.reg)\n",
    "# payloadErrorFields(personalloans.payload, personalloans.reg)"
   ]
  },
  {
   "cell_type": "code",
   "execution_count": null,
   "metadata": {},
   "outputs": [],
   "source": [
    "payloadErrorSummary(personalloans.payload)"
   ]
  },
  {
   "cell_type": "code",
   "execution_count": null,
   "metadata": {},
   "outputs": [],
   "source": [
    "regFieldsSummary(personalloans.payload, personalloans.reg)"
   ]
  },
  {
   "cell_type": "code",
   "execution_count": null,
   "metadata": {},
   "outputs": [],
   "source": []
  }
 ],
 "metadata": {
  "kernelspec": {
   "display_name": "R",
   "language": "R",
   "name": "ir"
  },
  "language_info": {
   "codemirror_mode": "r",
   "file_extension": ".r",
   "mimetype": "text/x-r-source",
   "name": "R",
   "pygments_lexer": "r",
   "version": "3.5.2"
  }
 },
 "nbformat": 4,
 "nbformat_minor": 2
}
