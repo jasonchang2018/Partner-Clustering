{
 "cells": [
  {
   "cell_type": "markdown",
   "metadata": {},
   "source": [
    "## Notes"
   ]
  },
  {
   "cell_type": "markdown",
   "metadata": {},
   "source": [
    "Questions:\n",
    "    * Are we reading the raw lead correctly?\n",
    "    * Do certain field values correlate with higher conversion?\n",
    "        * Within Partner i.\n",
    "        * Across Partners.\n",
    "\n",
    "Additional Data:\n",
    "    * URL\n",
    "    * Click ID\n",
    "    * Funnel Performance. Denial Reason, conversion boolean\n",
    "\n",
    "\n",
    "\n",
    "LenderEdge\n",
    "    * A. Raw DOB is standard date format, without dashes. A couple of blanks.\n",
    "    * B. When raw_incometype != 'Employment', defaults to 'OtherTaxableIncome'. ~30k, check time series.\n",
    "    * C. Often writes NA accountnumber when raw_accountnumber contains a value. ~500k, check time series.\n",
    "    * D. Blank, != 9 digit, and mail merge fields passed into Routing Number."
   ]
  },
  {
   "cell_type": "markdown",
   "metadata": {},
   "source": [
    "1B) \n",
    "df.lenderedge.comparison %>%\n",
    "    group_by(\n",
    "        raw_incometype,\n",
    "        incometype\n",
    "    ) %>% \n",
    "    summarize(\n",
    "        n()\n",
    "    )"
   ]
  },
  {
   "cell_type": "markdown",
   "metadata": {},
   "source": [
    "# Import Libraries"
   ]
  },
  {
   "cell_type": "code",
   "execution_count": null,
   "metadata": {
    "ExecuteTime": {
     "end_time": "2019-11-01T16:32:06.370432Z",
     "start_time": "2019-11-01T16:32:06.302Z"
    }
   },
   "outputs": [],
   "source": [
    "library(opploansanalytics)\n",
    "load.packages()"
   ]
  },
  {
   "cell_type": "markdown",
   "metadata": {},
   "source": [
    "# Import and Clean Data"
   ]
  },
  {
   "cell_type": "markdown",
   "metadata": {
    "ExecuteTime": {
     "end_time": "2019-11-01T19:17:12.295805Z",
     "start_time": "2019-11-01T19:17:12.276Z"
    }
   },
   "source": [
    "## Leads"
   ]
  },
  {
   "cell_type": "code",
   "execution_count": null,
   "metadata": {
    "ExecuteTime": {
     "end_time": "2019-11-01T19:19:02.210707Z",
     "start_time": "2019-11-01T19:19:02.190Z"
    },
    "code_folding": [
     0
    ]
   },
   "outputs": [],
   "source": [
    "getAdmethod = function () {\n",
    "    \n",
    "    queryReporting(\n",
    "\"\n",
    "select\n",
    "    c_adm.name\n",
    "    , count(*)\n",
    "from\n",
    "    cloudlending.applications as c_app\n",
    "    inner join\n",
    "        cloudlending.advertising_method as c_adm\n",
    "        on c_app.advertising_method = c_adm.id\n",
    "        and right(c_adm.name,1) = '4'\n",
    "where\n",
    "    date_trunc('month', c_app.createddate) = '2019-09-01'::date\n",
    "group by\n",
    "    1\n",
    "order by\n",
    "    2 desc\n",
    "limit 10    \n",
    "\"\n",
    "    )\n",
    "}"
   ]
  },
  {
   "cell_type": "code",
   "execution_count": null,
   "metadata": {
    "ExecuteTime": {
     "end_time": "2019-11-01T16:32:11.760614Z",
     "start_time": "2019-11-01T16:32:11.730Z"
    },
    "code_folding": [
     0
    ]
   },
   "outputs": [],
   "source": [
    "getLeadsDF = function (admethod.name, timestart, timeend) {\n",
    "    \n",
    "    queryReporting(\n",
    "        paste0(\n",
    "\"\n",
    "select\n",
    "\n",
    "    --  Identifiers  --\n",
    "    lde.lead_id\n",
    "    , lde.partnerid\n",
    "    , lde.leadofferid\n",
    "    , lde.lead_time\n",
    "    , c_am.name\n",
    "    , lde.accepted\n",
    "    , lde.reason\n",
    "    , lde.offer_amount\n",
    "    --  Banking  --\n",
    "    , lde.abaroutingnumber\n",
    "    , lde.accountnumber\n",
    "    , lde.bankname\n",
    "    --  Employment  --\n",
    "    , lde.grossmonthlyincome\n",
    "    , lde.incometype\n",
    "    , lde.lastpayrolldate\n",
    "    , lde.payrollfrequency\n",
    "    , lde.payrolltype\n",
    "    , lde.work_hiredate\n",
    "    --  Contact  --\n",
    "    , lde.dateofbirth\n",
    "    , lde.statecode\n",
    "\n",
    "\n",
    "    --  Raw Lead  --\n",
    "    , lde.raw_lead\n",
    "        --  ID  --\n",
    "    , lde.raw_lead ->> 'leadOfferId' as raw_leadofferid\n",
    "    , lde.raw_lead ->> 'requestedLoanAmount' as raw_loan_request\n",
    "        --  Banking  --\n",
    "    , lde.raw_lead -> 'bankInfo' ->> 'abaRoutingNumber' as raw_abaroutingnumber\n",
    "    , lde.raw_lead -> 'bankInfo' ->> 'accountNumber' as raw_accountnumber\n",
    "    , lde.raw_lead -> 'bankInfo' ->> 'bankName' as raw_bankname\n",
    "    , lde.raw_lead -> 'bankInfo' ->> 'accountType' as raw_accounttype\n",
    "    , lde.raw_lead -> 'bankInfo' ->> 'accountLength' as raw_accountlength\n",
    "        --  Employment  --\n",
    "    , lde.raw_lead ->> 'grossMonthlyIncome' as raw_grossmonthlyincome\n",
    "    , lde.raw_lead -> 'incomeInfo' ->> 'incomeType' as raw_incometype\n",
    "    , lde.raw_lead -> 'incomeInfo' ->> 'lastPayrollDate' as raw_lastpayrolldate\n",
    "    , lde.raw_lead -> 'incomeInfo' ->> 'payrollFrequency' as raw_payrollfrequency\n",
    "    , lde.raw_lead -> 'incomeInfo' ->> 'payrollType' as raw_payrolltype\n",
    "    , lde.raw_lead -> 'employmentInfo' ->> 'hireDate' as raw_work_hiredate\n",
    "        --  Contact  --\n",
    "    , lde.raw_lead -> 'personalInfo' ->> 'dateOfBirth' as raw_dateofbirth\n",
    "    , lde.raw_lead ->> 'stateCode' as raw_statecode\n",
    "    from\n",
    "        lde4.leads as lde\n",
    "    inner join\n",
    "        cloudlending.advertising_method as c_am\n",
    "        on lde.partnerid = c_am.external_id\n",
    "        and c_am.name = '\", admethod.name, \" \n",
    "    where\n",
    "        lde.lead_time >= '\", timestart, \"'::date\n",
    "        and lde.lead_time <= '\", timeend, \"'::date\n",
    "\"\n",
    "        )\n",
    "    )\n",
    "}\n",
    "\n",
    "df.lenderedge = read.csv(\"..\\\\data\\\\lenderedge_df_new.csv\")"
   ]
  },
  {
   "cell_type": "code",
   "execution_count": null,
   "metadata": {
    "ExecuteTime": {
     "end_time": "2019-11-01T21:44:37.322966Z",
     "start_time": "2019-11-01T21:43:37.497Z"
    },
    "code_folding": [
     0
    ]
   },
   "outputs": [],
   "source": [
    "formatDataTypes = function (df) {\n",
    "    \n",
    "    df.reformat = df %>%\n",
    "        mutate_if(\n",
    "            is.factor,\n",
    "            as.character\n",
    "        ) %>% \n",
    "        mutate(\n",
    "            \n",
    "            dateofbirth = if_else(\n",
    "                !is.na(dateofbirth) & dateofbirth != '',\n",
    "                dateofbirth %>% as.POSIXct() %>% ceiling_date(unit = 'day') %>% as.character(),\n",
    "                dateofbirth\n",
    "            ),\n",
    "            raw_dateofbirth = if_else(\n",
    "                raw_dateofbirth != '',\n",
    "                paste(\n",
    "                    raw_dateofbirth %>% str_sub(1,4),\n",
    "                    raw_dateofbirth %>% str_sub(5,6),\n",
    "                    raw_dateofbirth %>% str_sub(7,8),\n",
    "                    sep = '-'\n",
    "                ),\n",
    "                raw_dateofbirth\n",
    "            ),\n",
    "            \n",
    "            zip = if_else(\n",
    "                zip %>% nchar() == 4,\n",
    "                paste0('0', zip),\n",
    "                zip %>% as.character()\n",
    "            ),\n",
    "            raw_zip = if_else(\n",
    "                raw_zip %>% nchar() == 4,\n",
    "                paste0('0', raw_zip),\n",
    "                raw_zip %>% as.character()\n",
    "            ),\n",
    "            \n",
    "            abaroutingnumber.is.valid = \n",
    "                grepl(\"^[0-9]{9}\", abaroutingnumber) &\n",
    "                !grepl(\"^[0]{8}[0-9]\", abaroutingnumber) &\n",
    "                !grepl(\"^(0)\\\\1\\\\1\\\\1\\\\1\\\\1\\\\1\\\\1\\\\1\", abaroutingnumber) &\n",
    "                (\n",
    "                    abaroutingnumber %>% str_sub(1,1) %>% as.integer() * 3 +\n",
    "                    abaroutingnumber %>% str_sub(2,2) %>% as.integer() * 7 +\n",
    "                    abaroutingnumber %>% str_sub(3,3) %>% as.integer() * 1 +\n",
    "                    abaroutingnumber %>% str_sub(4,4) %>% as.integer() * 3 +\n",
    "                    abaroutingnumber %>% str_sub(5,5) %>% as.integer() * 7 +\n",
    "                    abaroutingnumber %>% str_sub(6,6) %>% as.integer() * 1 +\n",
    "                    abaroutingnumber %>% str_sub(7,7) %>% as.integer() * 3 +\n",
    "                    abaroutingnumber %>% str_sub(8,8) %>% as.integer() * 7 +\n",
    "                    abaroutingnumber %>% str_sub(9,9) %>% as.integer() * 1\n",
    "                ) %% 10 == 0,\n",
    "            raw_abaroutingnumber.is.valid = \n",
    "                grepl(\"^[0-9]{9}\", raw_abaroutingnumber) &\n",
    "                !grepl(\"^[0]{8}[0-9]\", raw_abaroutingnumber) &\n",
    "                !grepl(\"^(0)\\\\1\\\\1\\\\1\\\\1\\\\1\\\\1\\\\1\\\\1\", raw_abaroutingnumber) &\n",
    "                (\n",
    "                    raw_abaroutingnumber %>% str_sub(1,1) %>% as.integer() * 3 +\n",
    "                    raw_abaroutingnumber %>% str_sub(2,2) %>% as.integer() * 7 +\n",
    "                    raw_abaroutingnumber %>% str_sub(3,3) %>% as.integer() * 1 +\n",
    "                    raw_abaroutingnumber %>% str_sub(4,4) %>% as.integer() * 3 +\n",
    "                    raw_abaroutingnumber %>% str_sub(5,5) %>% as.integer() * 7 +\n",
    "                    raw_abaroutingnumber %>% str_sub(6,6) %>% as.integer() * 1 +\n",
    "                    raw_abaroutingnumber %>% str_sub(7,7) %>% as.integer() * 3 +\n",
    "                    raw_abaroutingnumber %>% str_sub(8,8) %>% as.integer() * 7 +\n",
    "                    raw_abaroutingnumber %>% str_sub(9,9) %>% as.integer() * 1\n",
    "                ) %% 10 == 0,\n",
    "            \n",
    "            accountnumber.is.valid = \n",
    "                grepl(\"^[0-9]{6,17}\", accountnumber) &\n",
    "                !grepl(\"^([0-9])\\\\1\\\\1\\\\1\\\\1\\\\1\\\\1?\\\\1?\\\\1?\\\\1?\\\\1?\\\\1?\\\\1?\\\\1?\\\\1?\\\\1?\\\\1?\", accountnumber),\n",
    "            raw_accountnumber.is.valid = \n",
    "                grepl(\"^[0-9]{6,17}\", raw_accountnumber) &\n",
    "                !grepl(\"^([0-9])\\\\1\\\\1\\\\1\\\\1\\\\1\\\\1?\\\\1?\\\\1?\\\\1?\\\\1?\\\\1?\\\\1?\\\\1?\\\\1?\\\\1?\\\\1?\", raw_accountnumber)\n",
    "            \n",
    "        )\n",
    "    \n",
    "#     df.reformat.no.na = df.reformat %>%\n",
    "#         apply(\n",
    "#             MARGIN = 2,\n",
    "#             replace_na,\n",
    "#             replace = ''\n",
    "#         )\n",
    "    \n",
    "    return(df.reformat)\n",
    "}\n",
    "\n",
    "df.lenderedge.reformat = df.lenderedge %>% formatDataTypes()"
   ]
  },
  {
   "cell_type": "code",
   "execution_count": null,
   "metadata": {
    "ExecuteTime": {
     "end_time": "2019-11-01T21:44:41.861555Z",
     "start_time": "2019-11-01T21:43:45.482Z"
    },
    "code_folding": [
     0
    ]
   },
   "outputs": [],
   "source": [
    "compareExtractionToRaw = function (df) {\n",
    "    \n",
    "    df %>% \n",
    "        mutate(\n",
    "            match.leadofferid = \n",
    "                (is.na(leadofferid) & is.na(raw_leadofferid)) |\n",
    "                (is.na(leadofferid) & raw_leadofferid == '') |\n",
    "                (!is.na(leadofferid) & !is.na(raw_leadofferid) & leadofferid == raw_leadofferid),\n",
    "            \n",
    "            match.abaroutingnumber = \n",
    "                (is.na(abaroutingnumber) & is.na(raw_abaroutingnumber)) |\n",
    "                (is.na(abaroutingnumber) & raw_abaroutingnumber == '') |\n",
    "                (!is.na(abaroutingnumber) & !is.na(raw_abaroutingnumber) & abaroutingnumber == raw_abaroutingnumber),\n",
    "            \n",
    "            match.accountnumber = \n",
    "                (is.na(accountnumber) & is.na(raw_accountnumber)) |\n",
    "                (is.na(accountnumber) & raw_accountnumber == '') |\n",
    "                (!is.na(accountnumber) & !is.na(raw_accountnumber) & accountnumber == raw_accountnumber),\n",
    "            \n",
    "            match.bankname = \n",
    "                (is.na(bankname) & is.na(raw_bankname)) |\n",
    "                (is.na(bankname) & raw_bankname == '') |\n",
    "                (!is.na(bankname) & !is.na(raw_bankname) & bankname == raw_bankname),\n",
    "            \n",
    "            match.grossmonthlyincome = \n",
    "                (is.na(grossmonthlyincome) & is.na(raw_grossmonthlyincome)) |\n",
    "                (is.na(grossmonthlyincome) & raw_grossmonthlyincome == '') |\n",
    "                (!is.na(grossmonthlyincome) & !is.na(raw_grossmonthlyincome) & grossmonthlyincome == raw_grossmonthlyincome),\n",
    "            \n",
    "            match.incometype = \n",
    "                (is.na(incometype) & is.na(raw_incometype)) |\n",
    "                (is.na(incometype) & raw_incometype == '') |\n",
    "                (!is.na(incometype) & !is.na(raw_incometype) & incometype == raw_incometype),\n",
    "            \n",
    "            match.lastpayrolldate = \n",
    "                (is.na(lastpayrolldate) & is.na(raw_lastpayrolldate)) |\n",
    "                (is.na(lastpayrolldate) & raw_lastpayrolldate == '') |\n",
    "                (!is.na(lastpayrolldate) & !is.na(raw_lastpayrolldate) & lastpayrolldate == raw_lastpayrolldate),\n",
    "            \n",
    "            match.payrollfrequency = \n",
    "                (is.na(payrollfrequency) & is.na(raw_payrollfrequency)) |\n",
    "                (is.na(payrollfrequency) & raw_payrollfrequency == '') |\n",
    "                (!is.na(payrollfrequency) & !is.na(raw_payrollfrequency) & payrollfrequency == raw_payrollfrequency),\n",
    "            \n",
    "            match.payrolltype = \n",
    "                (is.na(payrolltype) & is.na(raw_payrolltype)) |\n",
    "                (is.na(payrolltype) & raw_payrolltype == '') |\n",
    "                (!is.na(payrolltype) & !is.na(raw_payrolltype) & payrolltype == raw_payrolltype),\n",
    "            \n",
    "            match.work_hiredate = \n",
    "                (is.na(work_hiredate) & is.na(raw_work_hiredate)) |\n",
    "                (is.na(work_hiredate) & raw_work_hiredate == '') |\n",
    "                (!is.na(work_hiredate) & !is.na(raw_work_hiredate) & work_hiredate == raw_work_hiredate),\n",
    "            \n",
    "            match.dateofbirth = \n",
    "                (is.na(dateofbirth) & is.na(raw_dateofbirth)) |\n",
    "                (is.na(dateofbirth) & raw_dateofbirth == '') |\n",
    "                (!is.na(dateofbirth) & !is.na(raw_dateofbirth) & dateofbirth == raw_dateofbirth),\n",
    "            \n",
    "            match.statecode = \n",
    "                (is.na(statecode) & is.na(raw_statecode)) |\n",
    "                (is.na(statecode) & raw_statecode == '') |\n",
    "                (!is.na(statecode) & !is.na(raw_statecode) & statecode == raw_statecode)\n",
    "        )\n",
    "    \n",
    "}\n",
    "\n",
    "df.lenderedge.comparison = df.lenderedge.reformat %>% compareExtractionToRaw()"
   ]
  },
  {
   "cell_type": "code",
   "execution_count": null,
   "metadata": {
    "ExecuteTime": {
     "end_time": "2019-11-01T21:44:42.034090Z",
     "start_time": "2019-11-01T21:43:46.083Z"
    },
    "code_folding": [
     0
    ]
   },
   "outputs": [],
   "source": [
    "examineMatches = function (df) {\n",
    "\n",
    "    df %>%\n",
    "        select(\n",
    "            starts_with('match.')\n",
    "        ) %>% \n",
    "        apply(\n",
    "            MARGIN = 2,\n",
    "            FUN = sum\n",
    "        ) %>% sort() %>%\n",
    "        c(\n",
    "            nrow = df.lenderedge.comparison %>% nrow()\n",
    "        )\n",
    "}\n",
    "\n",
    "df.lenderedge.comparison %>% examineMatches()"
   ]
  },
  {
   "cell_type": "markdown",
   "metadata": {
    "ExecuteTime": {
     "end_time": "2019-11-01T19:17:12.295805Z",
     "start_time": "2019-11-01T19:17:12.276Z"
    }
   },
   "source": [
    "## Funnel"
   ]
  },
  {
   "cell_type": "code",
   "execution_count": null,
   "metadata": {
    "ExecuteTime": {
     "end_time": "2019-11-01T19:20:14.251696Z",
     "start_time": "2019-11-01T19:20:14.074Z"
    }
   },
   "outputs": [],
   "source": [
    "lenderedge.response = read_csv(\"../data/lenderedge_response_df.csv\")"
   ]
  },
  {
   "cell_type": "code",
   "execution_count": null,
   "metadata": {
    "ExecuteTime": {
     "end_time": "2019-11-01T18:12:05.114413Z",
     "start_time": "2019-11-01T18:12:03.584Z"
    },
    "code_folding": [
     0
    ]
   },
   "outputs": [],
   "source": [
    "getResponseSubset = function (df) {\n",
    "    \n",
    "    df %>%\n",
    "        filter(\n",
    "            appldate >= '2019-07-01' %>% as.Date() &\n",
    "            appldate < '2019-10-01' %>% as.Date()\n",
    "        ) %>%\n",
    "        mutate(\n",
    "            click_id_pos = partner_event_data %>%\n",
    "                str_extract(\n",
    "                    \"click_id=%?[0-9]+\"\n",
    "                ) %>% \n",
    "                str_locate(\n",
    "                    \"=\"\n",
    "                ) %>% .[, 1],\n",
    "            click_id = partner_event_data %>%\n",
    "                str_extract(\n",
    "                    \"click_id=%?[0-9]+\"\n",
    "                ) %>% \n",
    "                str_sub(\n",
    "                    start = click_id_pos + 1,\n",
    "                    end = partner_event_data %>% nchar()\n",
    "                ),\n",
    "            has.unique.lead.id = !(lead_id %in% (\n",
    "                df %>%\n",
    "                    select(lead_id) %>%\n",
    "                    group_by(lead_id) %>%\n",
    "                    mutate(n = n()) %>%\n",
    "                    ungroup() %>% \n",
    "                    filter(n > 1) %>% \n",
    "                    .$lead_id\n",
    "            ))\n",
    "        )\n",
    "    \n",
    "}\n",
    "\n",
    "lenderedge.response.subset = lenderedge.response %>% getResponseSubset()"
   ]
  },
  {
   "cell_type": "markdown",
   "metadata": {},
   "source": [
    "## Map"
   ]
  },
  {
   "cell_type": "code",
   "execution_count": null,
   "metadata": {
    "ExecuteTime": {
     "end_time": "2019-11-01T17:46:21.121151Z",
     "start_time": "2019-11-01T17:46:20.577Z"
    }
   },
   "outputs": [],
   "source": [
    "# https://austinwehrwein.com/digital-humanities/creating-a-density-map-in-r-with-zipcodes/"
   ]
  },
  {
   "cell_type": "code",
   "execution_count": null,
   "metadata": {
    "ExecuteTime": {
     "end_time": "2019-11-01T15:35:18.970413Z",
     "start_time": "2019-11-01T15:35:18.939Z"
    }
   },
   "outputs": [],
   "source": [
    "library(zipcode)\n",
    "library(tidyverse)\n",
    "library(maps)\n",
    "library(viridis)\n",
    "library(ggthemes)\n",
    "library(albersusa)"
   ]
  },
  {
   "cell_type": "code",
   "execution_count": null,
   "metadata": {
    "ExecuteTime": {
     "end_time": "2019-11-01T17:06:06.443532Z",
     "start_time": "2019-11-01T17:06:06.418Z"
    }
   },
   "outputs": [],
   "source": [
    "zip.codes = read_csv(\"../data/zip_code_database.csv\")"
   ]
  },
  {
   "cell_type": "code",
   "execution_count": null,
   "metadata": {
    "ExecuteTime": {
     "end_time": "2019-11-01T17:15:32.575435Z",
     "start_time": "2019-11-01T17:15:32.528Z"
    }
   },
   "outputs": [],
   "source": [
    "valid.zip = zip.codes %>%\n",
    "    filter(\n",
    "        !state %in% c('AA', 'AE', 'AP', 'AS', 'FM', 'GU', 'MH', 'MP', 'PR', 'PW', 'VI') &\n",
    "        decommissioned == 0 &\n",
    "        nchar(zip) == 5\n",
    "    ) %>% \n",
    "    select(\n",
    "        zip,\n",
    "        state,\n",
    "        latitude,\n",
    "        longitude\n",
    "    )"
   ]
  },
  {
   "cell_type": "code",
   "execution_count": null,
   "metadata": {
    "ExecuteTime": {
     "end_time": "2019-11-01T17:33:30.431995Z",
     "start_time": "2019-11-01T17:33:30.410Z"
    }
   },
   "outputs": [],
   "source": [
    "us = ggplot2::map_data('state')"
   ]
  },
  {
   "cell_type": "code",
   "execution_count": null,
   "metadata": {
    "ExecuteTime": {
     "end_time": "2019-11-01T19:25:52.966281Z",
     "start_time": "2019-11-01T19:25:52.554Z"
    }
   },
   "outputs": [],
   "source": [
    "us2 = ggplot2::map_data('county')"
   ]
  },
  {
   "cell_type": "markdown",
   "metadata": {},
   "source": [
    "## Combined"
   ]
  },
  {
   "cell_type": "code",
   "execution_count": null,
   "metadata": {
    "ExecuteTime": {
     "end_time": "2019-11-01T21:44:42.800873Z",
     "start_time": "2019-11-01T21:43:49.922Z"
    }
   },
   "outputs": [],
   "source": [
    "lenderedge = lenderedge.response.subset %>%\n",
    "    left_join(\n",
    "        df.lenderedge.comparison,\n",
    "        by = c('lead_id' = 'lead_id')\n",
    "    ) %>%\n",
    "    left_join(\n",
    "        valid.zip,\n",
    "        by = c('zip' = 'zip')\n",
    "    )"
   ]
  },
  {
   "cell_type": "code",
   "execution_count": null,
   "metadata": {
    "ExecuteTime": {
     "end_time": "2019-11-01T16:32:22.984654Z",
     "start_time": "2019-11-01T16:32:22.957Z"
    }
   },
   "outputs": [],
   "source": [
    "theme_set(theme_bw())"
   ]
  },
  {
   "cell_type": "markdown",
   "metadata": {},
   "source": [
    "### _LenderEdge_"
   ]
  },
  {
   "cell_type": "markdown",
   "metadata": {},
   "source": [
    "* Questions:\n",
    "    - When have these apps come in?\n",
    "    - What different values do we receive?"
   ]
  },
  {
   "cell_type": "markdown",
   "metadata": {},
   "source": [
    "# Univariate\n",
    "### Do any variables have a direct correlation with funding?"
   ]
  },
  {
   "cell_type": "code",
   "execution_count": null,
   "metadata": {
    "ExecuteTime": {
     "end_time": "2019-11-01T18:19:12.465810Z",
     "start_time": "2019-11-01T18:19:12.281Z"
    }
   },
   "outputs": [],
   "source": [
    "lenderedge %>% str()"
   ]
  },
  {
   "cell_type": "markdown",
   "metadata": {},
   "source": [
    "## Geography\n",
    "- Volume centralized in state clusters, which have a gradient for FR.\n",
    "- Some states/MSA show low conversion (red) on low volume (small)\n",
    "- There is no concentrated state that funds better than others."
   ]
  },
  {
   "cell_type": "code",
   "execution_count": null,
   "metadata": {
    "ExecuteTime": {
     "end_time": "2019-11-01T21:57:42.706503Z",
     "start_time": "2019-11-01T21:57:42.396Z"
    },
    "code_folding": [
     0
    ]
   },
   "outputs": [],
   "source": [
    "getValidZipPlotFunnel = function (df, numerator.quo, denominator.quo) {\n",
    "\n",
    "    ##  With full df, sum Qualified Volume by State.  ##\n",
    "    summary.df = df %>%\n",
    "        filter(\n",
    "            qualified == 1\n",
    "        ) %>% \n",
    "        group_by(\n",
    "            is.valid = zip %in% valid.zip$zip\n",
    "        ) %>% \n",
    "        summarize(\n",
    "            n = n(),\n",
    "            metric = sum(!!numerator.quo)/sum(!!denominator.quo)\n",
    "        ) %>% \n",
    "        ungroup() %>% \n",
    "        filter(\n",
    "            n >= 1 &\n",
    "            metric < 1\n",
    "        )\n",
    "    \n",
    "    ##  Bar Plot  ##\n",
    "    summary.df %>% \n",
    "        ggplot(\n",
    "            mapping = aes(\n",
    "                x = is.valid,\n",
    "                y = metric\n",
    "            )\n",
    "        ) +\n",
    "        geom_col(\n",
    "            mapping = aes(\n",
    "                fill = n\n",
    "            )\n",
    "        ) + \n",
    "        ##  Adjust sizing  ##\n",
    "        coord_fixed(\n",
    "            ratio = 5\n",
    "        ) +\n",
    "        ##  Adjust coloring  ##\n",
    "        scale_fill_gradient(\n",
    "            low = \"lightgray\",\n",
    "            high = \"steelblue\"\n",
    "        )\n",
    "    \n",
    "}\n",
    "\n",
    "lenderedge %>% getValidZipPlotFunnel(quo(funded), quo(qualified))"
   ]
  },
  {
   "cell_type": "code",
   "execution_count": null,
   "metadata": {
    "ExecuteTime": {
     "end_time": "2019-11-01T20:44:46.828731Z",
     "start_time": "2019-11-01T20:44:44.083Z"
    },
    "code_folding": [
     0
    ]
   },
   "outputs": [],
   "source": [
    "getZipPlotVolume = function (df) {\n",
    "    \n",
    "    ##  With full df, sum Qualified Volume by Zip Code.  ##\n",
    "    df %>%\n",
    "        group_by(\n",
    "            zip,\n",
    "            longitude,\n",
    "            latitude\n",
    "        ) %>% \n",
    "        summarize(\n",
    "            metric = sum(qualified)\n",
    "        ) %>% \n",
    "        ##  Plot geographic coodinates as cartesian points  ##\n",
    "        ggplot(\n",
    "            mapping = aes(\n",
    "                x = longitude,\n",
    "                y = latitude\n",
    "            )\n",
    "        ) +\n",
    "        ##  Gray county lines and black state lines  ##\n",
    "        geom_polygon(\n",
    "            data = us2,\n",
    "            mapping =\n",
    "                aes(\n",
    "                    x = long,\n",
    "                    y = lat,\n",
    "                    group = group\n",
    "                ),\n",
    "                color = 'gray',\n",
    "                fill = NA,\n",
    "                alpha = 0.35\n",
    "        ) +\n",
    "        geom_polygon(\n",
    "            data = us,\n",
    "            mapping =\n",
    "                aes(\n",
    "                    x = long,\n",
    "                    y = lat,\n",
    "                    group = group\n",
    "                ),\n",
    "                color = 'black',\n",
    "                fill = NA,\n",
    "                alpha = 0.35\n",
    "        ) +\n",
    "        ##  Place point for country with color gradient on the metric (Q Volume)  ##\n",
    "        geom_point(\n",
    "            mapping = aes(\n",
    "                color = metric\n",
    "            ),\n",
    "            size = 0.8,\n",
    "            alpha = 0.25\n",
    "        ) +\n",
    "        xlim(-125, -65) +\n",
    "        ylim(25, 50) +\n",
    "        labs(\n",
    "            title = \"LenderEdge 4: New Qualified Volume by Geography\"\n",
    "        ) +\n",
    "        ##  Adjust sizing  ##\n",
    "        coord_fixed(ratio = 16/9)\n",
    "    \n",
    "}\n",
    "\n",
    "lenderedge %>% getZipPlotVolume()"
   ]
  },
  {
   "cell_type": "code",
   "execution_count": null,
   "metadata": {
    "ExecuteTime": {
     "end_time": "2019-11-01T20:44:37.199853Z",
     "start_time": "2019-11-01T20:44:34.611Z"
    },
    "code_folding": [
     0
    ]
   },
   "outputs": [],
   "source": [
    "getZipPlotFunnel = function (df, numerator.quo, denominator.quo) {\n",
    "    \n",
    "    ##  With full df, sum Qualified Volume by Zip Code.  ##\n",
    "    df %>%\n",
    "        filter(\n",
    "            qualified == 1\n",
    "        ) %>% \n",
    "        group_by(\n",
    "            zip,\n",
    "            longitude,\n",
    "            latitude\n",
    "        ) %>% \n",
    "        summarize(\n",
    "            n = n(),\n",
    "            metric = sum(!!numerator.quo)/sum(!!denominator.quo)\n",
    "        ) %>% \n",
    "        ungroup() %>% \n",
    "        filter(\n",
    "            n >= 1 &\n",
    "            metric < 1\n",
    "        ) %>% \n",
    "        ##  Plot geographic coodinates as cartesian points  ##\n",
    "        ggplot(\n",
    "            mapping = aes(\n",
    "                x = longitude,\n",
    "                y = latitude\n",
    "            )\n",
    "        ) +\n",
    "        ##  Gray county lines and black state lines  ##\n",
    "        geom_polygon(\n",
    "            data = us2,\n",
    "            mapping =\n",
    "                aes(\n",
    "                    x = long,\n",
    "                    y = lat,\n",
    "                    group = group\n",
    "                ),\n",
    "                color = 'gray',\n",
    "                fill = NA,\n",
    "                alpha = 0.35\n",
    "        ) +\n",
    "        geom_polygon(\n",
    "            data = us,\n",
    "            mapping =\n",
    "                aes(\n",
    "                    x = long,\n",
    "                    y = lat,\n",
    "                    group = group\n",
    "                ),\n",
    "                color = 'black',\n",
    "                fill = NA,\n",
    "                alpha = 0.35\n",
    "        ) +\n",
    "        ##  Place point for country with color, size, and transparency gradient on the metric (FR)  ##\n",
    "        geom_point(\n",
    "            mapping = aes(\n",
    "                color = metric,\n",
    "                size = n,\n",
    "                alpha = metric\n",
    "            )\n",
    "            # size = 0.8,\n",
    "            # alpha = 0.25\n",
    "        ) +\n",
    "        xlim(-125, -65) +\n",
    "        ylim(25, 50) +\n",
    "#         labs(\n",
    "#             title = \"LenderEdge 4: New FR by Geography\"\n",
    "#         ) +\n",
    "        ##  Adjust sizing  ##\n",
    "        coord_fixed(ratio = 16/9) +\n",
    "        ##  Adjust coloring  ##\n",
    "        scale_colour_gradientn(colours = c(\"brown3\", \"gold\", \"springgreen4\"))\n",
    "}\n",
    "\n",
    "lenderedge %>% getZipPlotFunnel(quo(funded), quo(contractsigned))"
   ]
  },
  {
   "cell_type": "code",
   "execution_count": null,
   "metadata": {
    "ExecuteTime": {
     "end_time": "2019-11-01T20:44:55.874071Z",
     "start_time": "2019-11-01T20:44:55.483Z"
    },
    "code_folding": [
     0
    ]
   },
   "outputs": [],
   "source": [
    "getStatePlotFunnel = function (df, numerator.quo, denominator.quo) {\n",
    "\n",
    "    ##  With full df, sum Qualified Volume by State.  ##\n",
    "    summary.df = df %>%\n",
    "        filter(\n",
    "            qualified == 1\n",
    "        ) %>% \n",
    "        group_by(\n",
    "            statecode\n",
    "        ) %>% \n",
    "        summarize(\n",
    "            n = n(),\n",
    "            metric = sum(!!numerator.quo)/sum(!!denominator.quo)\n",
    "        ) %>% \n",
    "        ungroup() %>% \n",
    "        filter(\n",
    "            n >= 1 &\n",
    "            metric < 1\n",
    "        )\n",
    "\n",
    "    ##  Assign as factor and sort levels to assign ordering for plot.  ##\n",
    "    summary.df$statecode = factor(summary.df$statecode, levels = summary.df$statecode[order(-summary.df$n)])\n",
    "    \n",
    "    ##  Bar Plot  ##\n",
    "    summary.df %>% \n",
    "        ggplot(\n",
    "            mapping = aes(\n",
    "                x = statecode,\n",
    "                y = metric\n",
    "            )\n",
    "        ) +\n",
    "        geom_col(\n",
    "            mapping = aes(\n",
    "                fill = n\n",
    "            )\n",
    "        ) + \n",
    "        ##  Adjust sizing  ##\n",
    "        coord_fixed(\n",
    "            ratio = 40\n",
    "        ) +\n",
    "        ##  Adjust coloring  ##\n",
    "        scale_fill_gradient(\n",
    "            low = \"lightgray\",\n",
    "            high = \"steelblue\"\n",
    "        )\n",
    "    \n",
    "}\n",
    "\n",
    "lenderedge %>% getStatePlotFunnel(quo(funded), quo(qualified))"
   ]
  },
  {
   "cell_type": "markdown",
   "metadata": {},
   "source": [
    "## DOB\n",
    "- FR for older customers drops off."
   ]
  },
  {
   "cell_type": "code",
   "execution_count": null,
   "metadata": {
    "ExecuteTime": {
     "end_time": "2019-11-01T20:55:36.077409Z",
     "start_time": "2019-11-01T20:55:35.560Z"
    },
    "code_folding": [
     0
    ]
   },
   "outputs": [],
   "source": [
    "getDOBPlotFunnel = function (df, numerator.quo, denominator.quo) {\n",
    "\n",
    "    ##  With full df, sum Qualified Volume by State.  ##\n",
    "    summary.df = df %>%\n",
    "        filter(\n",
    "            qualified == 1\n",
    "        ) %>% \n",
    "        group_by(\n",
    "            dob = ((.$lead_time %>% as.Date() - .$raw_dateofbirth %>% as.Date()) %>% as.numeric())/365,\n",
    "            dob = dob %>% floor()\n",
    "        ) %>% \n",
    "        summarize(\n",
    "            n = n(),\n",
    "            metric = sum(!!numerator.quo)/sum(!!denominator.quo)\n",
    "        ) %>% \n",
    "        ungroup() %>% \n",
    "        filter(\n",
    "            n >= 1 &\n",
    "            metric < 1\n",
    "        )\n",
    "    \n",
    "    ##  Bar Plot  ##\n",
    "    summary.df %>% \n",
    "        ggplot(\n",
    "            mapping = aes(\n",
    "                x = dob,\n",
    "                y = metric\n",
    "            )\n",
    "        ) +\n",
    "        geom_col(\n",
    "            mapping = aes(\n",
    "                fill = n\n",
    "            )\n",
    "        ) + \n",
    "        ##  Adjust sizing  ##\n",
    "        coord_fixed(\n",
    "            ratio = 100\n",
    "        ) +\n",
    "        ##  Adjust coloring  ##\n",
    "        scale_fill_gradient(\n",
    "            low = \"lightgray\",\n",
    "            high = \"steelblue\"\n",
    "        )\n",
    "    \n",
    "}\n",
    "\n",
    "lenderedge %>% getDOBPlotFunnel(quo(funded), quo(qualified))"
   ]
  },
  {
   "cell_type": "markdown",
   "metadata": {},
   "source": [
    "## Income\n",
    "- FR for higher income customers becomes more volatile."
   ]
  },
  {
   "cell_type": "code",
   "execution_count": null,
   "metadata": {
    "ExecuteTime": {
     "end_time": "2019-11-01T21:06:11.471476Z",
     "start_time": "2019-11-01T21:06:11.120Z"
    },
    "code_folding": [
     0
    ]
   },
   "outputs": [],
   "source": [
    "getIncomePlotFunnel = function (df, numerator.quo, denominator.quo) {\n",
    "\n",
    "    ##  With full df, sum Qualified Volume by State.  ##\n",
    "    summary.df = df %>%\n",
    "        filter(\n",
    "            qualified == 1\n",
    "        ) %>% \n",
    "        group_by(\n",
    "            grossmonthlyincome = .$grossmonthlyincome/500,\n",
    "            grossmonthlyincome = grossmonthlyincome %>% floor() * 500\n",
    "        ) %>% \n",
    "        summarize(\n",
    "            n = n(),\n",
    "            metric = sum(!!numerator.quo)/sum(!!denominator.quo)\n",
    "        ) %>% \n",
    "        ungroup() %>% \n",
    "        filter(\n",
    "            n >= 1 &\n",
    "            metric < 1\n",
    "        )\n",
    "    \n",
    "    ##  Bar Plot  ##\n",
    "    summary.df %>% \n",
    "        ggplot(\n",
    "            mapping = aes(\n",
    "                x = grossmonthlyincome,\n",
    "                y = metric\n",
    "            )\n",
    "        ) +\n",
    "        geom_col(\n",
    "            mapping = aes(\n",
    "                fill = n\n",
    "            )\n",
    "        ) + \n",
    "        xlim(0,30000) +\n",
    "        ##  Adjust sizing  ##\n",
    "        coord_fixed(\n",
    "            ratio = 30000\n",
    "        ) +\n",
    "        ##  Adjust coloring  ##\n",
    "        scale_fill_gradient(\n",
    "            low = \"lightgray\",\n",
    "            high = \"steelblue\"\n",
    "        )\n",
    "    \n",
    "}\n",
    "\n",
    "lenderedge %>% getIncomePlotFunnel(quo(funded), quo(qualified))"
   ]
  },
  {
   "cell_type": "code",
   "execution_count": null,
   "metadata": {
    "ExecuteTime": {
     "end_time": "2019-11-01T21:57:42.706503Z",
     "start_time": "2019-11-01T21:57:42.396Z"
    },
    "code_folding": [
     0
    ]
   },
   "outputs": [],
   "source": [
    "# income.type = df.lenderedge.comparison %>%\n",
    "#     group_by(\n",
    "#         raw_incometype  \n",
    "#     ) %>% \n",
    "#     summarize(\n",
    "#         n = n()\n",
    "#     )\n",
    "\n",
    "# income.type"
   ]
  },
  {
   "cell_type": "markdown",
   "metadata": {},
   "source": [
    "## Bank"
   ]
  },
  {
   "cell_type": "code",
   "execution_count": null,
   "metadata": {
    "ExecuteTime": {
     "end_time": "2019-11-01T21:36:43.507391Z",
     "start_time": "2019-11-01T21:36:43.186Z"
    },
    "code_folding": [
     0
    ]
   },
   "outputs": [],
   "source": [
    "getABAPlotFunnel = function (df, numerator.quo, denominator.quo) {\n",
    "\n",
    "    ##  With full df, sum Qualified Volume by State.  ##\n",
    "    summary.df = df %>%\n",
    "        mutate(\n",
    "            na.aba = is.na(abaroutingnumber)\n",
    "        ) %>% \n",
    "        filter(\n",
    "            qualified == 1 &\n",
    "            !is.na(abaroutingnumber.is.valid) &\n",
    "            !(!abaroutingnumber.is.valid & !na.aba)\n",
    "        ) %>% \n",
    "        group_by(\n",
    "            enter.aba = abaroutingnumber.is.valid\n",
    "        ) %>% \n",
    "        summarize(\n",
    "            n = n(),\n",
    "            metric = sum(!!numerator.quo)/sum(!!denominator.quo)\n",
    "        ) %>% \n",
    "        ungroup() %>% \n",
    "        filter(\n",
    "            n >= 1 &\n",
    "            metric < 1\n",
    "        )\n",
    "    \n",
    "    ##  Bar Plot  ##\n",
    "    summary.df %>% \n",
    "        ggplot(\n",
    "            mapping = aes(\n",
    "                x = enter.aba,\n",
    "                y = metric\n",
    "            )\n",
    "        ) +\n",
    "        geom_col(\n",
    "            mapping = aes(\n",
    "                fill = n\n",
    "            )\n",
    "        ) + \n",
    "        ##  Adjust sizing  ##\n",
    "        coord_fixed(\n",
    "            ratio = 10\n",
    "        ) +\n",
    "        ##  Adjust coloring  ##\n",
    "        scale_fill_gradient(\n",
    "            low = \"lightgray\",\n",
    "            high = \"steelblue\"\n",
    "        )\n",
    "    \n",
    "}\n",
    "\n",
    "lenderedge %>% getABAPlotFunnel(quo(funded), quo(qualified))"
   ]
  },
  {
   "cell_type": "code",
   "execution_count": null,
   "metadata": {
    "ExecuteTime": {
     "end_time": "2019-11-01T21:48:32.058566Z",
     "start_time": "2019-11-01T21:48:31.134Z"
    },
    "code_folding": [
     0
    ]
   },
   "outputs": [],
   "source": [
    "getAccountNumPlotFunnel = function (df, numerator.quo, denominator.quo) {\n",
    "\n",
    "    ##  With full df, sum Qualified Volume by State.  ##\n",
    "    summary.df = df %>%\n",
    "        filter(\n",
    "            qualified == 1 &\n",
    "            !is.na(accountnumber.is.valid) &\n",
    "            !(!accountnumber.is.valid & is.na(accountnumber))\n",
    "        ) %>% \n",
    "        group_by(\n",
    "            accountnumber.is.valid\n",
    "        ) %>% \n",
    "        summarize(\n",
    "            n = n(),\n",
    "            metric = sum(!!numerator.quo)/sum(!!denominator.quo)\n",
    "        ) %>% \n",
    "        ungroup() %>% \n",
    "        filter(\n",
    "            n >= 1 &\n",
    "            metric < 1\n",
    "        )\n",
    "    \n",
    "    ##  Bar Plot  ##\n",
    "    summary.df %>% \n",
    "        ggplot(\n",
    "            mapping = aes(\n",
    "                x = accountnumber.is.valid,\n",
    "                y = metric\n",
    "            )\n",
    "        ) +\n",
    "        geom_col(\n",
    "            mapping = aes(\n",
    "                fill = n\n",
    "            )\n",
    "        ) + \n",
    "        ##  Adjust sizing  ##\n",
    "        coord_fixed(\n",
    "            ratio = 10\n",
    "        ) +\n",
    "        ##  Adjust coloring  ##\n",
    "        scale_fill_gradient(\n",
    "            low = \"lightgray\",\n",
    "            high = \"steelblue\"\n",
    "        )\n",
    "    \n",
    "}\n",
    "\n",
    "lenderedge %>% getAccountNumPlotFunnel(quo(funded), quo(qualified))"
   ]
  },
  {
   "cell_type": "code",
   "execution_count": null,
   "metadata": {
    "ExecuteTime": {
     "end_time": "2019-11-01T21:50:57.176017Z",
     "start_time": "2019-11-01T21:50:56.853Z"
    },
    "code_folding": [
     0
    ]
   },
   "outputs": [],
   "source": [
    "getAccountTypePlotFunnel = function (df, numerator.quo, denominator.quo) {\n",
    "\n",
    "    ##  With full df, sum Qualified Volume by State.  ##\n",
    "    summary.df = df %>%\n",
    "        filter(\n",
    "            qualified == 1\n",
    "        ) %>% \n",
    "        group_by(\n",
    "            raw_accounttype\n",
    "        ) %>% \n",
    "        summarize(\n",
    "            n = n(),\n",
    "            metric = sum(!!numerator.quo)/sum(!!denominator.quo)\n",
    "        ) %>% \n",
    "        ungroup() %>% \n",
    "        filter(\n",
    "            n >= 1 &\n",
    "            metric < 1\n",
    "        )\n",
    "    \n",
    "    ##  Bar Plot  ##\n",
    "    summary.df %>% \n",
    "        ggplot(\n",
    "            mapping = aes(\n",
    "                x = raw_accounttype,\n",
    "                y = metric\n",
    "            )\n",
    "        ) +\n",
    "        geom_col(\n",
    "            mapping = aes(\n",
    "                fill = n\n",
    "            )\n",
    "        ) + \n",
    "        ##  Adjust sizing  ##\n",
    "        coord_fixed(\n",
    "            ratio = 15\n",
    "        ) +\n",
    "        ##  Adjust coloring  ##\n",
    "        scale_fill_gradient(\n",
    "            low = \"lightgray\",\n",
    "            high = \"steelblue\"\n",
    "        )\n",
    "    \n",
    "}\n",
    "\n",
    "lenderedge %>% getAccountTypePlotFunnel(quo(funded), quo(qualified))"
   ]
  },
  {
   "cell_type": "code",
   "execution_count": null,
   "metadata": {
    "ExecuteTime": {
     "end_time": "2019-11-01T21:53:19.191373Z",
     "start_time": "2019-11-01T21:53:18.383Z"
    },
    "code_folding": [
     0
    ]
   },
   "outputs": [],
   "source": [
    "getAccountLengthPlotFunnel = function (df, numerator.quo, denominator.quo) {\n",
    "\n",
    "    ##  With full df, sum Qualified Volume by State.  ##\n",
    "    summary.df = df %>%\n",
    "        filter(\n",
    "            qualified == 1\n",
    "        ) %>% \n",
    "        group_by(\n",
    "            raw_accountlength\n",
    "        ) %>% \n",
    "        summarize(\n",
    "            n = n(),\n",
    "            metric = sum(!!numerator.quo)/sum(!!denominator.quo)\n",
    "        ) %>% \n",
    "        ungroup() %>% \n",
    "        filter(\n",
    "            n >= 1 &\n",
    "            metric < 1\n",
    "        )\n",
    "    \n",
    "    ##  Bar Plot  ##\n",
    "    summary.df %>% \n",
    "        ggplot(\n",
    "            mapping = aes(\n",
    "                x = raw_accountlength,\n",
    "                y = metric\n",
    "            )\n",
    "        ) +\n",
    "        geom_col(\n",
    "            mapping = aes(\n",
    "                fill = n\n",
    "            )\n",
    "        ) + \n",
    "        ##  Adjust sizing  ##\n",
    "        coord_fixed(\n",
    "            ratio = 5\n",
    "        ) +\n",
    "        ##  Adjust coloring  ##\n",
    "        scale_fill_gradient(\n",
    "            low = \"lightgray\",\n",
    "            high = \"steelblue\"\n",
    "        )\n",
    "    \n",
    "}\n",
    "\n",
    "lenderedge %>% getAccountLengthPlotFunnel(quo(funded), quo(qualified))"
   ]
  },
  {
   "cell_type": "markdown",
   "metadata": {},
   "source": [
    "## Offer Amount"
   ]
  },
  {
   "cell_type": "code",
   "execution_count": null,
   "metadata": {
    "ExecuteTime": {
     "end_time": "2019-11-01T21:40:12.493131Z",
     "start_time": "2019-11-01T21:40:11.625Z"
    },
    "code_folding": [
     0
    ]
   },
   "outputs": [],
   "source": [
    "getOfferAmountPlotFunnel = function (df, numerator.quo, denominator.quo) {\n",
    "\n",
    "    ##  With full df, sum Qualified Volume by State.  ##\n",
    "    summary.df = df %>%\n",
    "        filter(\n",
    "            qualified == 1\n",
    "        ) %>% \n",
    "        group_by(\n",
    "            offer_amount\n",
    "        ) %>% \n",
    "        summarize(\n",
    "            n = n(),\n",
    "            metric = sum(!!numerator.quo)/sum(!!denominator.quo)\n",
    "        ) %>% \n",
    "        ungroup() %>% \n",
    "        filter(\n",
    "            n >= 1 &\n",
    "            metric < 1\n",
    "        )\n",
    "    \n",
    "    ##  Bar Plot  ##\n",
    "    summary.df %>% \n",
    "        ggplot(\n",
    "            mapping = aes(\n",
    "                x = offer_amount,\n",
    "                y = metric\n",
    "            )\n",
    "        ) +\n",
    "        geom_col(\n",
    "            mapping = aes(\n",
    "                fill = n\n",
    "            )\n",
    "        ) + \n",
    "        ##  Adjust sizing  ##\n",
    "        coord_fixed(\n",
    "            ratio = 5000\n",
    "        ) +\n",
    "        ##  Adjust coloring  ##\n",
    "        scale_fill_gradient(\n",
    "            low = \"lightgray\",\n",
    "            high = \"steelblue\"\n",
    "        )\n",
    "    \n",
    "}\n",
    "\n",
    "lenderedge %>% getOfferAmountPlotFunnel(quo(funded), quo(qualified))"
   ]
  },
  {
   "cell_type": "markdown",
   "metadata": {},
   "source": [
    "# Bivariate\n",
    "### Do any variable pairs have a direct correlation with funding?"
   ]
  },
  {
   "cell_type": "code",
   "execution_count": null,
   "metadata": {
    "ExecuteTime": {
     "end_time": "2019-11-01T21:58:28.480726Z",
     "start_time": "2019-11-01T21:58:28.460Z"
    }
   },
   "outputs": [],
   "source": [
    "# https://learnr.wordpress.com/2010/01/26/ggplot2-quick-heatmap-plotting/"
   ]
  },
  {
   "cell_type": "markdown",
   "metadata": {},
   "source": [
    "#### GMI <> DOB"
   ]
  },
  {
   "cell_type": "code",
   "execution_count": null,
   "metadata": {
    "ExecuteTime": {
     "end_time": "2019-11-01T21:49:07.965876Z",
     "start_time": "2019-11-01T21:49:07.779Z"
    }
   },
   "outputs": [],
   "source": [
    "lenderedge %>% str()"
   ]
  }
 ],
 "metadata": {
  "kernelspec": {
   "display_name": "R",
   "language": "R",
   "name": "ir"
  },
  "language_info": {
   "codemirror_mode": "r",
   "file_extension": ".r",
   "mimetype": "text/x-r-source",
   "name": "R",
   "pygments_lexer": "r",
   "version": "3.5.2"
  }
 },
 "nbformat": 4,
 "nbformat_minor": 2
}
