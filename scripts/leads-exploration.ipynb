{
 "cells": [
  {
   "cell_type": "code",
   "execution_count": 2,
   "metadata": {
    "ExecuteTime": {
     "end_time": "2019-10-30T15:56:52.308932Z",
     "start_time": "2019-10-30T15:56:51.272Z"
    }
   },
   "outputs": [
    {
     "data": {
      "text/html": [
       "<dl class=dl-horizontal>\n",
       "\t<dt>RPostgreSQL</dt>\n",
       "\t\t<dd>TRUE</dd>\n",
       "\t<dt>RPostgres</dt>\n",
       "\t\t<dd>TRUE</dd>\n",
       "\t<dt>RJDBC</dt>\n",
       "\t\t<dd>TRUE</dd>\n",
       "\t<dt>httr</dt>\n",
       "\t\t<dd>TRUE</dd>\n",
       "\t<dt>jsonlite</dt>\n",
       "\t\t<dd>TRUE</dd>\n",
       "\t<dt>googlesheets</dt>\n",
       "\t\t<dd>TRUE</dd>\n",
       "\t<dt>tidyverse</dt>\n",
       "\t\t<dd>TRUE</dd>\n",
       "\t<dt>tidyr</dt>\n",
       "\t\t<dd>TRUE</dd>\n",
       "\t<dt>dplyr</dt>\n",
       "\t\t<dd>TRUE</dd>\n",
       "\t<dt>lubridate</dt>\n",
       "\t\t<dd>TRUE</dd>\n",
       "\t<dt>stringr</dt>\n",
       "\t\t<dd>TRUE</dd>\n",
       "\t<dt>ggplot2</dt>\n",
       "\t\t<dd>TRUE</dd>\n",
       "\t<dt>ggpubr</dt>\n",
       "\t\t<dd>TRUE</dd>\n",
       "\t<dt>cowplot</dt>\n",
       "\t\t<dd>TRUE</dd>\n",
       "\t<dt>rJava</dt>\n",
       "\t\t<dd>TRUE</dd>\n",
       "\t<dt>mailR</dt>\n",
       "\t\t<dd>TRUE</dd>\n",
       "\t<dt>devtools</dt>\n",
       "\t\t<dd>TRUE</dd>\n",
       "\t<dt>roxygen2</dt>\n",
       "\t\t<dd>TRUE</dd>\n",
       "</dl>\n"
      ],
      "text/latex": [
       "\\begin{description*}\n",
       "\\item[RPostgreSQL] TRUE\n",
       "\\item[RPostgres] TRUE\n",
       "\\item[RJDBC] TRUE\n",
       "\\item[httr] TRUE\n",
       "\\item[jsonlite] TRUE\n",
       "\\item[googlesheets] TRUE\n",
       "\\item[tidyverse] TRUE\n",
       "\\item[tidyr] TRUE\n",
       "\\item[dplyr] TRUE\n",
       "\\item[lubridate] TRUE\n",
       "\\item[stringr] TRUE\n",
       "\\item[ggplot2] TRUE\n",
       "\\item[ggpubr] TRUE\n",
       "\\item[cowplot] TRUE\n",
       "\\item[rJava] TRUE\n",
       "\\item[mailR] TRUE\n",
       "\\item[devtools] TRUE\n",
       "\\item[roxygen2] TRUE\n",
       "\\end{description*}\n"
      ],
      "text/markdown": [
       "RPostgreSQL\n",
       ":   TRUERPostgres\n",
       ":   TRUERJDBC\n",
       ":   TRUEhttr\n",
       ":   TRUEjsonlite\n",
       ":   TRUEgooglesheets\n",
       ":   TRUEtidyverse\n",
       ":   TRUEtidyr\n",
       ":   TRUEdplyr\n",
       ":   TRUElubridate\n",
       ":   TRUEstringr\n",
       ":   TRUEggplot2\n",
       ":   TRUEggpubr\n",
       ":   TRUEcowplot\n",
       ":   TRUErJava\n",
       ":   TRUEmailR\n",
       ":   TRUEdevtools\n",
       ":   TRUEroxygen2\n",
       ":   TRUE\n",
       "\n"
      ],
      "text/plain": [
       " RPostgreSQL    RPostgres        RJDBC         httr     jsonlite googlesheets \n",
       "        TRUE         TRUE         TRUE         TRUE         TRUE         TRUE \n",
       "   tidyverse        tidyr        dplyr    lubridate      stringr      ggplot2 \n",
       "        TRUE         TRUE         TRUE         TRUE         TRUE         TRUE \n",
       "      ggpubr      cowplot        rJava        mailR     devtools     roxygen2 \n",
       "        TRUE         TRUE         TRUE         TRUE         TRUE         TRUE "
      ]
     },
     "metadata": {},
     "output_type": "display_data"
    }
   ],
   "source": [
    "library(opploansanalytics)\n",
    "load.packages()"
   ]
  },
  {
   "cell_type": "code",
   "execution_count": null,
   "metadata": {
    "ExecuteTime": {
     "start_time": "2019-10-30T15:57:41.746Z"
    }
   },
   "outputs": [],
   "source": [
    "df = queryReporting(\n",
    "\"\n",
    "select\n",
    "    --  Identifiers  --\n",
    "    lde.lead_id\n",
    "    , lde.partnerid\n",
    "    , lde.leadofferid\n",
    "    , lde.lead_time\n",
    "    , c_am.name\n",
    "    , lde.accepted\n",
    "    , lde.reason\n",
    "    , lde.offer_amount\n",
    "    --  Banking  --\n",
    "    , lde.abaroutingnumber\n",
    "    , lde.accountnumber\n",
    "    , lde.bankname\n",
    "    --  Employment  --\n",
    "    , lde.grossmonthlyincome\n",
    "    , lde.incometype\n",
    "    , lde.lastpayrolldate\n",
    "    , lde.payrollfrequency\n",
    "    , lde.payrolltype\n",
    "    --  Contact  --\n",
    "    , lde.city\n",
    "    , lde.address\n",
    "    , lde.dateofbirth\n",
    "    , lde.statecode\n",
    "    , lde.raw_lead\n",
    "from\n",
    "    lde4.leads as lde\n",
    "    inner join\n",
    "        cloudlending.advertising_method as c_am\n",
    "        on lde.partnerid = c_am.external_id\n",
    "        and c_am.name = 'LenderEdge 4'\n",
    "\"\n",
    ")"
   ]
  },
  {
   "cell_type": "code",
   "execution_count": null,
   "metadata": {},
   "outputs": [],
   "source": []
  }
 ],
 "metadata": {
  "kernelspec": {
   "display_name": "R",
   "language": "R",
   "name": "ir"
  },
  "language_info": {
   "codemirror_mode": "r",
   "file_extension": ".r",
   "mimetype": "text/x-r-source",
   "name": "R",
   "pygments_lexer": "r",
   "version": "3.5.2"
  }
 },
 "nbformat": 4,
 "nbformat_minor": 2
}
