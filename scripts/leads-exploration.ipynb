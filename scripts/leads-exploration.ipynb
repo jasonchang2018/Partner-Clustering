{
 "cells": [
  {
   "cell_type": "markdown",
   "metadata": {},
   "source": [
    "## Notes"
   ]
  },
  {
   "cell_type": "markdown",
   "metadata": {},
   "source": [
    "Questions:\n",
    "    * Are we reading the raw lead correctly?\n",
    "    * Do certain field values correlate with higher conversion?\n",
    "        * Within Partner i.\n",
    "        * Across Partners.\n",
    "\n",
    "Additional Data:\n",
    "    * URL\n",
    "    * Click ID\n",
    "    * Funnel Performance. Denial Reason, conversion boolean\n",
    "\n",
    "\n",
    "\n",
    "LenderEdge\n",
    "    * A. Raw DOB is standard date format, without dashes. A couple of blanks.\n",
    "    * B. When raw_incometype != 'Employment', defaults to 'OtherTaxableIncome'. ~30k, check time series.\n",
    "    * C. Often writes NA accountnumber when raw_accountnumber contains a value. ~500k, check time series.\n",
    "    * D. Blank, != 9 digit, and mail merge fields passed into Routing Number."
   ]
  },
  {
   "cell_type": "markdown",
   "metadata": {},
   "source": [
    "1B) \n",
    "df.lenderedge.comparison %>%\n",
    "    group_by(\n",
    "        raw_incometype,\n",
    "        incometype\n",
    "    ) %>% \n",
    "    summarize(\n",
    "        n()\n",
    "    )"
   ]
  },
  {
   "cell_type": "markdown",
   "metadata": {},
   "source": [
    "# Import Libraries"
   ]
  },
  {
   "cell_type": "code",
   "execution_count": null,
   "metadata": {
    "ExecuteTime": {
     "end_time": "2019-11-14T18:29:52.092227Z",
     "start_time": "2019-11-14T18:29:48.156Z"
    }
   },
   "outputs": [],
   "source": [
    "library(opploansanalytics)\n",
    "load.packages()"
   ]
  },
  {
   "cell_type": "markdown",
   "metadata": {},
   "source": [
    "# Import and Clean Data"
   ]
  },
  {
   "cell_type": "markdown",
   "metadata": {
    "ExecuteTime": {
     "end_time": "2019-11-01T19:17:12.295805Z",
     "start_time": "2019-11-01T19:17:12.276Z"
    }
   },
   "source": [
    "### Leads"
   ]
  },
  {
   "cell_type": "code",
   "execution_count": null,
   "metadata": {
    "ExecuteTime": {
     "end_time": "2019-11-14T14:22:29.126970Z",
     "start_time": "2019-11-14T14:22:29.094Z"
    },
    "code_folding": [
     0
    ]
   },
   "outputs": [],
   "source": [
    "getAdmethod = function () {\n",
    "    \n",
    "    queryReporting(\n",
    "\"\n",
    "select\n",
    "    c_adm.name\n",
    "    , count(*)\n",
    "from\n",
    "    cloudlending.applications as c_app\n",
    "    inner join\n",
    "        cloudlending.advertising_method as c_adm\n",
    "        on c_app.advertising_method = c_adm.id\n",
    "        and right(c_adm.name,1) = '4'\n",
    "where\n",
    "    date_trunc('month', c_app.createddate) = '2019-09-01'::date\n",
    "group by\n",
    "    1\n",
    "order by\n",
    "    2 desc\n",
    "limit 10    \n",
    "\"\n",
    "    )\n",
    "}"
   ]
  },
  {
   "cell_type": "code",
   "execution_count": null,
   "metadata": {
    "ExecuteTime": {
     "end_time": "2019-11-14T14:22:29.306488Z",
     "start_time": "2019-11-14T14:22:29.277Z"
    },
    "code_folding": [
     0
    ]
   },
   "outputs": [],
   "source": [
    "getLeadsDF = function (admethod.name, timestart, timeend) {\n",
    "    \n",
    "    queryReporting(\n",
    "        paste0(\n",
    "\"\n",
    "select\n",
    "\n",
    "    --  Identifiers  --\n",
    "    lde.lead_id\n",
    "    , lde.partnerid\n",
    "    , lde.leadofferid\n",
    "    , lde.lead_time\n",
    "    , c_am.name\n",
    "    , lde.accepted\n",
    "    , lde.reason\n",
    "    , lde.offer_amount\n",
    "    --  Banking  --\n",
    "    , lde.abaroutingnumber\n",
    "    , lde.accountnumber\n",
    "    , lde.bankname\n",
    "    --  Employment  --\n",
    "    , lde.grossmonthlyincome\n",
    "    , lde.incometype\n",
    "    , lde.lastpayrolldate\n",
    "    , lde.payrollfrequency\n",
    "    , lde.payrolltype\n",
    "    , lde.work_hiredate\n",
    "    --  Contact  --\n",
    "    , lde.dateofbirth\n",
    "    , lde.statecode\n",
    "\n",
    "\n",
    "    --  Raw Lead  --\n",
    "    , lde.raw_lead\n",
    "        --  ID  --\n",
    "    , lde.raw_lead ->> 'leadOfferId' as raw_leadofferid\n",
    "    , lde.raw_lead ->> 'requestedLoanAmount' as raw_loan_request\n",
    "        --  Banking  --\n",
    "    , lde.raw_lead -> 'bankInfo' ->> 'abaRoutingNumber' as raw_abaroutingnumber\n",
    "    , lde.raw_lead -> 'bankInfo' ->> 'accountNumber' as raw_accountnumber\n",
    "    , lde.raw_lead -> 'bankInfo' ->> 'bankName' as raw_bankname\n",
    "    , lde.raw_lead -> 'bankInfo' ->> 'accountType' as raw_accounttype\n",
    "    , lde.raw_lead -> 'bankInfo' ->> 'accountLength' as raw_accountlength\n",
    "        --  Employment  --\n",
    "    , lde.raw_lead ->> 'grossMonthlyIncome' as raw_grossmonthlyincome\n",
    "    , lde.raw_lead -> 'incomeInfo' ->> 'incomeType' as raw_incometype\n",
    "    , lde.raw_lead -> 'incomeInfo' ->> 'lastPayrollDate' as raw_lastpayrolldate\n",
    "    , lde.raw_lead -> 'incomeInfo' ->> 'payrollFrequency' as raw_payrollfrequency\n",
    "    , lde.raw_lead -> 'incomeInfo' ->> 'payrollType' as raw_payrolltype\n",
    "    , lde.raw_lead -> 'employmentInfo' ->> 'hireDate' as raw_work_hiredate\n",
    "        --  Contact  --\n",
    "    , lde.raw_lead -> 'personalInfo' ->> 'dateOfBirth' as raw_dateofbirth\n",
    "    , lde.raw_lead ->> 'stateCode' as raw_statecode\n",
    "    from\n",
    "        lde4.leads as lde\n",
    "    inner join\n",
    "        cloudlending.advertising_method as c_am\n",
    "        on lde.partnerid = c_am.external_id\n",
    "        and c_am.name = '\", admethod.name, \" \n",
    "    where\n",
    "        lde.lead_time >= '\", timestart, \"'::date\n",
    "        and lde.lead_time <= '\", timeend, \"'::date\n",
    "\"\n",
    "        )\n",
    "    )\n",
    "}"
   ]
  },
  {
   "cell_type": "code",
   "execution_count": null,
   "metadata": {
    "ExecuteTime": {
     "end_time": "2019-11-14T18:38:30.439133Z",
     "start_time": "2019-11-14T18:38:30.402Z"
    },
    "code_folding": [
     0
    ]
   },
   "outputs": [],
   "source": [
    "formatDataTypes = function (df) {\n",
    "    \n",
    "    df.reformat = df %>%\n",
    "        mutate_if(\n",
    "            is.factor,\n",
    "            as.character\n",
    "        ) %>% \n",
    "        mutate(\n",
    "            \n",
    "#             dateofbirth = if_else(\n",
    "#                 !is.na(dateofbirth) & dateofbirth != '',\n",
    "#                 dateofbirth %>% as.POSIXct() %>% ceiling_date(unit = 'day') %>% as.character(),\n",
    "#                 dateofbirth\n",
    "#             ),\n",
    "#             raw_dateofbirth = if_else(\n",
    "#                 !is.na(raw_dateofbirth) & raw_dateofbirth != '',\n",
    "#                 paste(\n",
    "#                     raw_dateofbirth %>% str_sub(1,4),\n",
    "#                     raw_dateofbirth %>% str_sub(5,6),\n",
    "#                     raw_dateofbirth %>% str_sub(7,8),\n",
    "#                     sep = '-'\n",
    "#                 ),\n",
    "#                 raw_dateofbirth\n",
    "#             ),\n",
    "            dob = floor((lead_time - dateofbirth) %>% as.integer()/365),\n",
    "            \n",
    "            zip = if_else(\n",
    "                zip %>% nchar() == 4,\n",
    "                paste0('0', zip),\n",
    "                zip %>% as.character()\n",
    "            ),\n",
    "            raw_zip = if_else(\n",
    "                raw_zip %>% nchar() == 4,\n",
    "                paste0('0', raw_zip),\n",
    "                raw_zip %>% as.character()\n",
    "            ),\n",
    "            \n",
    "            abaroutingnumber = abaroutingnumber %>% \n",
    "                str_pad(\n",
    "                    width = 9,\n",
    "                    pad = '0'\n",
    "                ),\n",
    "            raw_abaroutingnumber = raw_abaroutingnumber %>% \n",
    "                str_pad(\n",
    "                    width = 9,\n",
    "                    pad = '0'\n",
    "                ),\n",
    "            \n",
    "            abaroutingnumber.is.valid = \n",
    "                grepl(\"^[0-9]{9}\", abaroutingnumber) &\n",
    "                !grepl(\"^[0]{8}[0-9]\", abaroutingnumber) &\n",
    "                !grepl(\"^(0)\\\\1\\\\1\\\\1\\\\1\\\\1\\\\1\\\\1\\\\1\", abaroutingnumber) &\n",
    "                (\n",
    "                    abaroutingnumber %>% str_sub(1,1) %>% as.integer() * 3 +\n",
    "                    abaroutingnumber %>% str_sub(2,2) %>% as.integer() * 7 +\n",
    "                    abaroutingnumber %>% str_sub(3,3) %>% as.integer() * 1 +\n",
    "                    abaroutingnumber %>% str_sub(4,4) %>% as.integer() * 3 +\n",
    "                    abaroutingnumber %>% str_sub(5,5) %>% as.integer() * 7 +\n",
    "                    abaroutingnumber %>% str_sub(6,6) %>% as.integer() * 1 +\n",
    "                    abaroutingnumber %>% str_sub(7,7) %>% as.integer() * 3 +\n",
    "                    abaroutingnumber %>% str_sub(8,8) %>% as.integer() * 7 +\n",
    "                    abaroutingnumber %>% str_sub(9,9) %>% as.integer() * 1\n",
    "                ) %% 10 == 0,\n",
    "            raw_abaroutingnumber.is.valid = \n",
    "                grepl(\"^[0-9]{9}\", raw_abaroutingnumber) &\n",
    "                !grepl(\"^[0]{8}[0-9]\", raw_abaroutingnumber) &\n",
    "                !grepl(\"^(0)\\\\1\\\\1\\\\1\\\\1\\\\1\\\\1\\\\1\\\\1\", raw_abaroutingnumber) &\n",
    "                (\n",
    "                    raw_abaroutingnumber %>% str_sub(1,1) %>% as.integer() * 3 +\n",
    "                    raw_abaroutingnumber %>% str_sub(2,2) %>% as.integer() * 7 +\n",
    "                    raw_abaroutingnumber %>% str_sub(3,3) %>% as.integer() * 1 +\n",
    "                    raw_abaroutingnumber %>% str_sub(4,4) %>% as.integer() * 3 +\n",
    "                    raw_abaroutingnumber %>% str_sub(5,5) %>% as.integer() * 7 +\n",
    "                    raw_abaroutingnumber %>% str_sub(6,6) %>% as.integer() * 1 +\n",
    "                    raw_abaroutingnumber %>% str_sub(7,7) %>% as.integer() * 3 +\n",
    "                    raw_abaroutingnumber %>% str_sub(8,8) %>% as.integer() * 7 +\n",
    "                    raw_abaroutingnumber %>% str_sub(9,9) %>% as.integer() * 1\n",
    "                ) %% 10 == 0,\n",
    "            \n",
    "            accountnumber.is.valid = \n",
    "                grepl(\"^[0-9]{6,17}\", accountnumber) &\n",
    "                !grepl(\"^([0-9])\\\\1\\\\1\\\\1\\\\1\\\\1\\\\1?\\\\1?\\\\1?\\\\1?\\\\1?\\\\1?\\\\1?\\\\1?\\\\1?\\\\1?\\\\1?\", accountnumber),\n",
    "            raw_accountnumber.is.valid = \n",
    "                grepl(\"^[0-9]{6,17}\", raw_accountnumber) &\n",
    "                !grepl(\"^([0-9])\\\\1\\\\1\\\\1\\\\1\\\\1\\\\1?\\\\1?\\\\1?\\\\1?\\\\1?\\\\1?\\\\1?\\\\1?\\\\1?\\\\1?\\\\1?\", raw_accountnumber)\n",
    "            \n",
    "        )\n",
    "    \n",
    "#     df.reformat.no.na = df.reformat %>%\n",
    "#         apply(\n",
    "#             MARGIN = 2,\n",
    "#             replace_na,\n",
    "#             replace = ''\n",
    "#         )\n",
    "    \n",
    "    return(df.reformat)\n",
    "}"
   ]
  },
  {
   "cell_type": "code",
   "execution_count": null,
   "metadata": {
    "ExecuteTime": {
     "end_time": "2019-11-14T18:29:56.527935Z",
     "start_time": "2019-11-14T18:29:56.485Z"
    },
    "code_folding": [
     0
    ]
   },
   "outputs": [],
   "source": [
    "compareExtractionToRaw = function (df) {\n",
    "    \n",
    "    df %>% \n",
    "        mutate(\n",
    "            match.leadofferid = \n",
    "                (is.na(leadofferid) & is.na(raw_leadofferid)) |\n",
    "                (is.na(leadofferid) & raw_leadofferid == '') |\n",
    "                (!is.na(leadofferid) & !is.na(raw_leadofferid) & leadofferid == raw_leadofferid),\n",
    "            \n",
    "            match.abaroutingnumber = \n",
    "                (is.na(abaroutingnumber) & is.na(raw_abaroutingnumber)) |\n",
    "                (is.na(abaroutingnumber) & raw_abaroutingnumber == '') |\n",
    "                (!is.na(abaroutingnumber) & !is.na(raw_abaroutingnumber) & abaroutingnumber == raw_abaroutingnumber),\n",
    "            \n",
    "            match.accountnumber = \n",
    "                (is.na(accountnumber) & is.na(raw_accountnumber)) |\n",
    "                (is.na(accountnumber) & raw_accountnumber == '') |\n",
    "                (!is.na(accountnumber) & !is.na(raw_accountnumber) & accountnumber == raw_accountnumber),\n",
    "            \n",
    "            match.bankname = \n",
    "                (is.na(bankname) & is.na(raw_bankname)) |\n",
    "                (is.na(bankname) & raw_bankname == '') |\n",
    "                (!is.na(bankname) & !is.na(raw_bankname) & bankname == raw_bankname),\n",
    "            \n",
    "            match.grossmonthlyincome = \n",
    "                (is.na(grossmonthlyincome) & is.na(raw_grossmonthlyincome)) |\n",
    "                (is.na(grossmonthlyincome) & raw_grossmonthlyincome == '') |\n",
    "                (!is.na(grossmonthlyincome) & !is.na(raw_grossmonthlyincome) & grossmonthlyincome == raw_grossmonthlyincome),\n",
    "            \n",
    "            match.incometype = \n",
    "                (is.na(incometype) & is.na(raw_incometype)) |\n",
    "                (is.na(incometype) & raw_incometype == '') |\n",
    "                (!is.na(incometype) & !is.na(raw_incometype) & incometype == raw_incometype),\n",
    "            \n",
    "            match.lastpayrolldate = \n",
    "                (is.na(lastpayrolldate) & is.na(raw_lastpayrolldate)) |\n",
    "                (is.na(lastpayrolldate) & raw_lastpayrolldate == '') |\n",
    "                (!is.na(lastpayrolldate) & !is.na(raw_lastpayrolldate) & lastpayrolldate == raw_lastpayrolldate),\n",
    "            \n",
    "            match.payrollfrequency = \n",
    "                (is.na(payrollfrequency) & is.na(raw_payrollfrequency)) |\n",
    "                (is.na(payrollfrequency) & raw_payrollfrequency == '') |\n",
    "                (!is.na(payrollfrequency) & !is.na(raw_payrollfrequency) & payrollfrequency == raw_payrollfrequency),\n",
    "            \n",
    "            match.payrolltype = \n",
    "                (is.na(payrolltype) & is.na(raw_payrolltype)) |\n",
    "                (is.na(payrolltype) & raw_payrolltype == '') |\n",
    "                (!is.na(payrolltype) & !is.na(raw_payrolltype) & payrolltype == raw_payrolltype),\n",
    "            \n",
    "            match.work_hiredate = \n",
    "                (is.na(work_hiredate) & is.na(raw_work_hiredate)) |\n",
    "                (is.na(work_hiredate) & raw_work_hiredate == '') |\n",
    "                (!is.na(work_hiredate) & !is.na(raw_work_hiredate) & work_hiredate == raw_work_hiredate),\n",
    "            \n",
    "            match.dateofbirth = \n",
    "                (is.na(dateofbirth) & is.na(raw_dateofbirth)) |\n",
    "                (is.na(dateofbirth) & raw_dateofbirth == '') |\n",
    "                (!is.na(dateofbirth) & !is.na(raw_dateofbirth) & dateofbirth == raw_dateofbirth),\n",
    "            \n",
    "            match.statecode = \n",
    "                (is.na(statecode) & is.na(raw_statecode)) |\n",
    "                (is.na(statecode) & raw_statecode == '') |\n",
    "                (!is.na(statecode) & !is.na(raw_statecode) & statecode == raw_statecode)\n",
    "        )\n",
    "    \n",
    "}"
   ]
  },
  {
   "cell_type": "code",
   "execution_count": null,
   "metadata": {
    "ExecuteTime": {
     "end_time": "2019-11-14T18:29:56.632782Z",
     "start_time": "2019-11-14T18:29:56.596Z"
    },
    "code_folding": [
     0
    ]
   },
   "outputs": [],
   "source": [
    "examineMatches = function (df) {\n",
    "\n",
    "    df %>%\n",
    "        select(\n",
    "            starts_with('match.')\n",
    "        ) %>% \n",
    "        apply(\n",
    "            MARGIN = 2,\n",
    "            FUN = sum\n",
    "        ) %>% sort() %>%\n",
    "        c(\n",
    "            nrow = df.lenderedge.comparison %>% nrow()\n",
    "        )\n",
    "}"
   ]
  },
  {
   "cell_type": "markdown",
   "metadata": {
    "ExecuteTime": {
     "end_time": "2019-11-01T19:17:12.295805Z",
     "start_time": "2019-11-01T19:17:12.276Z"
    }
   },
   "source": [
    "### Funnel"
   ]
  },
  {
   "cell_type": "code",
   "execution_count": null,
   "metadata": {
    "ExecuteTime": {
     "end_time": "2019-11-14T19:10:57.512488Z",
     "start_time": "2019-11-14T19:10:57.477Z"
    },
    "code_folding": [
     0
    ]
   },
   "outputs": [],
   "source": [
    "addFeatures = function (df) {\n",
    "    \n",
    "    df %>%\n",
    "#         filter(\n",
    "#             appldate >= '2019-07-01' %>% as.Date() &\n",
    "#             appldate < '2019-10-01' %>% as.Date()\n",
    "#         ) %>%\n",
    "        mutate(\n",
    "            click_id_pos = partner_event_data %>%\n",
    "                str_extract(\n",
    "                    \"click_?id=%?[0-9]+\"\n",
    "                ) %>% \n",
    "                str_locate(\n",
    "                    \"=\"\n",
    "                ) %>% .[, 1],\n",
    "            click_id = partner_event_data %>%\n",
    "                str_extract(\n",
    "                    \"click_?id=%?[0-9]+\"\n",
    "                ) %>% \n",
    "                str_sub(\n",
    "                    start = click_id_pos + 1,\n",
    "                    end = partner_event_data %>% nchar()\n",
    "                ) %>%\n",
    "                replace_na(\n",
    "                    'None'\n",
    "                ),\n",
    "            has.unique.lead.id = !(lead_id %in% (\n",
    "                df %>%\n",
    "                    select(lead_id) %>%\n",
    "                    group_by(lead_id) %>%\n",
    "                    mutate(n = n()) %>%\n",
    "                    ungroup() %>% \n",
    "                    filter(n > 1) %>% \n",
    "                    .$lead_id\n",
    "            ))\n",
    "        )\n",
    "    \n",
    "}"
   ]
  },
  {
   "cell_type": "markdown",
   "metadata": {},
   "source": [
    "### Map"
   ]
  },
  {
   "cell_type": "code",
   "execution_count": null,
   "metadata": {
    "ExecuteTime": {
     "end_time": "2019-11-14T18:30:03.170441Z",
     "start_time": "2019-11-14T18:30:02.635Z"
    }
   },
   "outputs": [],
   "source": [
    "# https://austinwehrwein.com/digital-humanities/creating-a-density-map-in-r-with-zipcodes/\n",
    "library(zipcode)\n",
    "library(tidyverse)\n",
    "library(maps)\n",
    "library(viridis)\n",
    "library(ggthemes)\n",
    "library(albersusa)"
   ]
  },
  {
   "cell_type": "code",
   "execution_count": null,
   "metadata": {
    "ExecuteTime": {
     "end_time": "2019-11-14T18:30:04.367531Z",
     "start_time": "2019-11-14T18:30:03.455Z"
    }
   },
   "outputs": [],
   "source": [
    "us = ggplot2::map_data('state')\n",
    "us2 = ggplot2::map_data('county')"
   ]
  },
  {
   "cell_type": "code",
   "execution_count": null,
   "metadata": {
    "ExecuteTime": {
     "end_time": "2019-11-14T18:30:04.743525Z",
     "start_time": "2019-11-14T18:30:03.913Z"
    }
   },
   "outputs": [],
   "source": [
    "zip.codes = read_csv(\"../data/zip_code_database.csv\")"
   ]
  },
  {
   "cell_type": "code",
   "execution_count": null,
   "metadata": {
    "ExecuteTime": {
     "end_time": "2019-11-14T18:30:07.182538Z",
     "start_time": "2019-11-14T18:30:06.956Z"
    }
   },
   "outputs": [],
   "source": [
    "valid.zip = zip.codes %>%\n",
    "    filter(\n",
    "        !state %in% c('AA', 'AE', 'AP', 'AS', 'FM', 'GU', 'MH', 'MP', 'PR', 'PW', 'VI') &\n",
    "        decommissioned == 0 &\n",
    "        nchar(zip) == 5\n",
    "    ) %>% \n",
    "    select(\n",
    "        zip,\n",
    "        state,\n",
    "        latitude,\n",
    "        longitude\n",
    "    )"
   ]
  },
  {
   "cell_type": "markdown",
   "metadata": {},
   "source": [
    "# Summarize Functions"
   ]
  },
  {
   "cell_type": "markdown",
   "metadata": {},
   "source": [
    "### Time Series"
   ]
  },
  {
   "cell_type": "code",
   "execution_count": null,
   "metadata": {
    "ExecuteTime": {
     "end_time": "2019-11-14T18:56:52.618796Z",
     "start_time": "2019-11-14T18:56:52.582Z"
    },
    "code_folding": [
     0
    ]
   },
   "outputs": [],
   "source": [
    "getTimeSeriesFunnel = function (df, aspect.ratio) {\n",
    "    \n",
    "    df %>% \n",
    "        group_by(\n",
    "            appldate_ = appldate %>% as.Date()\n",
    "        ) %>% \n",
    "        summarize(\n",
    "            app.to.funded = mean(funded),\n",
    "            funding.rate = sum(funded)/sum(qualified),\n",
    "            bv.q = sum(bankverified)/sum(qualified),\n",
    "            sc.bv = sum(passscorecardratecard)/sum(bankverified),\n",
    "            cs.sc = sum(contractsigned)/sum(passscorecardratecard),\n",
    "            dec.cs = sum(cs_decisioned)/sum(contractsigned),\n",
    "            f.dec = sum(funded)/sum(cs_decisioned)\n",
    "        ) %>% \n",
    "        ggplot(\n",
    "            mapping = aes(\n",
    "                x = appldate_\n",
    "            )\n",
    "        ) +\n",
    "#         geom_point(aes(y = app.to.funded), color = 'gray') +\n",
    "#         geom_line(aes(y = app.to.funded), color = 'gray') +\n",
    "        geom_smooth(aes(y = app.to.funded), color = 'gray') +\n",
    "\n",
    "#         geom_point(aes(y = funding.rate), color = 'black') +\n",
    "#         geom_line(aes(y = funding.rate), color = 'black') +\n",
    "        geom_smooth(aes(y = funding.rate), color = 'black') +\n",
    "\n",
    "#         geom_point(aes(y = bv.q), color = 'red') +\n",
    "#         geom_line(aes(y = bv.q), color = 'red') +\n",
    "        geom_smooth(aes(y = bv.q), color = 'red') +\n",
    "\n",
    "#         geom_point(aes(y = sc.bv), color = 'blue') +\n",
    "#         geom_line(aes(y = sc.bv), color = 'blue') +\n",
    "        geom_smooth(aes(y = sc.bv), color = 'blue') +\n",
    "\n",
    "#         geom_point(aes(y = cs.sc), color = 'darkgreen') +\n",
    "#         geom_line(aes(y = cs.sc), color = 'darkgreen') +\n",
    "        geom_smooth(aes(y = cs.sc), color = 'darkgreen') +\n",
    "\n",
    "#         geom_point(aes(y = dec.cs), color = 'darkorange') +\n",
    "#         geom_line(aes(y = dec.cs), color = 'darkorange') +\n",
    "        geom_smooth(aes(y = dec.cs), color = 'darkorange') +\n",
    "\n",
    "#         geom_point(aes(y = f.dec), color = 'purple') +\n",
    "#         geom_line(aes(y = f.dec), color = 'purple') +\n",
    "        geom_smooth(aes(y = f.dec), color = 'purple') +\n",
    "\n",
    "\n",
    "        scale_y_continuous(\n",
    "            labels = scales::percent\n",
    "        ) +\n",
    "        labs(\n",
    "            title = paste(df$admethod[1], 'Funding Time Series'),\n",
    "            subtitle = \"Black: FR From Qualified  //  Gray: From App  //  Red: BV/Q\\n\n",
    "Blue: SC/BV  //  Green: CS/SC  //  Orange: Dec/CS  //  Purple: F/Dec\",\n",
    "            y = 'Conversion',\n",
    "            x = 'Appldate'\n",
    "        ) +\n",
    "        theme(\n",
    "            plot.title = element_text(hjust = 0.5),\n",
    "            plot.subtitle = element_text(hjust = 0.5),\n",
    "        ) +\n",
    "        coord_fixed(\n",
    "            ratio = aspect.ratio\n",
    "        )\n",
    "    \n",
    "}"
   ]
  },
  {
   "cell_type": "code",
   "execution_count": null,
   "metadata": {
    "ExecuteTime": {
     "end_time": "2019-11-14T18:50:47.917565Z",
     "start_time": "2019-11-14T18:50:47.882Z"
    },
    "code_folding": [
     0
    ]
   },
   "outputs": [],
   "source": [
    "getTimeSeriesGMI = function (df, aspect.ratio) {\n",
    "    \n",
    "    df %>% \n",
    "        filter(\n",
    "            !is.na(grossmonthlyincome) &\n",
    "            grossmonthlyincome < 50000\n",
    "        ) %>% \n",
    "        group_by(\n",
    "            appldate_ = appldate %>% as.Date()\n",
    "        ) %>% \n",
    "        summarize(\n",
    "            gmi.median = median(grossmonthlyincome),\n",
    "            gmi.mean = mean(grossmonthlyincome),\n",
    "            gmi.max = max(grossmonthlyincome)\n",
    "        ) %>% \n",
    "        ggplot(\n",
    "            mapping = aes(\n",
    "                x = appldate_\n",
    "            )\n",
    "        ) +\n",
    "\n",
    "        geom_point(aes(y = gmi.mean), color = 'black') +\n",
    "        geom_line(aes(y = gmi.mean), color = 'black') +\n",
    "        geom_smooth(aes(y = gmi.mean), color = 'black') +\n",
    "\n",
    "        geom_point(aes(y = gmi.median), color = 'red') +\n",
    "        geom_line(aes(y = gmi.median), color = 'red') +\n",
    "        geom_smooth(aes(y = gmi.median), color = 'red') +\n",
    "\n",
    "        scale_y_continuous(\n",
    "            labels = scales::dollar\n",
    "        ) +\n",
    "        labs(\n",
    "            title = paste(df$admethod[1], 'Income Time Series'),\n",
    "            subtitle = \"Black: Mean\\nRed: Median\",\n",
    "            y = 'Gross Monthly Income',\n",
    "            x = 'Appldate'\n",
    "        ) +\n",
    "        theme(\n",
    "            plot.title = element_text(hjust = 0.5),\n",
    "            plot.subtitle = element_text(hjust = 0.5),\n",
    "        ) +\n",
    "        coord_fixed(\n",
    "            ratio = aspect.ratio\n",
    "        )\n",
    "}"
   ]
  },
  {
   "cell_type": "code",
   "execution_count": null,
   "metadata": {
    "ExecuteTime": {
     "end_time": "2019-11-14T18:50:48.060236Z",
     "start_time": "2019-11-14T18:50:48.021Z"
    },
    "code_folding": [
     0
    ]
   },
   "outputs": [],
   "source": [
    "getTimeSeriesOfferAmount = function (df, aspect.ratio) {\n",
    "    \n",
    "    df %>% \n",
    "        filter(\n",
    "            !is.na(offer_amount)\n",
    "        ) %>% \n",
    "        group_by(\n",
    "            appldate_ = appldate %>% as.Date()\n",
    "        ) %>% \n",
    "        summarize(\n",
    "            offer.median = median(offer_amount),\n",
    "            offer.mean = mean(offer_amount)\n",
    "        ) %>% \n",
    "        ggplot(\n",
    "            mapping = aes(\n",
    "                x = appldate_\n",
    "            )\n",
    "        ) +\n",
    "\n",
    "        geom_point(aes(y = offer.mean), color = 'black') +\n",
    "        geom_line(aes(y = offer.mean), color = 'black') +\n",
    "        geom_smooth(aes(y = offer.mean), color = 'black') +\n",
    "\n",
    "        geom_point(aes(y = offer.median), color = 'red') +\n",
    "        geom_line(aes(y = offer.median), color = 'red') +\n",
    "        geom_smooth(aes(y = offer.median), color = 'red') +\n",
    "\n",
    "        scale_y_continuous(\n",
    "            labels = scales::dollar\n",
    "        ) +\n",
    "        labs(\n",
    "            title = paste(df$admethod[1], 'Offer Amount Time Series'),\n",
    "            subtitle = \"Black: Mean\\nRed: Median\",\n",
    "            y = 'Offer Amount',\n",
    "            x = 'Appldate'\n",
    "        ) +\n",
    "        theme(\n",
    "            plot.title = element_text(hjust = 0.5),\n",
    "            plot.subtitle = element_text(hjust = 0.5),\n",
    "        ) +\n",
    "        coord_fixed(\n",
    "            ratio = aspect.ratio\n",
    "        )\n",
    "}"
   ]
  },
  {
   "cell_type": "code",
   "execution_count": null,
   "metadata": {
    "ExecuteTime": {
     "end_time": "2019-11-14T18:50:53.170457Z",
     "start_time": "2019-11-14T18:50:53.136Z"
    },
    "code_folding": [
     0
    ]
   },
   "outputs": [],
   "source": [
    "getTimeSeriesValidBank = function (df, aspect.ratio) {\n",
    "    \n",
    "    df %>% \n",
    "        filter(\n",
    "            !is.na(raw_abaroutingnumber.is.valid) &\n",
    "            !is.na(raw_accountnumber.is.valid)\n",
    "        ) %>% \n",
    "        group_by(\n",
    "            appldate_ = appldate %>% as.Date()\n",
    "        ) %>% \n",
    "        summarize(\n",
    "            routing = mean(raw_abaroutingnumber.is.valid),\n",
    "            account = mean(raw_accountnumber.is.valid)\n",
    "        ) %>% \n",
    "        ggplot(\n",
    "            mapping = aes(\n",
    "                x = appldate_\n",
    "            )\n",
    "        ) +\n",
    "\n",
    "        geom_point(aes(y = routing), color = 'red') +\n",
    "        geom_line(aes(y = routing), color = 'red') +\n",
    "        geom_smooth(aes(y = routing), color = 'red') +\n",
    "\n",
    "        geom_point(aes(y = account), color = 'black') +\n",
    "        geom_line(aes(y = account), color = 'black') +\n",
    "        geom_smooth(aes(y = account), color = 'black') +\n",
    "\n",
    "        scale_y_continuous(\n",
    "            labels = scales::percent\n",
    "        ) +\n",
    "        labs(\n",
    "            title = paste(df$admethod[1], 'Valid Bank Time Series'),\n",
    "            subtitle = \"Black: Account\\nRed: Routing\",\n",
    "            y = '%Valid',\n",
    "            x = 'Appldate'\n",
    "        ) +\n",
    "        theme(\n",
    "            plot.title = element_text(hjust = 0.5),\n",
    "            plot.subtitle = element_text(hjust = 0.5),\n",
    "        ) +\n",
    "        coord_fixed(\n",
    "            ratio = aspect.ratio\n",
    "        )\n",
    "}"
   ]
  },
  {
   "cell_type": "code",
   "execution_count": null,
   "metadata": {
    "ExecuteTime": {
     "end_time": "2019-11-14T18:56:40.800726Z",
     "start_time": "2019-11-14T18:56:40.765Z"
    },
    "code_folding": [
     0
    ]
   },
   "outputs": [],
   "source": [
    "getTimeSeriesDenialReason = function (df, aspect.ratio) {\n",
    "    \n",
    "    df %>%\n",
    "        filter(\n",
    "            cs_decisioned == 1\n",
    "        ) %>% \n",
    "        mutate(\n",
    "            denial_reason_agg = case_when(\n",
    "                is.na(denial_reason)  ~  'Loan Approved',\n",
    "                denial_reason %>% str_detect(pattern = '.*Insufficient Income.*')  ~  'Insufficient Income',\n",
    "                denial_reason %>% str_detect(pattern = '.*No Direct Deposit.*')  ~  'No Direct Deposit',\n",
    "                denial_reason %>% str_detect(pattern = '.*Incompatible Bank.*')  ~  'Incompatible Bank',\n",
    "                denial_reason %>% str_detect(pattern = '.*Negative Bank Account Balance.*')  ~  'Negative Bank Account Balance',\n",
    "                denial_reason %>% str_detect(pattern = '.*Self-Employed.*')  ~  'Self Employed'\n",
    "            ) %>% replace_na('Other')\n",
    "        ) %>% \n",
    "        group_by(\n",
    "            appldate_ = appldate %>% as.Date()\n",
    "        ) %>% \n",
    "        summarize(\n",
    "            insufficient.income = mean(denial_reason_agg == 'Insufficient Income'),\n",
    "            no.direct.deposit = mean(denial_reason_agg == 'No Direct Deposit'),\n",
    "            incompatible.bank = mean(denial_reason_agg == 'Incompatible Bank'),\n",
    "            negative.balance = mean(denial_reason_agg == 'Negative Bank Account Balance'),\n",
    "            self.employed = mean(denial_reason_agg == 'Self Employed'),\n",
    "        ) %>% \n",
    "        ggplot(\n",
    "            mapping = aes(\n",
    "                x = appldate_\n",
    "            )\n",
    "        ) +\n",
    "\n",
    "#         geom_point(aes(y = insufficient.income), color = 'red') +\n",
    "#         geom_line(aes(y = insufficient.income), color = 'red') +\n",
    "        geom_smooth(aes(y = insufficient.income), color = 'red') +\n",
    "\n",
    "#         geom_point(aes(y = no.direct.deposit), color = 'black') +\n",
    "#         geom_line(aes(y = no.direct.deposit), color = 'black') +\n",
    "        geom_smooth(aes(y = no.direct.deposit), color = 'black') +\n",
    "\n",
    "#         geom_point(aes(y = incompatible.bank), color = 'blue') +\n",
    "#         geom_line(aes(y = incompatible.bank), color = 'blue') +\n",
    "        geom_smooth(aes(y = incompatible.bank), color = 'blue') +\n",
    "\n",
    "#         geom_point(aes(y = negative.balance), color = 'darkgreen') +\n",
    "#         geom_line(aes(y = negative.balance), color = 'darkgreen') +\n",
    "        geom_smooth(aes(y = negative.balance), color = 'darkgreen') +\n",
    "\n",
    "#         geom_point(aes(y = self.employed), color = 'purple') +\n",
    "#         geom_line(aes(y = self.employed), color = 'purple') +\n",
    "        geom_smooth(aes(y = self.employed), color = 'purple') +\n",
    "\n",
    "        scale_y_continuous(\n",
    "            labels = scales::percent\n",
    "        ) +\n",
    "        labs(\n",
    "            title = paste(df$admethod[1], 'Denial Reason Time Series'),\n",
    "            subtitle = \"Black: No Direct Deposit  //  Red: Insufficient Income\\n\n",
    "Green: Negative Balance  //  Blue: Incompatible Bank  //  Purple: Self Employed\"\n",
    "            ,\n",
    "            y = '%CS Decisioned',\n",
    "            x = 'Appldate'\n",
    "        ) +\n",
    "        theme(\n",
    "            plot.title = element_text(hjust = 0.5),\n",
    "            plot.subtitle = element_text(hjust = 0.5),\n",
    "        ) +\n",
    "        coord_fixed(\n",
    "            ratio = aspect.ratio\n",
    "        )\n",
    "}"
   ]
  },
  {
   "cell_type": "markdown",
   "metadata": {},
   "source": [
    "### Geography"
   ]
  },
  {
   "cell_type": "code",
   "execution_count": null,
   "metadata": {
    "ExecuteTime": {
     "end_time": "2019-11-14T18:51:27.237260Z",
     "start_time": "2019-11-14T18:51:27.201Z"
    },
    "code_folding": [
     0
    ]
   },
   "outputs": [],
   "source": [
    "getZipPlotVolume = function (df) {\n",
    "    \n",
    "    ##  With full df, sum Qualified Volume by Zip Code.  ##\n",
    "    df %>%\n",
    "        group_by(\n",
    "            zip,\n",
    "            longitude,\n",
    "            latitude\n",
    "        ) %>% \n",
    "        summarize(\n",
    "            metric = sum(qualified)\n",
    "        ) %>% \n",
    "        ##  Plot geographic coodinates as cartesian points  ##\n",
    "        ggplot(\n",
    "            mapping = aes(\n",
    "                x = longitude,\n",
    "                y = latitude\n",
    "            )\n",
    "        ) +\n",
    "        ##  Gray county lines and black state lines  ##\n",
    "        geom_polygon(\n",
    "            data = us2,\n",
    "            mapping =\n",
    "                aes(\n",
    "                    x = long,\n",
    "                    y = lat,\n",
    "                    group = group\n",
    "                ),\n",
    "                color = 'gray',\n",
    "                fill = NA,\n",
    "                alpha = 0.35\n",
    "        ) +\n",
    "        geom_polygon(\n",
    "            data = us,\n",
    "            mapping =\n",
    "                aes(\n",
    "                    x = long,\n",
    "                    y = lat,\n",
    "                    group = group\n",
    "                ),\n",
    "                color = 'black',\n",
    "                fill = NA,\n",
    "                alpha = 0.35\n",
    "        ) +\n",
    "        ##  Place point for country with color gradient on the metric (Q Volume)  ##\n",
    "        geom_point(\n",
    "            mapping = aes(\n",
    "                color = metric\n",
    "            ),\n",
    "            size = 0.8,\n",
    "            alpha = 0.25\n",
    "        ) +\n",
    "        xlim(-125, -65) +\n",
    "        ylim(25, 50) +\n",
    "        labs(\n",
    "            title = paste(df$admethod[1], \"New Qualified Volume by Geography\")\n",
    "        ) +\n",
    "        ##  Adjust sizing  ##\n",
    "        coord_fixed(ratio = 16/9)\n",
    "    \n",
    "}"
   ]
  },
  {
   "cell_type": "code",
   "execution_count": null,
   "metadata": {
    "ExecuteTime": {
     "end_time": "2019-11-14T18:51:35.230135Z",
     "start_time": "2019-11-14T18:51:35.195Z"
    },
    "code_folding": [
     0
    ]
   },
   "outputs": [],
   "source": [
    "getZipPlotFunnel = function (df, numerator.quo, denominator.quo) {\n",
    "    \n",
    "    ##  With full df, sum Qualified Volume by Zip Code.  ##\n",
    "    df %>%\n",
    "        filter(\n",
    "            qualified == 1\n",
    "        ) %>% \n",
    "        group_by(\n",
    "            zip,\n",
    "            longitude,\n",
    "            latitude\n",
    "        ) %>% \n",
    "        summarize(\n",
    "            n = n(),\n",
    "            metric = sum(!!numerator.quo)/sum(!!denominator.quo)\n",
    "        ) %>% \n",
    "        ungroup() %>% \n",
    "        filter(\n",
    "            n >= 1 &\n",
    "            metric < 0.33 \n",
    "#             metric > 0\n",
    "        ) %>% \n",
    "        ##  Plot geographic coodinates as cartesian points  ##\n",
    "        ggplot(\n",
    "            mapping = aes(\n",
    "                x = longitude,\n",
    "                y = latitude\n",
    "            )\n",
    "        ) +\n",
    "        ##  Gray county lines and black state lines  ##\n",
    "        geom_polygon(\n",
    "            data = us2,\n",
    "            mapping =\n",
    "                aes(\n",
    "                    x = long,\n",
    "                    y = lat,\n",
    "                    group = group\n",
    "                ),\n",
    "                color = 'gray',\n",
    "                fill = NA,\n",
    "                alpha = 0.35\n",
    "        ) +\n",
    "        geom_polygon(\n",
    "            data = us,\n",
    "            mapping =\n",
    "                aes(\n",
    "                    x = long,\n",
    "                    y = lat,\n",
    "                    group = group\n",
    "                ),\n",
    "                color = 'black',\n",
    "                fill = NA,\n",
    "                alpha = 0.35\n",
    "        ) +\n",
    "        ##  Place point for country with color, size, and transparency gradient on the metric (FR)  ##\n",
    "        geom_point(\n",
    "            mapping = aes(\n",
    "                color = metric,\n",
    "                size = n,\n",
    "#                 alpha = metric\n",
    "            ),\n",
    "            # size = 0.8,\n",
    "            alpha = 0.6\n",
    "        ) +\n",
    "        xlim(-125, -65) +\n",
    "        ylim(25, 50) +\n",
    "        labs(\n",
    "            title = paste(df$admethod[1], \"New Qualified Volume by Geography\")\n",
    "        ) +\n",
    "        ##  Adjust sizing  ##\n",
    "        coord_fixed(ratio = 16/9) +\n",
    "        ##  Adjust coloring  ##\n",
    "        scale_colour_gradientn(colours = c(\"brown3\", \"gold\", \"springgreen4\"))\n",
    "}"
   ]
  },
  {
   "cell_type": "code",
   "execution_count": null,
   "metadata": {
    "ExecuteTime": {
     "end_time": "2019-11-14T18:51:42.541002Z",
     "start_time": "2019-11-14T18:51:42.506Z"
    },
    "code_folding": [
     0
    ]
   },
   "outputs": [],
   "source": [
    "getZipPlotIncome = function (df) {\n",
    "    \n",
    "    ##  With full df, sum Qualified Volume by Zip Code.  ##\n",
    "    df %>%\n",
    "        filter(\n",
    "            qualified == 1\n",
    "        ) %>% \n",
    "        group_by(\n",
    "            zip,\n",
    "            longitude,\n",
    "            latitude\n",
    "        ) %>% \n",
    "        summarize(\n",
    "            n = n(),\n",
    "            metric = median(grossmonthlyincome)\n",
    "        ) %>% \n",
    "        ungroup() %>% \n",
    "        filter(\n",
    "            n >= 1 &\n",
    "            metric <= 6000\n",
    "        ) %>% \n",
    "        ##  Plot geographic coodinates as cartesian points  ##\n",
    "        ggplot(\n",
    "            mapping = aes(\n",
    "                x = longitude,\n",
    "                y = latitude\n",
    "            )\n",
    "        ) +\n",
    "        ##  Gray county lines and black state lines  ##\n",
    "        geom_polygon(\n",
    "            data = us2,\n",
    "            mapping =\n",
    "                aes(\n",
    "                    x = long,\n",
    "                    y = lat,\n",
    "                    group = group\n",
    "                ),\n",
    "                color = 'gray',\n",
    "                fill = NA,\n",
    "                alpha = 0.35\n",
    "        ) +\n",
    "        geom_polygon(\n",
    "            data = us,\n",
    "            mapping =\n",
    "                aes(\n",
    "                    x = long,\n",
    "                    y = lat,\n",
    "                    group = group\n",
    "                ),\n",
    "                color = 'black',\n",
    "                fill = NA,\n",
    "                alpha = 0.35\n",
    "        ) +\n",
    "        ##  Place point for country with color, size, and transparency gradient on the metric (FR)  ##\n",
    "        geom_point(\n",
    "            mapping = aes(\n",
    "                color = metric,\n",
    "                size = n,\n",
    "                alpha = metric\n",
    "            )\n",
    "            # size = 0.8,\n",
    "            # alpha = 0.25\n",
    "        ) +\n",
    "        xlim(-125, -65) +\n",
    "        ylim(25, 50) +\n",
    "#         labs(\n",
    "#             title = \"LenderEdge 4: New FR by Geography\"\n",
    "#         ) +\n",
    "        ##  Adjust sizing  ##\n",
    "        coord_fixed(ratio = 16/9) +\n",
    "        ##  Adjust coloring  ##\n",
    "        scale_colour_gradientn(colours = c(\"brown3\", \"gold\", \"springgreen4\"))\n",
    "}"
   ]
  },
  {
   "cell_type": "code",
   "execution_count": null,
   "metadata": {
    "ExecuteTime": {
     "end_time": "2019-11-14T18:51:47.198893Z",
     "start_time": "2019-11-14T18:51:47.179Z"
    },
    "code_folding": [
     0
    ]
   },
   "outputs": [],
   "source": [
    "getZipGMIPlotFunnel = function (df, numerator.quo, denominator.quo) {\n",
    "    \n",
    "    ##  With full df, sum Qualified Volume by Zip Code.  ##\n",
    "    df %>%\n",
    "        filter(\n",
    "            qualified == 1\n",
    "        ) %>% \n",
    "        group_by(\n",
    "            zip,\n",
    "            longitude,\n",
    "            latitude\n",
    "        ) %>% \n",
    "        summarize(\n",
    "            n = n(),\n",
    "            metric = sum(!!numerator.quo)/sum(!!denominator.quo),\n",
    "            variable = median(grossmonthlyincome)\n",
    "        ) %>% \n",
    "        ungroup() %>% \n",
    "        filter(\n",
    "            n >= 1 &\n",
    "            metric < 0.4 &\n",
    "            metric > 0\n",
    "        ) %>% \n",
    "        ##  Plot geographic coodinates as cartesian points  ##\n",
    "        ggplot(\n",
    "            mapping = aes(\n",
    "                x = longitude,\n",
    "                y = latitude\n",
    "            )\n",
    "        ) +\n",
    "        ##  Gray county lines and black state lines  ##\n",
    "        geom_polygon(\n",
    "            data = us2,\n",
    "            mapping =\n",
    "                aes(\n",
    "                    x = long,\n",
    "                    y = lat,\n",
    "                    group = group\n",
    "                ),\n",
    "                color = 'gray',\n",
    "                fill = NA,\n",
    "                alpha = 0.35\n",
    "        ) +\n",
    "        geom_polygon(\n",
    "            data = us,\n",
    "            mapping =\n",
    "                aes(\n",
    "                    x = long,\n",
    "                    y = lat,\n",
    "                    group = group\n",
    "                ),\n",
    "                color = 'black',\n",
    "                fill = NA,\n",
    "                alpha = 0.35\n",
    "        ) +\n",
    "        ##  Place point for country with color, size, and transparency gradient on the metric (FR)  ##\n",
    "        geom_point(\n",
    "            mapping = aes(\n",
    "                color = metric,\n",
    "                size = variable,\n",
    "#                 alpha = metric\n",
    "            ),\n",
    "            # size = 0.8,\n",
    "            alpha = 0.7\n",
    "        ) +\n",
    "        xlim(-125, -65) +\n",
    "        ylim(25, 50) +\n",
    "#         labs(\n",
    "#             title = \"LenderEdge 4: New FR by Geography\"\n",
    "#         ) +\n",
    "        ##  Adjust sizing  ##\n",
    "        coord_fixed(ratio = 16/9) +\n",
    "        ##  Adjust coloring  ##\n",
    "        scale_colour_gradientn(colours = c(\"brown3\", \"gold\", \"springgreen4\"))\n",
    "}"
   ]
  },
  {
   "cell_type": "code",
   "execution_count": null,
   "metadata": {
    "ExecuteTime": {
     "end_time": "2019-11-14T19:02:57.849904Z",
     "start_time": "2019-11-14T19:02:57.798Z"
    },
    "code_folding": [
     0
    ]
   },
   "outputs": [],
   "source": [
    "getZipDOBPlotFunnel = function (df, numerator.quo, denominator.quo) {\n",
    "    \n",
    "    ##  With full df, sum Qualified Volume by Zip Code.  ##\n",
    "    df %>%\n",
    "        filter(\n",
    "            qualified == 1 &\n",
    "            !is.na(raw_dateofbirth)\n",
    "        ) %>% \n",
    "        group_by(\n",
    "            zip,\n",
    "            longitude,\n",
    "            latitude\n",
    "        ) %>% \n",
    "        summarize(\n",
    "            n = n(),\n",
    "            metric = sum(!!numerator.quo)/sum(!!denominator.quo),\n",
    "            variable = mean(dob)\n",
    "        ) %>% \n",
    "        ungroup() %>% \n",
    "        filter(\n",
    "            n >= 1 &\n",
    "            metric < 1 &\n",
    "            metric > 0\n",
    "        ) %>% \n",
    "        ##  Plot geographic coodinates as cartesian points  ##\n",
    "        ggplot(\n",
    "            mapping = aes(\n",
    "                x = longitude,\n",
    "                y = latitude\n",
    "            )\n",
    "        ) +\n",
    "        ##  Gray county lines and black state lines  ##\n",
    "        geom_polygon(\n",
    "            data = us2,\n",
    "            mapping =\n",
    "                aes(\n",
    "                    x = long,\n",
    "                    y = lat,\n",
    "                    group = group\n",
    "                ),\n",
    "                color = 'gray',\n",
    "                fill = NA,\n",
    "                alpha = 0.35\n",
    "        ) +\n",
    "        geom_polygon(\n",
    "            data = us,\n",
    "            mapping =\n",
    "                aes(\n",
    "                    x = long,\n",
    "                    y = lat,\n",
    "                    group = group\n",
    "                ),\n",
    "                color = 'black',\n",
    "                fill = NA,\n",
    "                alpha = 0.35\n",
    "        ) +\n",
    "        ##  Place point for country with color, size, and transparency gradient on the metric (FR)  ##\n",
    "        geom_point(\n",
    "            mapping = aes(\n",
    "                color = metric,\n",
    "                size = variable,\n",
    "#                 alpha = metric\n",
    "            ),\n",
    "            # size = 0.8,\n",
    "            alpha = 0.7\n",
    "        ) +\n",
    "        xlim(-125, -65) +\n",
    "        ylim(25, 50) +\n",
    "#         labs(\n",
    "#             title = \"LenderEdge 4: New FR by Geography\"\n",
    "#         ) +\n",
    "        ##  Adjust sizing  ##\n",
    "        coord_fixed(ratio = 16/9) +\n",
    "        ##  Adjust coloring  ##\n",
    "        scale_colour_gradientn(colours = c(\"brown3\", \"gold\", \"springgreen4\"))\n",
    "}"
   ]
  },
  {
   "cell_type": "code",
   "execution_count": null,
   "metadata": {
    "ExecuteTime": {
     "end_time": "2019-11-14T18:51:57.381758Z",
     "start_time": "2019-11-14T18:51:57.343Z"
    },
    "code_folding": [
     0
    ]
   },
   "outputs": [],
   "source": [
    "getValidZipPlotFunnel = function (df, numerator.quo, denominator.quo, aspect.ratio) {\n",
    "\n",
    "    ##  With full df, sum Qualified Volume by State.  ##\n",
    "    summary.df = df %>%\n",
    "        filter(\n",
    "            qualified == 1\n",
    "        ) %>% \n",
    "        group_by(\n",
    "            is.valid = zip %in% valid.zip$zip\n",
    "        ) %>% \n",
    "        summarize(\n",
    "            n = n(),\n",
    "            metric = sum(!!numerator.quo)/sum(!!denominator.quo)\n",
    "        ) %>% \n",
    "        ungroup() %>% \n",
    "        filter(\n",
    "            n >= 1 &\n",
    "            metric < 1\n",
    "        )\n",
    "    \n",
    "    ##  Bar Plot  ##\n",
    "    summary.df %>% \n",
    "        ggplot(\n",
    "            mapping = aes(\n",
    "                x = is.valid,\n",
    "                y = metric\n",
    "            )\n",
    "        ) +\n",
    "        geom_col(\n",
    "            mapping = aes(\n",
    "                fill = n\n",
    "            )\n",
    "        ) + \n",
    "        ##  Adjust sizing  ##\n",
    "        coord_fixed(\n",
    "            ratio = aspect.ratio\n",
    "        ) +\n",
    "        ##  Adjust coloring  ##\n",
    "        scale_fill_gradient(\n",
    "            low = \"lightgray\",\n",
    "            high = \"steelblue\"\n",
    "        )\n",
    "    \n",
    "}"
   ]
  },
  {
   "cell_type": "code",
   "execution_count": null,
   "metadata": {
    "ExecuteTime": {
     "end_time": "2019-11-14T18:52:02.980125Z",
     "start_time": "2019-11-14T18:52:02.944Z"
    },
    "code_folding": [
     0
    ]
   },
   "outputs": [],
   "source": [
    "getStatePlotFunnel = function (df, numerator.quo, denominator.quo, aspect.ratio) {\n",
    "\n",
    "    ##  With full df, sum Qualified Volume by State.  ##\n",
    "    summary.df = df %>%\n",
    "        filter(\n",
    "            qualified == 1\n",
    "        ) %>% \n",
    "        group_by(\n",
    "            statecode\n",
    "        ) %>% \n",
    "        summarize(\n",
    "            n = n(),\n",
    "            metric = sum(!!numerator.quo)/sum(!!denominator.quo)\n",
    "        ) %>% \n",
    "        ungroup() %>% \n",
    "        filter(\n",
    "            n >= 1 &\n",
    "            metric < 1\n",
    "        )\n",
    "\n",
    "    ##  Assign as factor and sort levels to assign ordering for plot.  ##\n",
    "    summary.df$statecode = factor(summary.df$statecode, levels = summary.df$statecode[order(-summary.df$n)])\n",
    "    \n",
    "    ##  Bar Plot  ##\n",
    "    summary.df %>% \n",
    "        ggplot(\n",
    "            mapping = aes(\n",
    "                x = statecode,\n",
    "                y = metric\n",
    "            )\n",
    "        ) +\n",
    "        geom_col(\n",
    "            mapping = aes(\n",
    "                fill = n\n",
    "            )\n",
    "        ) + \n",
    "        ##  Adjust sizing  ##\n",
    "        coord_fixed(\n",
    "            ratio = aspect.ratio\n",
    "        ) +\n",
    "        ##  Adjust coloring  ##\n",
    "        scale_fill_gradient(\n",
    "            low = \"lightgray\",\n",
    "            high = \"steelblue\"\n",
    "        )\n",
    "    \n",
    "}"
   ]
  },
  {
   "cell_type": "markdown",
   "metadata": {},
   "source": [
    "### Income"
   ]
  },
  {
   "cell_type": "code",
   "execution_count": null,
   "metadata": {
    "ExecuteTime": {
     "end_time": "2019-11-14T18:52:27.109980Z",
     "start_time": "2019-11-14T18:52:27.052Z"
    },
    "code_folding": [
     0
    ],
    "scrolled": false
   },
   "outputs": [],
   "source": [
    "getIncomePlotFunnel = function (df, numerator.quo, denominator.quo, aspect.ratio) {\n",
    "\n",
    "    ##  With full df, sum Qualified Volume by State.  ##\n",
    "    summary.df = df %>%\n",
    "        filter(\n",
    "            qualified == 1\n",
    "        ) %>% \n",
    "        group_by(\n",
    "            grossmonthlyincome = .$grossmonthlyincome/100,\n",
    "            grossmonthlyincome = grossmonthlyincome %>% floor() * 100\n",
    "        ) %>% \n",
    "        summarize(\n",
    "            n = n(),\n",
    "            metric = sum(!!numerator.quo)/sum(!!denominator.quo)\n",
    "        ) %>% \n",
    "        ungroup() %>% \n",
    "        filter(\n",
    "            n >= 1 &\n",
    "            metric < 1\n",
    "        )\n",
    "    \n",
    "    ##  Bar Plot  ##\n",
    "    summary.df %>% \n",
    "        ggplot(\n",
    "            mapping = aes(\n",
    "                x = grossmonthlyincome,\n",
    "                y = metric\n",
    "            )\n",
    "        ) +\n",
    "        geom_col(\n",
    "            mapping = aes(\n",
    "                fill = n\n",
    "            )\n",
    "        ) + \n",
    "        scale_y_continuous(\n",
    "            labels = scales::percent\n",
    "        ) +\n",
    "        xlim(0,8000) +\n",
    "        ##  Adjust sizing  ##\n",
    "        coord_fixed(\n",
    "            ratio = aspect.ratio\n",
    "        ) +\n",
    "        labs(\n",
    "            title = paste(df$admethod[1], 'New FR by GMI')\n",
    "        ) +\n",
    "        ##  Adjust coloring  ##\n",
    "        scale_fill_gradient(\n",
    "            low = \"lightgray\",\n",
    "            high = \"steelblue\"\n",
    "        )\n",
    "    \n",
    "}"
   ]
  },
  {
   "cell_type": "code",
   "execution_count": null,
   "metadata": {
    "ExecuteTime": {
     "end_time": "2019-11-14T18:52:31.441225Z",
     "start_time": "2019-11-14T18:52:31.409Z"
    },
    "code_folding": [
     0
    ]
   },
   "outputs": [],
   "source": [
    "getGMIPlotDOB = function (df, numerator.quo, denominator.quo, aspect.ratio) {\n",
    "\n",
    "    ##  With full df, sum Qualified Volume by State.  ##\n",
    "    summary.df = df %>%\n",
    "        filter(\n",
    "            !is.na(dateofbirth) &\n",
    "            !is.na(grossmonthlyincome) & \n",
    "            grossmonthlyincome < 50000\n",
    "        ) %>% \n",
    "        group_by(\n",
    "            dob = floor((appldate - dateofbirth) %>% as.integer()/365/10)*10\n",
    "        ) %>% \n",
    "        summarize(\n",
    "            n = n(),\n",
    "            metric = sum(!!numerator.quo)/sum(!!denominator.quo),\n",
    "            gmi = mean(grossmonthlyincome)\n",
    "        ) %>% \n",
    "        ungroup() %>% \n",
    "        filter(\n",
    "            n >= 1 &\n",
    "            metric < 1\n",
    "        )\n",
    "    \n",
    "    ##  Bar Plot  ##\n",
    "    summary.df %>% \n",
    "        ggplot(\n",
    "            mapping = aes(\n",
    "                x = dob,\n",
    "                y = gmi\n",
    "            )\n",
    "        ) +\n",
    "        geom_col(\n",
    "            mapping = aes(\n",
    "                fill = n\n",
    "            )\n",
    "        ) + \n",
    "        ##  Adjust sizing  ##\n",
    "        coord_fixed(\n",
    "            ratio = aspect.ratio\n",
    "        ) +\n",
    "        ##  Adjust coloring  ##\n",
    "        scale_fill_gradient(\n",
    "            low = \"lightgray\",\n",
    "            high = \"steelblue\"\n",
    "        ) +\n",
    "        scale_y_continuous(\n",
    "            labels = scales::dollar\n",
    "        ) +\n",
    "        geom_text(\n",
    "            mapping = aes(\n",
    "                label = n\n",
    "            ),\n",
    "            size = 3,\n",
    "            angle = -45\n",
    "        ) +\n",
    "        theme(\n",
    "            axis.text.x = element_text(\n",
    "                angle = -45\n",
    "            )\n",
    "        )\n",
    "    \n",
    "}"
   ]
  },
  {
   "cell_type": "code",
   "execution_count": null,
   "metadata": {
    "ExecuteTime": {
     "end_time": "2019-11-14T18:52:34.924397Z",
     "start_time": "2019-11-14T18:52:34.889Z"
    },
    "code_folding": [
     0
    ]
   },
   "outputs": [],
   "source": [
    "getDOBGMITileFunnel = function (df, numerator.quo, denominator.quo, aspect.ratio) {\n",
    "\n",
    "    ##  With full df, sum Qualified Volume by State.  ##\n",
    "    summary.df = df %>%\n",
    "        filter(\n",
    "            !is.na(dateofbirth)\n",
    "        ) %>% \n",
    "        group_by(\n",
    "            dob = floor((appldate - dateofbirth) %>% as.integer()/365/10) * 10,\n",
    "            gmi = floor(grossmonthlyincome/1000) * 1000\n",
    "        ) %>% \n",
    "        summarize(\n",
    "            n = n(),\n",
    "            metric = sum(!!numerator.quo)/sum(!!denominator.quo)\n",
    "        ) %>% \n",
    "        ungroup() %>% \n",
    "        filter(\n",
    "            n >= 1 &\n",
    "            metric < 0.3\n",
    "        )\n",
    "    \n",
    "    ##  Bar Plot  ##\n",
    "    summary.df %>% \n",
    "        ggplot(\n",
    "            mapping = aes(\n",
    "                x = gmi,\n",
    "                y = dob\n",
    "            )\n",
    "        ) +\n",
    "        geom_tile(\n",
    "            mapping = aes(\n",
    "                fill = metric\n",
    "            )\n",
    "        ) + \n",
    "        xlim(0,10000) +\n",
    "        ##  Adjust sizing  ##\n",
    "        coord_fixed(\n",
    "            ratio = aspect.ratio\n",
    "        ) +\n",
    "        ##  Adjust coloring  ##\n",
    "        scale_fill_gradient(\n",
    "            low = \"lightgray\",\n",
    "            high = \"steelblue\"\n",
    "        ) +\n",
    "        geom_text(\n",
    "            mapping = aes(\n",
    "                label = n,\n",
    "                size = n\n",
    "            )\n",
    "        )\n",
    "    \n",
    "}"
   ]
  },
  {
   "cell_type": "code",
   "execution_count": null,
   "metadata": {
    "ExecuteTime": {
     "end_time": "2019-11-14T18:52:38.966208Z",
     "start_time": "2019-11-14T18:52:38.930Z"
    },
    "code_folding": [
     0
    ]
   },
   "outputs": [],
   "source": [
    "getClickIDGMITileFunnel = function (df, numerator.quo, denominator.quo, aspect.ratio) {\n",
    "\n",
    "    ##  With full df, sum Qualified Volume by State.  ##\n",
    "    summary.df = df %>%\n",
    "        filter(\n",
    "            !is.na(dateofbirth)\n",
    "        ) %>% \n",
    "        group_by(\n",
    "            click_id,\n",
    "            gmi = floor(grossmonthlyincome/1000) * 1000\n",
    "        ) %>% \n",
    "        summarize(\n",
    "            n = n(),\n",
    "            metric = sum(!!numerator.quo)/sum(!!denominator.quo)\n",
    "        ) %>% \n",
    "        ungroup() %>% \n",
    "        filter(\n",
    "            n >= 1 &\n",
    "            metric < 0.3\n",
    "        )\n",
    "    \n",
    "    ##  Bar Plot  ##\n",
    "    summary.df %>% \n",
    "        ggplot(\n",
    "            mapping = aes(\n",
    "                x = gmi,\n",
    "                y = click_id\n",
    "            )\n",
    "        ) +\n",
    "        geom_tile(\n",
    "            mapping = aes(\n",
    "                fill = metric\n",
    "            )\n",
    "        ) + \n",
    "        xlim(0,10000) +\n",
    "        ##  Adjust sizing  ##\n",
    "        coord_fixed(\n",
    "            ratio = aspect.ratio\n",
    "        ) +\n",
    "        ##  Adjust coloring  ##\n",
    "        scale_fill_gradient(\n",
    "            low = \"lightgray\",\n",
    "            high = \"steelblue\"\n",
    "        ) +\n",
    "        geom_text(\n",
    "            mapping = aes(\n",
    "                label = n,\n",
    "                size = n\n",
    "            )\n",
    "        )\n",
    "    \n",
    "}"
   ]
  },
  {
   "cell_type": "code",
   "execution_count": null,
   "metadata": {
    "ExecuteTime": {
     "end_time": "2019-11-14T18:52:40.612627Z",
     "start_time": "2019-11-14T18:52:40.572Z"
    },
    "code_folding": [
     0
    ]
   },
   "outputs": [],
   "source": [
    "getClickIDGMITileDOB = function (df, aspect.ratio) {\n",
    "\n",
    "    ##  With full df, sum Qualified Volume by State.  ##\n",
    "    summary.df = df %>%\n",
    "        filter(\n",
    "            !is.na(dateofbirth) &\n",
    "            !is.na(click_id) &\n",
    "            !is.na(grossmonthlyincome)\n",
    "        ) %>% \n",
    "        group_by(\n",
    "            click_id,\n",
    "            gmi = floor(grossmonthlyincome/1000) * 1000\n",
    "        ) %>% \n",
    "        summarize(\n",
    "            n = n(),\n",
    "            dob = mean(floor((appldate - dateofbirth) %>% as.integer()/365) > 40)\n",
    "        ) %>% \n",
    "        ungroup() %>% \n",
    "        filter(\n",
    "            n >= 1\n",
    "        )\n",
    "    \n",
    "    ##  Bar Plot  ##\n",
    "    summary.df %>% \n",
    "        ggplot(\n",
    "            mapping = aes(\n",
    "                x = gmi,\n",
    "                y = click_id\n",
    "            )\n",
    "        ) +\n",
    "        geom_tile(\n",
    "            mapping = aes(\n",
    "                fill = dob\n",
    "            )\n",
    "        ) + \n",
    "        xlim(0,10000) +\n",
    "        ##  Adjust sizing  ##\n",
    "        coord_fixed(\n",
    "            ratio = aspect.ratio\n",
    "        ) +\n",
    "        ##  Adjust coloring  ##\n",
    "        scale_fill_gradient(\n",
    "            low = \"lightgray\",\n",
    "            high = \"steelblue\"\n",
    "        ) +\n",
    "        geom_text(\n",
    "            mapping = aes(\n",
    "                label = n,\n",
    "                size = n\n",
    "            )\n",
    "        )\n",
    "    \n",
    "}"
   ]
  },
  {
   "cell_type": "markdown",
   "metadata": {},
   "source": [
    "### Click ID"
   ]
  },
  {
   "cell_type": "code",
   "execution_count": null,
   "metadata": {
    "ExecuteTime": {
     "end_time": "2019-11-14T18:52:47.971144Z",
     "start_time": "2019-11-14T18:52:47.934Z"
    },
    "code_folding": [
     0
    ]
   },
   "outputs": [],
   "source": [
    "getClickIDPlotFunnel = function (df, numerator.quo, denominator.quo, aspect.ratio) {\n",
    "\n",
    "    ##  With full df, sum Qualified Volume by State.  ##\n",
    "    summary.df = df %>%\n",
    "        filter(\n",
    "            qualified == 1 &\n",
    "            !is.na(click_id)\n",
    "        ) %>% \n",
    "        group_by(\n",
    "            click_id\n",
    "        ) %>% \n",
    "        summarize(\n",
    "            n = n(),\n",
    "            metric = sum(!!numerator.quo)/sum(!!denominator.quo)\n",
    "        ) %>% \n",
    "        ungroup() %>% \n",
    "        filter(\n",
    "            n >= 1 &\n",
    "            metric < 1\n",
    "        )\n",
    "    \n",
    "    summary.df$click_id = factor(summary.df$click_id, levels = summary.df$click_id[order(-summary.df$metric)])\n",
    "    \n",
    "    ##  Bar Plot  ##\n",
    "    summary.df %>% filter(click_id != 'None') %>% \n",
    "        ggplot(\n",
    "            mapping = aes(\n",
    "                x = click_id,\n",
    "                y = metric\n",
    "            )\n",
    "        ) +\n",
    "        geom_col(\n",
    "            mapping = aes(\n",
    "                fill = n\n",
    "            )\n",
    "        ) + \n",
    "        ##  Adjust sizing  ##\n",
    "        coord_fixed(\n",
    "            ratio = aspect.ratio\n",
    "        ) +\n",
    "        ##  Adjust coloring  ##\n",
    "        scale_fill_gradient(\n",
    "            low = \"lightgray\",\n",
    "            high = \"steelblue\"\n",
    "        ) +\n",
    "        scale_y_continuous(\n",
    "            labels = scales::percent\n",
    "        ) +\n",
    "        geom_text(\n",
    "            mapping = aes(\n",
    "                label = n\n",
    "            ),\n",
    "            size = 3,\n",
    "            angle = -45\n",
    "        ) +\n",
    "        theme(\n",
    "            axis.text.x = element_text(\n",
    "                angle = -45\n",
    "            )\n",
    "        )\n",
    "    \n",
    "}"
   ]
  },
  {
   "cell_type": "code",
   "execution_count": null,
   "metadata": {
    "ExecuteTime": {
     "end_time": "2019-11-14T18:52:52.000978Z",
     "start_time": "2019-11-14T18:52:51.964Z"
    },
    "code_folding": [
     0
    ]
   },
   "outputs": [],
   "source": [
    "getClickIDPlotGMI = function (df, numerator.quo, denominator.quo, aspect.ratio) {\n",
    "\n",
    "    ##  With full df, sum Qualified Volume by State.  ##\n",
    "    summary.df = df %>%\n",
    "        filter(\n",
    "            !is.na(click_id) &\n",
    "            !is.na(grossmonthlyincome)\n",
    "        ) %>% \n",
    "        group_by(\n",
    "            click_id\n",
    "        ) %>% \n",
    "        summarize(\n",
    "            n = n(),\n",
    "            metric = sum(!!numerator.quo)/sum(!!denominator.quo),\n",
    "            gmi = mean(grossmonthlyincome)\n",
    "        ) %>% \n",
    "        ungroup() %>% \n",
    "        filter(\n",
    "            n >= 1 &\n",
    "            metric < 1\n",
    "        )\n",
    "    \n",
    "    summary.df$click_id = factor(summary.df$click_id, levels = summary.df$click_id[order(-summary.df$metric)])\n",
    "    \n",
    "    ##  Bar Plot  ##\n",
    "    summary.df %>% filter(click_id != 'None') %>% \n",
    "        ggplot(\n",
    "            mapping = aes(\n",
    "                x = click_id,\n",
    "                y = gmi\n",
    "            )\n",
    "        ) +\n",
    "        geom_col(\n",
    "            mapping = aes(\n",
    "                fill = n\n",
    "            )\n",
    "        ) + \n",
    "        ##  Adjust sizing  ##\n",
    "        coord_fixed(\n",
    "            ratio = aspect.ratio\n",
    "        ) +\n",
    "        ##  Adjust coloring  ##\n",
    "        scale_fill_gradient(\n",
    "            low = \"lightgray\",\n",
    "            high = \"steelblue\"\n",
    "        ) +\n",
    "        scale_y_continuous(\n",
    "            labels = scales::dollar\n",
    "        ) +\n",
    "        geom_text(\n",
    "            mapping = aes(\n",
    "                label = n\n",
    "            ),\n",
    "            size = 3,\n",
    "            angle = -45\n",
    "        ) +\n",
    "        theme(\n",
    "            axis.text.x = element_text(\n",
    "                angle = -45\n",
    "            )\n",
    "        )\n",
    "    \n",
    "}"
   ]
  },
  {
   "cell_type": "code",
   "execution_count": null,
   "metadata": {
    "ExecuteTime": {
     "end_time": "2019-11-14T18:52:55.260595Z",
     "start_time": "2019-11-14T18:52:55.211Z"
    },
    "code_folding": [
     0
    ]
   },
   "outputs": [],
   "source": [
    "getClickIDPlotDOB = function (df, numerator.quo, denominator.quo, aspect.ratio) {\n",
    "\n",
    "    ##  With full df, sum Qualified Volume by State.  ##\n",
    "    summary.df = df %>%\n",
    "        filter(\n",
    "            !is.na(click_id) &\n",
    "            !is.na(dateofbirth)\n",
    "        ) %>% \n",
    "        group_by(\n",
    "            click_id\n",
    "        ) %>% \n",
    "        summarize(\n",
    "            n = n(),\n",
    "            metric = sum(!!numerator.quo)/sum(!!denominator.quo),\n",
    "#             dob = mean(floor((appldate - dateofbirth) %>% as.integer()/365))\n",
    "            dob = mean(floor((appldate - dateofbirth) %>% as.integer()/365) <= 40)\n",
    "        ) %>% \n",
    "        ungroup() %>% \n",
    "        filter(\n",
    "            n >= 1 &\n",
    "            metric < 1\n",
    "        )\n",
    "    \n",
    "    summary.df$click_id = factor(summary.df$click_id, levels = summary.df$click_id[order(-summary.df$metric)])\n",
    "    \n",
    "    ##  Bar Plot  ##\n",
    "    summary.df %>% filter(click_id != 'None') %>% \n",
    "        ggplot(\n",
    "            mapping = aes(\n",
    "                x = click_id,\n",
    "                y = dob\n",
    "            )\n",
    "        ) +\n",
    "        geom_col(\n",
    "            mapping = aes(\n",
    "                fill = n\n",
    "            )\n",
    "        ) + \n",
    "        ##  Adjust sizing  ##\n",
    "        coord_fixed(\n",
    "#             ratio = 0.12\n",
    "            ratio = aspect.ratio\n",
    "        ) +\n",
    "        ##  Adjust coloring  ##\n",
    "        scale_fill_gradient(\n",
    "            low = \"lightgray\",\n",
    "            high = \"steelblue\"\n",
    "        ) +\n",
    "        scale_y_continuous(\n",
    "#             labels = scales::dollar\n",
    "        ) +\n",
    "        geom_text(\n",
    "            mapping = aes(\n",
    "                label = n\n",
    "            ),\n",
    "            size = 3,\n",
    "            angle = -45\n",
    "        ) +\n",
    "        theme(\n",
    "            axis.text.x = element_text(\n",
    "                angle = -45\n",
    "            )\n",
    "        )\n",
    "    \n",
    "}"
   ]
  },
  {
   "cell_type": "code",
   "execution_count": null,
   "metadata": {
    "ExecuteTime": {
     "end_time": "2019-11-14T18:53:00.309254Z",
     "start_time": "2019-11-14T18:53:00.271Z"
    },
    "code_folding": [
     0
    ]
   },
   "outputs": [],
   "source": [
    "getClickIDTimeSeries = function (df, click.id.vector, aspect.ratio) {\n",
    "    \n",
    "    df %>% \n",
    "        filter(\n",
    "            click_id %in% click.id.vector\n",
    "        ) %>% \n",
    "        group_by(\n",
    "            appldate_ = appldate %>% as.Date(),\n",
    "            click_id\n",
    "        ) %>% \n",
    "        summarize(\n",
    "            n = n()\n",
    "        ) %>% \n",
    "        ggplot(\n",
    "            mapping = aes(\n",
    "                x = appldate_,\n",
    "                y = n\n",
    "            )\n",
    "        ) +\n",
    "        geom_line(\n",
    "            mapping = aes(\n",
    "                color = click_id\n",
    "            ),\n",
    "            size = 1\n",
    "        ) +\n",
    "        geom_point(\n",
    "            mapping = aes(\n",
    "                color = click_id\n",
    "            ),\n",
    "            size = 2\n",
    "        ) +\n",
    "        coord_fixed(\n",
    "            ratio = aspect.ratio\n",
    "        )\n",
    "}"
   ]
  },
  {
   "cell_type": "markdown",
   "metadata": {},
   "source": [
    "### DOB"
   ]
  },
  {
   "cell_type": "code",
   "execution_count": null,
   "metadata": {
    "ExecuteTime": {
     "end_time": "2019-11-14T18:53:04.325479Z",
     "start_time": "2019-11-14T18:53:04.282Z"
    },
    "code_folding": [
     0
    ]
   },
   "outputs": [],
   "source": [
    "getDOBPlotFunnel = function (df, numerator.quo, denominator.quo, aspect.ratio) {\n",
    "\n",
    "    ##  With full df, sum Qualified Volume by State.  ##\n",
    "    summary.df = df %>%\n",
    "        filter(\n",
    "            qualified == 1\n",
    "        ) %>% \n",
    "        group_by(\n",
    "            dob = floor((lead_time - dateofbirth) %>% as.integer()/365)\n",
    "        ) %>% \n",
    "        summarize(\n",
    "            n = n(),\n",
    "            metric = sum(!!numerator.quo)/sum(!!denominator.quo)\n",
    "        ) %>% \n",
    "        ungroup() %>% \n",
    "        filter(\n",
    "            n >= 1 &\n",
    "            metric < 1\n",
    "        )\n",
    "    \n",
    "    ##  Bar Plot  ##\n",
    "    summary.df %>% \n",
    "        ggplot(\n",
    "            mapping = aes(\n",
    "                x = dob,\n",
    "                y = metric\n",
    "            )\n",
    "        ) +\n",
    "        geom_col(\n",
    "            mapping = aes(\n",
    "                fill = n\n",
    "            )\n",
    "        ) + \n",
    "        ##  Adjust sizing  ##\n",
    "        coord_fixed(\n",
    "            ratio = aspect.ratio\n",
    "        ) +\n",
    "        ##  Adjust coloring  ##\n",
    "        scale_fill_gradient(\n",
    "            low = \"lightgray\",\n",
    "            high = \"steelblue\"\n",
    "        )\n",
    "    \n",
    "}"
   ]
  },
  {
   "cell_type": "markdown",
   "metadata": {},
   "source": [
    "### Bank"
   ]
  },
  {
   "cell_type": "code",
   "execution_count": null,
   "metadata": {
    "ExecuteTime": {
     "end_time": "2019-11-14T18:53:09.435707Z",
     "start_time": "2019-11-14T18:53:09.395Z"
    },
    "code_folding": [
     0
    ]
   },
   "outputs": [],
   "source": [
    "getABAPlotFunnel = function (df, numerator.quo, denominator.quo, aspect.ratio) {\n",
    "\n",
    "    ##  With full df, sum Qualified Volume by State.  ##\n",
    "    summary.df = df %>%\n",
    "        mutate(\n",
    "            na.aba = is.na(abaroutingnumber)\n",
    "        ) %>% \n",
    "        filter(\n",
    "            qualified == 1 &\n",
    "            !is.na(abaroutingnumber.is.valid) &\n",
    "            !(!abaroutingnumber.is.valid & !na.aba)\n",
    "        ) %>% \n",
    "        group_by(\n",
    "            enter.aba = abaroutingnumber.is.valid\n",
    "        ) %>% \n",
    "        summarize(\n",
    "            n = n(),\n",
    "            metric = sum(!!numerator.quo)/sum(!!denominator.quo)\n",
    "        ) %>% \n",
    "        ungroup() %>% \n",
    "        filter(\n",
    "            n >= 1 &\n",
    "            metric < 1\n",
    "        )\n",
    "    \n",
    "    ##  Bar Plot  ##\n",
    "    summary.df %>% \n",
    "        ggplot(\n",
    "            mapping = aes(\n",
    "                x = enter.aba,\n",
    "                y = metric\n",
    "            )\n",
    "        ) +\n",
    "        geom_col(\n",
    "            mapping = aes(\n",
    "                fill = n\n",
    "            )\n",
    "        ) + \n",
    "        ##  Adjust sizing  ##\n",
    "        coord_fixed(\n",
    "            ratio = aspect.ratio\n",
    "        ) +\n",
    "        ##  Adjust coloring  ##\n",
    "        scale_fill_gradient(\n",
    "            low = \"lightgray\",\n",
    "            high = \"steelblue\"\n",
    "        )\n",
    "    \n",
    "}"
   ]
  },
  {
   "cell_type": "code",
   "execution_count": null,
   "metadata": {
    "ExecuteTime": {
     "end_time": "2019-11-14T18:53:14.479944Z",
     "start_time": "2019-11-14T18:53:14.447Z"
    },
    "code_folding": [
     0
    ]
   },
   "outputs": [],
   "source": [
    "getAccountNumPlotFunnel = function (df, numerator.quo, denominator.quo, aspect.ratio) {\n",
    "\n",
    "    ##  With full df, sum Qualified Volume by State.  ##\n",
    "    summary.df = df %>%\n",
    "        filter(\n",
    "            qualified == 1 &\n",
    "            !is.na(accountnumber.is.valid) &\n",
    "            !(!accountnumber.is.valid & is.na(accountnumber))\n",
    "        ) %>% \n",
    "        group_by(\n",
    "            accountnumber.is.valid\n",
    "        ) %>% \n",
    "        summarize(\n",
    "            n = n(),\n",
    "            metric = sum(!!numerator.quo)/sum(!!denominator.quo)\n",
    "        ) %>% \n",
    "        ungroup() %>% \n",
    "        filter(\n",
    "            n >= 1 &\n",
    "            metric < 1\n",
    "        )\n",
    "    \n",
    "    ##  Bar Plot  ##\n",
    "    summary.df %>% \n",
    "        ggplot(\n",
    "            mapping = aes(\n",
    "                x = accountnumber.is.valid,\n",
    "                y = metric\n",
    "            )\n",
    "        ) +\n",
    "        geom_col(\n",
    "            mapping = aes(\n",
    "                fill = n\n",
    "            )\n",
    "        ) + \n",
    "        ##  Adjust sizing  ##\n",
    "        coord_fixed(\n",
    "            ratio = aspect.ratio\n",
    "        ) +\n",
    "        ##  Adjust coloring  ##\n",
    "        scale_fill_gradient(\n",
    "            low = \"lightgray\",\n",
    "            high = \"steelblue\"\n",
    "        )\n",
    "    \n",
    "}"
   ]
  },
  {
   "cell_type": "code",
   "execution_count": null,
   "metadata": {
    "ExecuteTime": {
     "end_time": "2019-11-14T18:53:17.971013Z",
     "start_time": "2019-11-14T18:53:17.933Z"
    },
    "code_folding": [
     0
    ]
   },
   "outputs": [],
   "source": [
    "getAccountTypePlotFunnel = function (df, numerator.quo, denominator.quo, aspect.ratio) {\n",
    "\n",
    "    ##  With full df, sum Qualified Volume by State.  ##\n",
    "    summary.df = df %>%\n",
    "        filter(\n",
    "            qualified == 1\n",
    "        ) %>% \n",
    "        group_by(\n",
    "            raw_accounttype\n",
    "        ) %>% \n",
    "        summarize(\n",
    "            n = n(),\n",
    "            metric = sum(!!numerator.quo)/sum(!!denominator.quo)\n",
    "        ) %>% \n",
    "        ungroup() %>% \n",
    "        filter(\n",
    "            n >= 1 &\n",
    "            metric < 1\n",
    "        )\n",
    "    \n",
    "    ##  Bar Plot  ##\n",
    "    summary.df %>% \n",
    "        ggplot(\n",
    "            mapping = aes(\n",
    "                x = raw_accounttype,\n",
    "                y = metric\n",
    "            )\n",
    "        ) +\n",
    "        geom_col(\n",
    "            mapping = aes(\n",
    "                fill = n\n",
    "            )\n",
    "        ) + \n",
    "        ##  Adjust sizing  ##\n",
    "        coord_fixed(\n",
    "            ratio = aspect.ratio\n",
    "        ) +\n",
    "        ##  Adjust coloring  ##\n",
    "        scale_fill_gradient(\n",
    "            low = \"lightgray\",\n",
    "            high = \"steelblue\"\n",
    "        )\n",
    "    \n",
    "}"
   ]
  },
  {
   "cell_type": "code",
   "execution_count": null,
   "metadata": {
    "ExecuteTime": {
     "end_time": "2019-11-14T18:53:20.657026Z",
     "start_time": "2019-11-14T18:53:20.617Z"
    },
    "code_folding": [
     0
    ]
   },
   "outputs": [],
   "source": [
    "getAccountLengthPlotFunnel = function (df, numerator.quo, denominator.quo, aspect.ratio) {\n",
    "\n",
    "    ##  With full df, sum Qualified Volume by State.  ##\n",
    "    summary.df = df %>%\n",
    "        filter(\n",
    "            qualified == 1\n",
    "        ) %>% \n",
    "        group_by(\n",
    "            raw_accountlength\n",
    "        ) %>% \n",
    "        summarize(\n",
    "            n = n(),\n",
    "            metric = sum(!!numerator.quo)/sum(!!denominator.quo)\n",
    "        ) %>% \n",
    "        ungroup() %>% \n",
    "        filter(\n",
    "            n >= 1 &\n",
    "            metric < 1\n",
    "        )\n",
    "    \n",
    "    ##  Bar Plot  ##\n",
    "    summary.df %>% \n",
    "        ggplot(\n",
    "            mapping = aes(\n",
    "                x = raw_accountlength,\n",
    "                y = metric\n",
    "            )\n",
    "        ) +\n",
    "        geom_col(\n",
    "            mapping = aes(\n",
    "                fill = n\n",
    "            )\n",
    "        ) + \n",
    "        ##  Adjust sizing  ##\n",
    "        coord_fixed(\n",
    "            ratio = aspect.ratio\n",
    "        ) +\n",
    "        ##  Adjust coloring  ##\n",
    "        scale_fill_gradient(\n",
    "            low = \"lightgray\",\n",
    "            high = \"steelblue\"\n",
    "        )\n",
    "    \n",
    "}"
   ]
  },
  {
   "cell_type": "markdown",
   "metadata": {},
   "source": [
    "# LenderEdge 4"
   ]
  },
  {
   "cell_type": "markdown",
   "metadata": {},
   "source": [
    "Proposal:\n",
    "- Income:\n",
    "    - <b>Ignore the value passed in the payload.</b>\n",
    "    - Higher income customer to reduce Insiffucient Income denials.\n",
    "- DOB\n",
    "    - Senior applicants have more issues through the funnel\n",
    "- <b>Click ID!</b>\n",
    "- <b>Wait for more data</b>, to create a more robust decision tree/random forest model.\n",
    "    - Initial model suggests to accept the following income ranges & click IDs for each state:"
   ]
  },
  {
   "cell_type": "code",
   "execution_count": null,
   "metadata": {
    "ExecuteTime": {
     "end_time": "2019-11-14T17:41:27.939185Z",
     "start_time": "2019-11-14T17:41:27.903Z"
    },
    "code_folding": [
     0
    ]
   },
   "outputs": [],
   "source": [
    "writeLenderEdgeDF = function () {\n",
    "\n",
    "    df.lenderedge.comparison = read_csv(\n",
    "            \"..\\\\data\\\\lenderedge4_df.csv\"\n",
    "        ) %>%\n",
    "        formatDataTypes() %>%\n",
    "        compareExtractionToRaw()\n",
    "\n",
    "    lenderedge.response = read_csv(\n",
    "            \"../data/lenderedge4_response_df.csv\"\n",
    "        ) %>% addFeatures()\n",
    "\n",
    "    lenderedge = lenderedge.response %>%\n",
    "        left_join(\n",
    "            df.lenderedge.comparison,\n",
    "            by = c('lead_id' = 'lead_id')\n",
    "        ) %>%\n",
    "        left_join(\n",
    "            valid.zip,\n",
    "            by = c('zip' = 'zip')\n",
    "        )\n",
    "\n",
    "    lenderedge %>% write.csv(\"../data/lenderedge4_df.csv\")\n",
    "}\n",
    "\n",
    "lenderedge = read_csv(\"..\\\\data\\\\lenderedge4_df.csv\")\n",
    "theme_set(theme_bw())"
   ]
  },
  {
   "cell_type": "markdown",
   "metadata": {},
   "source": [
    "### Time Series"
   ]
  },
  {
   "cell_type": "markdown",
   "metadata": {},
   "source": [
    "- In October, Funding Rate increased, driven by BV/Q and F/Decisioned.\n",
    "- In October, We began to ignore the Bank Account JSON Object in the raw_lead payload.\n",
    "- Mean GMI has steadily increased, reflecting offer amount increase and Insufficient Income decrease.- "
   ]
  },
  {
   "cell_type": "code",
   "execution_count": null,
   "metadata": {},
   "outputs": [],
   "source": [
    "lenderedge %>% getTimeSeriesFunnel(90)\n",
    "lenderedge %>% getTimeSeriesGMI(0.03)\n",
    "lenderedge %>% getTimeSeriesOfferAmount(0.1)\n",
    "lenderedge %>% getTimeSeriesValidBank(15)\n",
    "lenderedge %>% getTimeSeriesDenialReason(150)"
   ]
  },
  {
   "cell_type": "markdown",
   "metadata": {},
   "source": [
    "### Geography"
   ]
  },
  {
   "cell_type": "markdown",
   "metadata": {},
   "source": [
    "- Volume centralized in FL, Midwest, and West coast, each of which have a gradient for FR.\n",
    "- There is no concentrated state that funds better than others.\n",
    "- Most states/MSA show low conversion (red) on low volume (small)."
   ]
  },
  {
   "cell_type": "code",
   "execution_count": null,
   "metadata": {
    "ExecuteTime": {
     "end_time": "2019-11-14T17:47:24.274826Z",
     "start_time": "2019-11-14T17:47:22.339Z"
    }
   },
   "outputs": [],
   "source": [
    "lenderedge %>% getZipPlotVolume()\n",
    "lenderedge %>% getZipPlotFunnel(quo(funded), quo(qualified))\n",
    "lenderedge %>% getZipPlotIncome()\n",
    "lenderedge %>% getValidZipPlotFunnel(quo(funded), quo(qualified), aspect.ratio = 5)\n",
    "lenderedge %>% getStatePlotFunnel(quo(funded), quo(qualified), aspect.ratio = 40)\n",
    "lenderedge %>% getZipGMIPlotFunnel(quo(funded), quo(qualified))\n",
    "lenderedge %>% getZipDOBPlotFunnel(quo(funded), quo(qualified))\n",
    "lenderedge %>% getZipDOBPlotFunnel(quo(bankverified), quo(qualified))"
   ]
  },
  {
   "cell_type": "markdown",
   "metadata": {},
   "source": [
    "### Income"
   ]
  },
  {
   "cell_type": "markdown",
   "metadata": {},
   "source": [
    "- Concentrated in Lower Income\n",
    "- Passes in discrete values, can we ask for Income again?\n",
    "- FR for higher income customers becomes more volatile."
   ]
  },
  {
   "cell_type": "code",
   "execution_count": null,
   "metadata": {
    "ExecuteTime": {
     "end_time": "2019-11-14T17:54:00.354217Z",
     "start_time": "2019-11-14T17:54:00.321Z"
    }
   },
   "outputs": [],
   "source": [
    "lenderedge %>% getIncomePlotFunnel(quo(funded), quo(qualified), aspect.ratio = 5000)\n",
    "lenderedge %>% filter(appldate >= '2019-10-01' %>% as.Date()) %>% getGMIPlotDOB(quo(funded), quo(qualified), aspect.ratio = 0.01)\n",
    "lenderedge %>% getDOBGMITileFunnel(quo(funded), quo(qualified), aspect.ratio = 80)\n",
    "lenderedge %>% filter(appldate >= '2019-10-01' %>% as.Date()) %>%  getClickIDGMITileFunnel(quo(funded), quo(qualified), aspect.ratio = 350)\n",
    "lenderedge %>% filter(appldate >= '2019-10-01' %>% as.Date()) %>%  getClickIDGMITileDOB(aspect.ratio = 350)"
   ]
  },
  {
   "cell_type": "markdown",
   "metadata": {},
   "source": [
    "### Click ID"
   ]
  },
  {
   "cell_type": "markdown",
   "metadata": {},
   "source": [
    "- Click ID mix continuously shifts.\n",
    "- How are Click IDs 1716 different from 1736 & 1757?\n",
    "    - 1716 // 1736 on income\n",
    "    - 1757 // 1716 & 1736 on income"
   ]
  },
  {
   "cell_type": "code",
   "execution_count": null,
   "metadata": {},
   "outputs": [],
   "source": [
    "lenderedge %>% filter(appldate >= '2019-10-01' %>% as.Date()) %>% getClickIDPlotFunnel(quo(funded), quo(qualified), aspect.ratio = 40)\n",
    "lenderedge %>% filter(appldate >= '2019-10-01' %>% as.Date()) %>% getClickIDPlotGMI(quo(funded), quo(qualified), aspect.ratio = 0.0015)\n",
    "lenderedge %>% filter(appldate >= '2019-10-01' %>% as.Date()) %>% getClickIDPlotDOB(quo(funded), quo(qualified), aspect.ratio = 8)\n",
    "lenderedge %>% getClickIDTimeSeries(click.id.vector = c('1716', '1736', '1757'), aspect.ratio = 0.1)"
   ]
  },
  {
   "cell_type": "markdown",
   "metadata": {},
   "source": [
    "### DOB"
   ]
  },
  {
   "cell_type": "markdown",
   "metadata": {},
   "source": [
    "- FR drops off for older customers."
   ]
  },
  {
   "cell_type": "code",
   "execution_count": null,
   "metadata": {
    "ExecuteTime": {
     "end_time": "2019-11-14T18:05:16.235833Z",
     "start_time": "2019-11-14T18:05:16.199Z"
    },
    "code_folding": [
     0
    ]
   },
   "outputs": [],
   "source": [
    "lenderedge %>% getDOBPlotFunnel(quo(funded), quo(qualified), aspect.ratio = 150)"
   ]
  },
  {
   "cell_type": "markdown",
   "metadata": {},
   "source": [
    "### Bank"
   ]
  },
  {
   "cell_type": "code",
   "execution_count": null,
   "metadata": {},
   "outputs": [],
   "source": [
    "lenderedge %>% getABAPlotFunnel(quo(funded), quo(qualified), aspect.ratio = 10)\n",
    "lenderedge %>% getAccountNumPlotFunnel(quo(funded), quo(qualified), aspect.ratio = 10)\n",
    "lenderedge %>% getAccountTypePlotFunnel(quo(funded), quo(qualified), aspect.ratio = 15)\n",
    "lenderedge %>% getAccountLengthPlotFunnel(quo(funded), quo(qualified), aspect.ratio = 5)"
   ]
  },
  {
   "cell_type": "markdown",
   "metadata": {},
   "source": [
    "### Decision Tree"
   ]
  },
  {
   "cell_type": "code",
   "execution_count": null,
   "metadata": {
    "ExecuteTime": {
     "end_time": "2019-11-14T18:11:16.812006Z",
     "start_time": "2019-11-14T18:11:16.768Z"
    }
   },
   "outputs": [],
   "source": [
    "# https://www.statmethods.net/advstats/cart.html\n",
    "library(rpart)\n",
    "library(rattle)\n",
    "library(rpart.plot)"
   ]
  },
  {
   "cell_type": "code",
   "execution_count": null,
   "metadata": {
    "ExecuteTime": {
     "end_time": "2019-11-14T18:12:54.709187Z",
     "start_time": "2019-11-14T18:12:54.666Z"
    },
    "code_folding": [
     0
    ],
    "scrolled": false
   },
   "outputs": [],
   "source": [
    "getPopultationDecisionTree = function (df) {\n",
    "\n",
    "    rpart(\n",
    "        formula = funded ~\n",
    "            click_id +\n",
    "            raw_abaroutingnumber.is.valid +\n",
    "            raw_accountnumber.is.valid +\n",
    "            raw_grossmonthlyincome +\n",
    "            raw_statecode,\n",
    "    #         age,\n",
    "        data = df %>%\n",
    "            mutate(\n",
    "                funded = ifelse(funded, \"Funded\", \"Denied\")\n",
    "            ),\n",
    "        method = 'class',    ##  classification tree\n",
    "        control = rpart.control(\n",
    "            minsplit = 2,\n",
    "            minbucket = 2,\n",
    "            cp = 0.0002\n",
    "        )\n",
    "    ) %T>% \n",
    "#         summary() %T>%\n",
    "#         plot() %T>%\n",
    "#         text() %T>%\n",
    "        fancyRpartPlot()\n",
    "}\n",
    "# lenderedge %>% getPopultationDecisionTree()"
   ]
  },
  {
   "cell_type": "markdown",
   "metadata": {},
   "source": [
    "### Random Forest"
   ]
  },
  {
   "cell_type": "code",
   "execution_count": null,
   "metadata": {
    "ExecuteTime": {
     "end_time": "2019-11-14T18:13:28.496078Z",
     "start_time": "2019-11-14T18:13:28.463Z"
    }
   },
   "outputs": [],
   "source": [
    "library(randomForest)"
   ]
  },
  {
   "cell_type": "code",
   "execution_count": null,
   "metadata": {
    "code_folding": [
     0
    ]
   },
   "outputs": [],
   "source": [
    "reformatRandomForest = function (df) {\n",
    "    \n",
    "    df %>%\n",
    "        filter(\n",
    "            !is.na(raw_statecode)\n",
    "        ) %>%\n",
    "        mutate(\n",
    "            funded = ifelse(funded, \"Funded\", \"Denied\")\n",
    "        ) %>% \n",
    "        mutate_if(\n",
    "            .predicate = is.character,\n",
    "            .funs = as.factor  ##  requires factors\n",
    "        )\n",
    "}"
   ]
  },
  {
   "cell_type": "code",
   "execution_count": null,
   "metadata": {
    "ExecuteTime": {
     "end_time": "2019-11-14T18:20:56.061931Z",
     "start_time": "2019-11-14T18:20:56.024Z"
    },
    "code_folding": [
     0
    ]
   },
   "outputs": [],
   "source": [
    "getPopulationRandomForest = function (df.rf.reformat) {\n",
    "    \n",
    "    randomForest(\n",
    "        formula = funded ~\n",
    "            click_id +\n",
    "            raw_grossmonthlyincome +\n",
    "            raw_statecode,\n",
    "        data = df.rf.reformat,\n",
    "        mtry = 2,\n",
    "        ntree = 5,\n",
    "        sampsize = ceiling(0.632*nrow(df.rf.reformat)),\n",
    "        replace = TRUE,\n",
    "        importance = TRUE\n",
    "    )\n",
    "}\n",
    "# lenderedge %>% reformatRandomForest() %>% getPopulationRandomForest()"
   ]
  },
  {
   "cell_type": "code",
   "execution_count": null,
   "metadata": {
    "ExecuteTime": {
     "end_time": "2019-11-14T18:20:58.944560Z",
     "start_time": "2019-11-14T18:20:58.907Z"
    },
    "code_folding": [
     0
    ]
   },
   "outputs": [],
   "source": [
    "getPopulationRandomForestWeighted = function (df.rf.reformat) {\n",
    "\n",
    "    randomForest(\n",
    "        formula = funded ~\n",
    "            click_id +\n",
    "            raw_grossmonthlyincome +\n",
    "            raw_statecode,\n",
    "        data = df.rf.reformat,\n",
    "        mtry = 2,\n",
    "        ntree = 500,\n",
    "        strata = df.rf.reformat$funded,\n",
    "        sampsize = c(\n",
    "            200,  ##  Denied\n",
    "            100   ##  Approved\n",
    "        ),\n",
    "        replace = TRUE,\n",
    "        importance = TRUE\n",
    "    )   \n",
    "}\n",
    "# lenderedge %>% reformatRandomForest() %>% getPopulationRandomForestWeighted()"
   ]
  },
  {
   "cell_type": "code",
   "execution_count": null,
   "metadata": {
    "ExecuteTime": {
     "end_time": "2019-11-12T18:08:45.687621Z",
     "start_time": "2019-11-12T18:07:58.272Z"
    },
    "code_folding": [
     0
    ]
   },
   "outputs": [],
   "source": [
    "tuneRandomForestWeighting = function (df.rf.reformat) {\n",
    "\n",
    "    approved.n = seq(\n",
    "        from = 100,\n",
    "        to = 1000,\n",
    "        by = 100\n",
    "    )\n",
    "\n",
    "    oob.error = vector(\n",
    "        length = length(approved.n)\n",
    "    )\n",
    "\n",
    "    container = data.frame(\n",
    "        approved.n,\n",
    "        oob.error\n",
    "    )\n",
    "\n",
    "    for (i in 1:nrow(container)) {\n",
    "\n",
    "        lenderedge.rf.wt = randomForest(\n",
    "            formula = funded ~\n",
    "                click_id +\n",
    "                raw_abaroutingnumber.is.valid +\n",
    "                raw_accountnumber.is.valid +\n",
    "                raw_grossmonthlyincome +\n",
    "                raw_statecode,\n",
    "            data = df.rf.reformat,\n",
    "            mtry = 2,\n",
    "            ntree = 500,\n",
    "            strata = df.rf.reformat$funded,\n",
    "        #     sampsize = ceiling(0.8*nrow(lenderedge.train)),\n",
    "            sampsize = c(\n",
    "                200,                      ##  Denied\n",
    "                container$approved.n[1]   ##  Approved\n",
    "            ),\n",
    "            replace = TRUE,\n",
    "            importance = TRUE\n",
    "        )\n",
    "\n",
    "        container$oob.error[i] = lenderedge.rf.wt$err.rate %>% as.data.frame() %>% summarize(mu = mean(Denied)*mean(Funded)) %>% .$mu\n",
    "    }\n",
    "}\n",
    "lenderedge %>% reformatRandomForest() %>% tuneRandomForestWeighting()"
   ]
  },
  {
   "cell_type": "markdown",
   "metadata": {},
   "source": [
    "# Quin Street 4"
   ]
  },
  {
   "cell_type": "markdown",
   "metadata": {},
   "source": [
    "Proposal:\n",
    "    - In October, CS/SC has tanked, but is slightly offset by improvments in other parts of the funnel.\n",
    "    - In October, Insufficient Income Denials fell, but offset by Incompatible Bank surge.\n",
    "    - Income appears discrete; ignore the value passed in the payload\n",
    "    - Higher GMI correlates with higher FR, but majority of volume is lower GMI.\n",
    "    - See below proposal for Click ID pruning"
   ]
  },
  {
   "cell_type": "code",
   "execution_count": null,
   "metadata": {
    "ExecuteTime": {
     "end_time": "2019-11-14T19:11:40.142707Z",
     "start_time": "2019-11-14T19:11:39.076Z"
    },
    "code_folding": [
     0
    ]
   },
   "outputs": [],
   "source": [
    "writeQuinStreetDF = function () {\n",
    "\n",
    "    quinstreet.comparison = read_csv(\n",
    "            \"..\\\\data\\\\quinstreet4_lead_df.csv\"\n",
    "        ) %>%\n",
    "        formatDataTypes() %>%\n",
    "        compareExtractionToRaw()\n",
    "\n",
    "    quinstreet.response = read_csv(\n",
    "            \"../data/quinstreet4_response_df.csv\"\n",
    "        ) %>% addFeatures()\n",
    "\n",
    "    quinstreet = quinstreet.response %>%\n",
    "        left_join(\n",
    "            quinstreet.comparison,\n",
    "            by = c('lead_id' = 'lead_id')\n",
    "        ) %>%\n",
    "        left_join(\n",
    "            valid.zip,\n",
    "            by = c('zip' = 'zip')\n",
    "        )\n",
    "\n",
    "    quinstreet %>% write.csv(\"../data/quinstreet4_df.csv\")\n",
    "}\n",
    "# writeQuinStreetDF()\n",
    "# quinstreet = read_csv(\"..\\\\data\\\\quinstreet4_df.csv\")\n",
    "theme_set(theme_bw())"
   ]
  },
  {
   "cell_type": "code",
   "execution_count": null,
   "metadata": {
    "ExecuteTime": {
     "end_time": "2019-11-14T19:17:17.072948Z",
     "start_time": "2019-11-14T19:17:17.039Z"
    },
    "code_folding": []
   },
   "outputs": [],
   "source": [
    "# quinstreet %>% getTimeSeriesFunnel(90)\n",
    "# quinstreet %>% getTimeSeriesGMI(0.05)\n",
    "# quinstreet %>% getTimeSeriesOfferAmount(0.1)\n",
    "# quinstreet %>% getTimeSeriesValidBank(30)\n",
    "# quinstreet %>% getTimeSeriesDenialReason(400)"
   ]
  },
  {
   "cell_type": "code",
   "execution_count": null,
   "metadata": {
    "ExecuteTime": {
     "end_time": "2019-11-14T19:03:35.475279Z",
     "start_time": "2019-11-14T19:03:35.442Z"
    }
   },
   "outputs": [],
   "source": [
    "# quinstreet %>% getZipPlotVolume()\n",
    "# quinstreet %>% getZipPlotFunnel(quo(funded), quo(qualified))\n",
    "# quinstreet %>% getZipPlotIncome()\n",
    "# quinstreet %>% getValidZipPlotFunnel(quo(funded), quo(qualified), aspect.ratio = 5)\n",
    "# quinstreet %>% getStatePlotFunnel(quo(funded), quo(qualified), aspect.ratio = 40)\n",
    "# quinstreet %>% getZipGMIPlotFunnel(quo(funded), quo(qualified))\n",
    "# quinstreet %>% getZipDOBPlotFunnel(quo(funded), quo(qualified))\n",
    "# quinstreet %>% getZipDOBPlotFunnel(quo(bankverified), quo(qualified))"
   ]
  },
  {
   "cell_type": "code",
   "execution_count": null,
   "metadata": {
    "ExecuteTime": {
     "end_time": "2019-11-14T19:12:12.183685Z",
     "start_time": "2019-11-14T19:12:12.145Z"
    },
    "scrolled": false
   },
   "outputs": [],
   "source": [
    "# quinstreet %>% getIncomePlotFunnel(quo(funded), quo(qualified), aspect.ratio = 5000)\n",
    "# quinstreet %>% filter(appldate >= '2019-10-01' %>% as.Date()) %>% getGMIPlotDOB(quo(funded), quo(qualified), aspect.ratio = 0.01)\n",
    "# quinstreet %>% getDOBGMITileFunnel(quo(funded), quo(qualified), aspect.ratio = 80)\n",
    "# quinstreet %>% filter(appldate >= '2019-10-01' %>% as.Date()) %>%  getClickIDGMITileFunnel(quo(funded), quo(qualified), aspect.ratio = 350)\n",
    "# quinstreet %>% filter(appldate >= '2019-10-01' %>% as.Date()) %>%  getClickIDGMITileDOB(aspect.ratio = 350)"
   ]
  },
  {
   "cell_type": "code",
   "execution_count": null,
   "metadata": {
    "ExecuteTime": {
     "end_time": "2019-11-14T19:37:02.394836Z",
     "start_time": "2019-11-14T19:37:02.235Z"
    },
    "code_folding": [
     0
    ]
   },
   "outputs": [],
   "source": [
    "## List of Click ID performance!!!!\n",
    "details = quinstreet %>% \n",
    "    filter(\n",
    "        !is.na(accepted) &\n",
    "        appldate >= '2019-10-01' %>% as.Date()\n",
    "    ) %>% \n",
    "    group_by(\n",
    "        click.id = replace_na(click_id %>% as.character(), 'None')\n",
    "    ) %>% \n",
    "    summarize(\n",
    "        leads = n(),\n",
    "        accepts = sum(accepted),\n",
    "        qualified = sum(qualified),\n",
    "        funded = sum(funded),\n",
    "        accept.to.fund = funded/accepts,\n",
    "        funding.rate = funded/qualified\n",
    "    ) %>% \n",
    "    ungroup() %>% \n",
    "    filter(\n",
    "        leads > 10 &\n",
    "        funding.rate < 0.25\n",
    "    ) %>% \n",
    "    arrange(\n",
    "        funding.rate\n",
    "    ) %>% slice(1:15)\n",
    "\n",
    "details\n",
    "\n",
    "quinstreet %>% \n",
    "    filter(\n",
    "        !is.na(accepted) &\n",
    "        appldate >= '2019-10-01' %>% as.Date()\n",
    "    ) %>% \n",
    "    summarize(\n",
    "        leads = n(),\n",
    "        accepts = sum(accepted),\n",
    "        qualified = sum(qualified),\n",
    "        funded = sum(funded),\n",
    "        accept.to.fund = funded/accepts,\n",
    "        funding.rate = funded/qualified\n",
    "    )\n",
    "\n",
    "details %>% \n",
    "    summarize(\n",
    "        leads = sum(leads),\n",
    "        accepts = sum(accepts),\n",
    "        qualified = sum(qualified),\n",
    "        funded = sum(funded),\n",
    "        accept.to.fund = funded/accepts,\n",
    "        funding.rate = funded/qualified\n",
    "    )\n",
    "\n",
    "quinstreet %>% \n",
    "    filter(\n",
    "        !is.na(accepted) &\n",
    "        appldate >= '2019-10-01' %>% as.Date() &\n",
    "        !replace_na(click_id %>% as.character(), 'None') %in% c(\n",
    "            '05669144',\n",
    "            '112267144',\n",
    "            '112554544',\n",
    "            '110359244',\n",
    "            '109852344',\n",
    "            '105949144',\n",
    "            '89046644',\n",
    "            '111448744',\n",
    "            '93684244',\n",
    "            '106602444',\n",
    "            '112806744',\n",
    "            '112328444'\n",
    "        )\n",
    "    ) %>% \n",
    "    summarize(\n",
    "        leads = n(),\n",
    "        accepts = sum(accepted),\n",
    "        qualified = sum(qualified),\n",
    "        funded = sum(funded),\n",
    "        accept.to.fund = funded/accepts,\n",
    "        funding.rate = funded/qualified\n",
    "    )"
   ]
  },
  {
   "cell_type": "code",
   "execution_count": null,
   "metadata": {
    "ExecuteTime": {
     "end_time": "2019-11-14T19:38:39.261247Z",
     "start_time": "2019-11-14T19:38:39.220Z"
    },
    "scrolled": false
   },
   "outputs": [],
   "source": [
    "# quinstreet %>% filter(appldate >= '2019-10-01' %>% as.Date()) %>% getClickIDPlotFunnel(quo(funded), quo(qualified), aspect.ratio = 40)\n",
    "# quinstreet %>% filter(appldate >= '2019-10-01' %>% as.Date()) %>% getClickIDPlotGMI(quo(funded), quo(qualified), aspect.ratio = 0.005)\n",
    "# quinstreet %>% filter(appldate >= '2019-10-01' %>% as.Date()) %>% getClickIDPlotDOB(quo(funded), quo(qualified), aspect.ratio = 40)\n",
    "# quinstreet %>% getClickIDTimeSeries(click.id.vector = c('1716', '1736', '1757'), aspect.ratio = 0.1)"
   ]
  },
  {
   "cell_type": "code",
   "execution_count": null,
   "metadata": {
    "ExecuteTime": {
     "end_time": "2019-11-14T19:39:06.805033Z",
     "start_time": "2019-11-14T19:39:06.768Z"
    },
    "code_folding": [
     0
    ]
   },
   "outputs": [],
   "source": [
    "# quinstreet %>% getDOBPlotFunnel(quo(funded), quo(qualified), aspect.ratio = 150)"
   ]
  },
  {
   "cell_type": "code",
   "execution_count": null,
   "metadata": {
    "ExecuteTime": {
     "end_time": "2019-11-14T19:39:44.326426Z",
     "start_time": "2019-11-14T19:39:44.308Z"
    },
    "scrolled": false
   },
   "outputs": [],
   "source": [
    "# quinstreet %>% getABAPlotFunnel(quo(funded), quo(qualified), aspect.ratio = 10)\n",
    "# quinstreet %>% getAccountNumPlotFunnel(quo(funded), quo(qualified), aspect.ratio = 10)\n",
    "# quinstreet %>% getAccountTypePlotFunnel(quo(funded), quo(qualified), aspect.ratio = 15)\n",
    "# quinstreet %>% getAccountLengthPlotFunnel(quo(funded), quo(qualified), aspect.ratio = 5)"
   ]
  },
  {
   "cell_type": "code",
   "execution_count": null,
   "metadata": {
    "ExecuteTime": {
     "end_time": "2019-11-14T19:40:02.610109Z",
     "start_time": "2019-11-14T19:40:02.578Z"
    }
   },
   "outputs": [],
   "source": [
    "# Exclusing the above Click IDs, run a decision tree!"
   ]
  }
 ],
 "metadata": {
  "kernelspec": {
   "display_name": "R",
   "language": "R",
   "name": "ir"
  },
  "language_info": {
   "codemirror_mode": "r",
   "file_extension": ".r",
   "mimetype": "text/x-r-source",
   "name": "R",
   "pygments_lexer": "r",
   "version": "3.5.2"
  },
  "varInspector": {
   "cols": {
    "lenName": 16,
    "lenType": 16,
    "lenVar": 40
   },
   "kernels_config": {
    "python": {
     "delete_cmd_postfix": "",
     "delete_cmd_prefix": "del ",
     "library": "var_list.py",
     "varRefreshCmd": "print(var_dic_list())"
    },
    "r": {
     "delete_cmd_postfix": ") ",
     "delete_cmd_prefix": "rm(",
     "library": "var_list.r",
     "varRefreshCmd": "cat(var_dic_list()) "
    }
   },
   "types_to_exclude": [
    "module",
    "function",
    "builtin_function_or_method",
    "instance",
    "_Feature"
   ],
   "window_display": false
  }
 },
 "nbformat": 4,
 "nbformat_minor": 2
}
