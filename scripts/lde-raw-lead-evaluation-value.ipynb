{
 "cells": [
  {
   "cell_type": "markdown",
   "metadata": {},
   "source": [
    "# Import Packages"
   ]
  },
  {
   "cell_type": "code",
   "execution_count": null,
   "metadata": {},
   "outputs": [],
   "source": [
    "library(opploansanalytics)\n",
    "load.packages()"
   ]
  },
  {
   "cell_type": "code",
   "execution_count": null,
   "metadata": {},
   "outputs": [],
   "source": [
    "source('lde-raw-lead-validation.r')"
   ]
  },
  {
   "cell_type": "markdown",
   "metadata": {},
   "source": [
    "# Get Data"
   ]
  },
  {
   "cell_type": "code",
   "execution_count": null,
   "metadata": {},
   "outputs": [],
   "source": [
    "### Look at Accepted Lead --> App: What are the ranges in values accepted?"
   ]
  },
  {
   "cell_type": "code",
   "execution_count": null,
   "metadata": {
    "code_folding": [
     0
    ]
   },
   "outputs": [],
   "source": [
    "getPayloadsAll = function (start.date = '2020-01-01', end.date = '2020-02-01', accepted = 'true', partner_id = NA, limit = NA) {\n",
    "    \n",
    "    queryReporting(paste0(\n",
    "    \"\n",
    "    select\n",
    "        lde.lead_id\n",
    "        , lde.lead_time at time zone 'America/Chicago' as lead_time\n",
    "        , c_app.name\n",
    "        , c_app.contact\n",
    "        , c_ofl.email\n",
    "        , c_app.createddate at time zone 'America/Chicago' as appldate\n",
    "        , c_am.name as admethod\n",
    "        , c_am.external_id as partnerid\n",
    "        , lde.raw_lead\n",
    "    from\n",
    "        lde4.leads as lde\n",
    "        inner join\n",
    "            cloudlending.advertising_method as c_am\n",
    "            on lde.partnerid = c_am.external_id\n",
    "            \", ifelse(is.na(partner_id), \"\", paste0(\"and c_am.external_id = \", partner_id)), \"\n",
    "        left join\n",
    "            cloudlending.applications as c_app\n",
    "            on lde.lead_id = c_app.lde4_lead_id\n",
    "        left join\n",
    "            cloudlending.contact as c_ofl\n",
    "            on c_app.contact = c_ofl.id\n",
    "    where\n",
    "        lde.lead_time at time zone 'America/Chicago' >= '\", start.date, \"'::date\n",
    "        and lde.lead_time at time zone 'America/Chicago' < '\", end.date, \"'::date\n",
    "        \", ifelse(is.na(accepted), \"\", paste0(\"and accepted = \", accepted)), \"\n",
    "    \", ifelse(is.na(limit), \"\", paste0(\"limit \", limit))\n",
    "    ))\n",
    "    \n",
    "}"
   ]
  },
  {
   "cell_type": "code",
   "execution_count": null,
   "metadata": {
    "code_folding": [
     0
    ]
   },
   "outputs": [],
   "source": [
    "getRegInputsAll = function (start.date = '2020-01-01', end.date = '2020-02-01', partner_id = NA, limit = NA) {\n",
    "        \n",
    "    raw.query = querySnowflake(paste0(\n",
    "        \"\n",
    "        select\n",
    "            reg.event_id\n",
    "            , reg.session_id\n",
    "            , reg.user_id\n",
    "            , users_.\\\"identity\\\" as contact\n",
    "            , reg.\\\"time\\\"\n",
    "            , reg.email\n",
    "            , reg.partner_id\n",
    "            , reg.neededinputs\n",
    "        from\n",
    "            heap_prod.heap._viewed_lead_registration_ as reg\n",
    "            inner join\n",
    "                ods_prod.cloudlending.advertising_method__c as c_am\n",
    "                on reg.partner_id = c_am.external_id__c\n",
    "                \", ifelse(is.na(partner_id), \"\", paste0(\"and c_am.external_id__c = \", partner_id)), \"\n",
    "            left join\n",
    "                heap_prod.heap.users as users_\n",
    "                on reg.user_id = users_.user_id\n",
    "        where\n",
    "            reg.\\\"time\\\" >= '\", start.date, \"'::date\n",
    "            and reg.\\\"time\\\" < '\", end.date, \"'::date\n",
    "        \", ifelse(is.na(limit), \"\", paste0(\"limit \", limit))\n",
    "    ))\n",
    "    colnames(raw.query) %<>% str_to_lower()\n",
    "    \n",
    "    \n",
    "    raw.query %>%\n",
    "        mutate(\n",
    "            fields = neededinputs %>%\n",
    "                map(\n",
    "                    .f = function (x) {\n",
    "                        x %>%\n",
    "                            str_match_all(\n",
    "                                pattern = regex('registration\\\\[(.*?)\\\\]')\n",
    "                            ) %>%\n",
    "                            .[[1]] %>% .[ ,2]\n",
    "                    }\n",
    "                )\n",
    "        )\n",
    "    \n",
    "    \n",
    "}"
   ]
  },
  {
   "cell_type": "markdown",
   "metadata": {},
   "source": [
    "# Evaluate"
   ]
  },
  {
   "cell_type": "code",
   "execution_count": null,
   "metadata": {},
   "outputs": [],
   "source": [
    "sample.reg = getRegInputsAll(partner_id = 319, limit = NA)"
   ]
  },
  {
   "cell_type": "code",
   "execution_count": null,
   "metadata": {},
   "outputs": [],
   "source": [
    "sample.payloads = getPayloadsAll(partner_id = 319, accepted = TRUE, limit = NA)"
   ]
  },
  {
   "cell_type": "code",
   "execution_count": null,
   "metadata": {},
   "outputs": [],
   "source": [
    "sample.evaluation = \n",
    "    suppressWarnings({\n",
    "        sample.payloads %>% getEvaluationDF()\n",
    "    })"
   ]
  },
  {
   "cell_type": "code",
   "execution_count": null,
   "metadata": {
    "scrolled": true
   },
   "outputs": [],
   "source": [
    "sample.values = \n",
    "    do.call(\n",
    "        rbind,\n",
    "        sample.evaluation %>% .$validate.values %>% keep(.p = function (x) {ncol(x) > 1})\n",
    "    ) %>% \n",
    "    mutate(\n",
    "        value.codes = value.codes %>%\n",
    "            map(\n",
    "                .f = ~ .x %>% max()\n",
    "            ) %>% unlist()\n",
    "    )"
   ]
  },
  {
   "cell_type": "markdown",
   "metadata": {},
   "source": [
    "### Int - Looks fine"
   ]
  },
  {
   "cell_type": "code",
   "execution_count": null,
   "metadata": {},
   "outputs": [],
   "source": [
    "sample.values.summary.int =\n",
    "    sample.values %>%\n",
    "        group_by(\n",
    "            key,\n",
    "            value.codes,\n",
    "            value\n",
    "        ) %>% \n",
    "        summarize(\n",
    "            count = n()\n",
    "        ) %>% \n",
    "        ungroup() %>% \n",
    "        filter(\n",
    "            key %in% c(\n",
    "                'accountType',\n",
    "#                 'accountLength',\n",
    "                'payrollFrequency'\n",
    "            )\n",
    "        ) %>% \n",
    "        arrange(\n",
    "            key,\n",
    "            value.codes %>% desc(),\n",
    "            count %>% desc()\n",
    "        )\n",
    "sample.values.summary.int"
   ]
  },
  {
   "cell_type": "markdown",
   "metadata": {},
   "source": [
    "### String"
   ]
  },
  {
   "cell_type": "code",
   "execution_count": null,
   "metadata": {},
   "outputs": [],
   "source": [
    "sample.values.summary.str =\n",
    "    sample.values %>%\n",
    "        group_by(\n",
    "            key,\n",
    "            value\n",
    "        ) %>% \n",
    "        summarize(\n",
    "            count = n()\n",
    "        ) %>% \n",
    "        ungroup() %>% \n",
    "        filter(\n",
    "            key %in% c(\n",
    "                'coutnryCode',\n",
    "                'incomeType',\n",
    "                'payrollType'\n",
    "            )\n",
    "        ) %>% \n",
    "        arrange(\n",
    "            key,\n",
    "            count %>% desc()\n",
    "        )\n",
    "sample.values.summary.str"
   ]
  },
  {
   "cell_type": "markdown",
   "metadata": {},
   "source": [
    "##### Income Type - Reprompted if not in CL: Looks fine"
   ]
  },
  {
   "cell_type": "code",
   "execution_count": null,
   "metadata": {},
   "outputs": [],
   "source": [
    "income.types.cl =\n",
    "    queryReporting(\n",
    "        \"\n",
    "        select\n",
    "            income_type\n",
    "            , count(*)\n",
    "        from\n",
    "            cloudlending.employment_information\n",
    "        where\n",
    "            createddate >= '2020-01-01'::date\n",
    "        group by\n",
    "            1\n",
    "        order by\n",
    "            2 desc\n",
    "        \"\n",
    "    ) %>%\n",
    "    .$income_type"
   ]
  },
  {
   "cell_type": "code",
   "execution_count": null,
   "metadata": {
    "scrolled": false
   },
   "outputs": [],
   "source": [
    "sample.income.types =\n",
    "    sample.evaluation %>%\n",
    "        filter(\n",
    "            validate.values %>% map(ncol) %>% unlist() > 1\n",
    "        ) %>% \n",
    "        mutate(\n",
    "            income.type = validate.values %>%\n",
    "                map(\n",
    "                    .f = function (x) {\n",
    "                        x %>% \n",
    "                            filter(\n",
    "                                key == 'incomeType'\n",
    "                            ) %>% \n",
    "                            .$value\n",
    "                    }\n",
    "                ),\n",
    "            income.type.in.cl = income.type %>% \n",
    "                str_match(\n",
    "                    regex('^\\\\\\\"(.*)\\\\\\\"$')\n",
    "                ) %>% .[ ,2]\n",
    "        ) %>% \n",
    "        filter(\n",
    "            ! income.type.in.cl %in% income.types.cl\n",
    "        )"
   ]
  },
  {
   "cell_type": "code",
   "execution_count": null,
   "metadata": {},
   "outputs": [],
   "source": [
    "sample.joined =\n",
    "    sample.income.types %>%\n",
    "        inner_join(\n",
    "            sample.reg %>%\n",
    "                group_by(\n",
    "                    email\n",
    "                ) %>% \n",
    "                mutate(\n",
    "                    occurrences = n()\n",
    "                ) %>% \n",
    "                ungroup() %>% \n",
    "                filter(\n",
    "                    occurrences == 1\n",
    "                ),\n",
    "            by = 'email'\n",
    "        ) %>% \n",
    "        mutate(\n",
    "            input.income.type = fields %>% \n",
    "                map(\n",
    "                    ~ 'income_type' %in% .x\n",
    "                ) %>% unlist()\n",
    "        )"
   ]
  },
  {
   "cell_type": "code",
   "execution_count": null,
   "metadata": {},
   "outputs": [],
   "source": [
    "sample.joined %>% \n",
    "    group_by(\n",
    "        input.income.type\n",
    "    ) %>% \n",
    "    summarize(\n",
    "        n()\n",
    "    )"
   ]
  },
  {
   "cell_type": "markdown",
   "metadata": {},
   "source": [
    "##### Payroll Type - Reprompted if not in CL: Looks fine"
   ]
  },
  {
   "cell_type": "code",
   "execution_count": null,
   "metadata": {},
   "outputs": [],
   "source": [
    "payroll.types.cl =\n",
    "    queryReporting(\n",
    "        \"\n",
    "        select\n",
    "            payroll_type\n",
    "            , count(*)\n",
    "        from\n",
    "            cloudlending.employment_information\n",
    "        where\n",
    "            createddate >= '2020-01-01'::date\n",
    "        group by\n",
    "            1\n",
    "        order by\n",
    "            2 desc\n",
    "        \"\n",
    "    ) %>%\n",
    "    filter(\n",
    "        !is.na(payroll_type)\n",
    "    ) %>% \n",
    "    .$payroll_type"
   ]
  },
  {
   "cell_type": "code",
   "execution_count": null,
   "metadata": {
    "scrolled": false
   },
   "outputs": [],
   "source": [
    "sample.payroll.types =\n",
    "    sample.evaluation %>%\n",
    "        filter(\n",
    "            validate.values %>% map(ncol) %>% unlist() > 1\n",
    "        ) %>% \n",
    "        mutate(\n",
    "            payroll.type = validate.values %>%\n",
    "                map(\n",
    "                    .f = function (x) {\n",
    "                        x %>% \n",
    "                            filter(\n",
    "                                key == 'payrollType'\n",
    "                            ) %>% \n",
    "                            .$value\n",
    "                    }\n",
    "                ),\n",
    "            payroll.type.in.cl = payroll.type %>% \n",
    "                str_match(\n",
    "                    regex('^\\\\\\\"(.*)\\\\\\\"$')\n",
    "                ) %>% .[ ,2]\n",
    "        ) %>% \n",
    "        filter(\n",
    "            ! payroll.type.in.cl %in% c(payroll.types.cl, 'DirectDeposit')\n",
    "        )"
   ]
  },
  {
   "cell_type": "code",
   "execution_count": null,
   "metadata": {},
   "outputs": [],
   "source": [
    "sample.joined =\n",
    "    sample.payroll.types %>%\n",
    "        inner_join(\n",
    "            sample.reg %>%\n",
    "                group_by(\n",
    "                    email\n",
    "                ) %>% \n",
    "                mutate(\n",
    "                    occurrences = n()\n",
    "                ) %>% \n",
    "                ungroup() %>% \n",
    "                filter(\n",
    "                    occurrences == 1\n",
    "                ),\n",
    "            by = 'email'\n",
    "        ) %>% \n",
    "        mutate(\n",
    "            input.payroll.type = fields %>% \n",
    "                map(\n",
    "                    ~ 'payroll_type' %in% .x\n",
    "                ) %>% unlist()\n",
    "        )"
   ]
  },
  {
   "cell_type": "code",
   "execution_count": null,
   "metadata": {},
   "outputs": [],
   "source": [
    "sample.joined %>% \n",
    "    group_by(\n",
    "        input.payroll.type\n",
    "    ) %>% \n",
    "    summarize(\n",
    "        n()\n",
    "    )"
   ]
  },
  {
   "cell_type": "code",
   "execution_count": null,
   "metadata": {},
   "outputs": [],
   "source": []
  },
  {
   "cell_type": "code",
   "execution_count": null,
   "metadata": {},
   "outputs": [],
   "source": []
  }
 ],
 "metadata": {
  "kernelspec": {
   "display_name": "R",
   "language": "R",
   "name": "ir"
  },
  "language_info": {
   "codemirror_mode": "r",
   "file_extension": ".r",
   "mimetype": "text/x-r-source",
   "name": "R",
   "pygments_lexer": "r",
   "version": "3.5.2"
  }
 },
 "nbformat": 4,
 "nbformat_minor": 2
}
